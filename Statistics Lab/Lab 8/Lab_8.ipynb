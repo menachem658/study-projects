{
  "nbformat": 4,
  "nbformat_minor": 0,
  "metadata": {
    "colab": {
      "name": "Lab 8.ipynb",
      "provenance": [],
      "collapsed_sections": []
    },
    "kernelspec": {
      "name": "python3",
      "display_name": "Python 3"
    },
    "language_info": {
      "name": "python"
    }
  },
  "cells": [
    {
      "cell_type": "markdown",
      "source": [
        "**Statistics Lab 52568 - Lab 8**\n",
        "\n",
        "Idan Keipour 315355537\n",
        "\n",
        "Menachem Sokolik 314696972\n",
        "\n",
        "Maria Mordvova 345232821"
      ],
      "metadata": {
        "id": "b-IfsSWuBPYe"
      }
    },
    {
      "cell_type": "code",
      "source": [
        "import numpy as np  # a module for working with numerical array \n",
        "import pandas as pd  # a module for working with data-frames\n",
        "from matplotlib import pyplot as plt\n",
        "import random\n",
        "import statsmodels.api as sm\n",
        "from sklearn.decomposition import PCA\n",
        "from matplotlib.pyplot import figure \n",
        "from functools import partialmethod \n",
        "from sklearn.preprocessing import normalize\n",
        "import io\n",
        "from sklearn import preprocessing\n",
        "\n"
      ],
      "metadata": {
        "id": "LN8GPm7xBacG",
        "colab": {
          "base_uri": "https://localhost:8080/"
        },
        "outputId": "cd082de8-cc14-4530-91d0-8529119e02bb"
      },
      "execution_count": null,
      "outputs": [
        {
          "output_type": "stream",
          "name": "stderr",
          "text": [
            "/usr/local/lib/python3.7/dist-packages/statsmodels/tools/_testing.py:19: FutureWarning: pandas.util.testing is deprecated. Use the functions in the public API at pandas.testing instead.\n",
            "  import pandas.util.testing as tm\n"
          ]
        }
      ]
    },
    {
      "cell_type": "code",
      "source": [
        "# Add a check if we run in google colab or locally in jupyter notebook\n",
        "run_in_colab = False\n",
        "if 'google.colab' in str(get_ipython()):\n",
        "    run_in_colab = True\n",
        "    print('Running on CoLab')\n",
        "else:\n",
        "    print('Running locally on Jupyter')\n",
        "\n",
        "# Mount drive in google colab\n",
        "if run_in_colab:\n",
        "    from google.colab import drive\n",
        "    drive.mount('/content/drive')\n",
        "else:  # Set local path \n",
        "    data_path = \"C:/Users/menac/OneDrive/Desktop/52568 STATISTICS LAB/LAB2\""
      ],
      "metadata": {
        "colab": {
          "base_uri": "https://localhost:8080/"
        },
        "id": "157QnkLFBr7v",
        "outputId": "9d09784f-e067-4e0c-e4f2-e73f312beaa1"
      },
      "execution_count": null,
      "outputs": [
        {
          "output_type": "stream",
          "name": "stdout",
          "text": [
            "Running on CoLab\n",
            "Mounted at /content/drive\n"
          ]
        }
      ]
    },
    {
      "cell_type": "code",
      "source": [
        "# Loading elections 2021 elections data - ballot:\n",
        "if run_in_colab:\n",
        "    from google.colab import files\n",
        "    uploaded = files.upload()"
      ],
      "metadata": {
        "colab": {
          "resources": {
            "http://localhost:8080/nbextensions/google.colab/files.js": {
              "data": "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",
              "ok": true,
              "headers": [
                [
                  "content-type",
                  "application/javascript"
                ]
              ],
              "status": 200,
              "status_text": ""
            }
          },
          "base_uri": "https://localhost:8080/",
          "height": 246
        },
        "id": "Q-1AyZnaB7Rq",
        "outputId": "d44afe5f-aaf4-40ff-93db-567a188e202c"
      },
      "execution_count": null,
      "outputs": [
        {
          "output_type": "display_data",
          "data": {
            "text/html": [
              "\n",
              "     <input type=\"file\" id=\"files-7e1e4d61-9870-474b-a157-7be2e6ebc18d\" name=\"files[]\" multiple disabled\n",
              "        style=\"border:none\" />\n",
              "     <output id=\"result-7e1e4d61-9870-474b-a157-7be2e6ebc18d\">\n",
              "      Upload widget is only available when the cell has been executed in the\n",
              "      current browser session. Please rerun this cell to enable.\n",
              "      </output>\n",
              "      <script src=\"/nbextensions/google.colab/files.js\"></script> "
            ],
            "text/plain": [
              "<IPython.core.display.HTML object>"
            ]
          },
          "metadata": {}
        },
        {
          "output_type": "stream",
          "name": "stdout",
          "text": [
            "Saving votes per ballot 2020.csv to votes per ballot 2020 (1).csv\n",
            "Saving votes per city 2020.csv to votes per city 2020 (1).csv\n",
            "Saving votes per ballot 2021.csv to votes per ballot 2021 (1).csv\n",
            "Saving votes per city 2021.csv to votes per city 2021 (1).csv\n",
            "Saving eshkol_hevrati_calcali.xlsx to eshkol_hevrati_calcali.xlsx\n",
            "Saving eshkol_hevrati_calcali.csv to eshkol_hevrati_calcali (1).csv\n"
          ]
        }
      ]
    },
    {
      "cell_type": "code",
      "source": [
        "df_2021_city_raw = pd.read_csv(io.BytesIO(uploaded['votes per city 2021.csv']),  encoding = 'iso-8859-8',index_col='שם ישוב') # loading cities data\n",
        "df_2021_city_raw = df_2021_city_raw[df_2021_city_raw.index != 'מעטפות חיצוניות'] # dropping out מעטפות חיצוניות\n",
        "df_2021_city = df_2021_city_raw.drop('סמל ועדה', axis=1) # new column added in Sep 2019\n",
        "df_2021_city = df_2021_city[df_2021_city.columns[5:-1]] # removing \"metadata\" columns\n",
        "\n",
        "df_2021_ballots_raw = pd.read_csv(io.BytesIO(uploaded['votes per ballot 2021.csv']),  encoding = 'iso-8859-8',index_col='שם ישוב') # loading cities data\n",
        "df_2021_ballots = df_2021_ballots_raw.drop('סמל ועדה', axis=1) # new column added in Sep 2021\n",
        "df_2021_ballots = df_2021_ballots[df_2021_ballots.columns[9:-1]] # removing \"metadata\" columns\n",
        "\n",
        "parties_dict_2021 ={'אמת' : \"עבודה\", 'מרצ' : \"מרצ\",  'ג' : \"יהדות התורה\", 'עם'  : \"רעם\",  'ת'  : \"תקוה חדשה\", 'ודעם'  : \"הרשימה המשותפת\", 'ב'  : \"ימינה\", 'ט'  : \"הציונות הדתית\",\n",
        " 'ל'  : \"ישראל ביתנו\", 'מחל'  : \"הליכוד\",  'פה'  : \"יש עתיד\", 'כן'  : \"כחול לבן\", 'שס'  : \"שס\"}\n",
        "\n",
        "df_2020_city_raw = pd.read_csv(io.BytesIO(uploaded['votes per city 2020.csv']),  encoding = 'iso-8859-8',index_col='שם ישוב') # loading data of 2020\n",
        "df_2020_city = df_2020_city_raw[df_2020_city_raw.columns[6:-1]] # removing \"metadata\" columns\n",
        "df_2020_ballots_raw_ = pd.read_csv(io.BytesIO(uploaded['votes per ballot 2020.csv']),  encoding = 'iso-8859-8',index_col='שם ישוב') # loading cities data\n",
        "df_2020_ballots_ = df_2020_ballots_raw_.drop('סמל ועדה', axis=1) # new column added in Sep 2021\n"
      ],
      "metadata": {
        "id": "5Nd8hHfLB_DN"
      },
      "execution_count": null,
      "outputs": []
    },
    {
      "cell_type": "code",
      "source": [
        "# Compute votes share only for parties above a certain threshold \n",
        "def parties_votes_percents(df, thresh):\n",
        "    par = df.sum().div(df.sum().sum()).sort_values(ascending=False)\n",
        "    return par[par > thresh]\n",
        "\n",
        "real_p = parties_votes_percents(df_2021_ballots, 0.035)  # total votes for each party\n",
        "names = real_p.keys() # 13 parties\n"
      ],
      "metadata": {
        "id": "Qe55ooMXFbdv"
      },
      "execution_count": null,
      "outputs": []
    },
    {
      "cell_type": "code",
      "source": [
        "df_2021 = df_2021_ballots[names]\n",
        "df_2021 = df_2021[df_2021.index != 'מעטפות חיצוניות'] "
      ],
      "metadata": {
        "id": "ryMK6jNxCxAI"
      },
      "execution_count": null,
      "outputs": []
    },
    {
      "cell_type": "code",
      "source": [
        "df_of_p = pd.DataFrame(pd.np.empty([0, 0])) #In this df we insert the value of \"p\" for every simulation\n",
        "for i in range(100):\n",
        "  midgam = df_2021.sample(n=7)\n",
        "  p = parties_votes_percents(midgam, 0) \n",
        "  df_of_p = df_of_p.append(p, ignore_index = True)\n",
        "\n",
        "p_midgam = df_of_p.mean(axis = 0).to_frame().T"
      ],
      "metadata": {
        "colab": {
          "base_uri": "https://localhost:8080/"
        },
        "id": "HB59NzeVFoZf",
        "outputId": "91384823-e1ca-472d-995e-468b805f9fa0"
      },
      "execution_count": null,
      "outputs": [
        {
          "output_type": "stream",
          "name": "stderr",
          "text": [
            "/usr/local/lib/python3.7/dist-packages/ipykernel_launcher.py:1: FutureWarning: The pandas.np module is deprecated and will be removed from pandas in a future version. Import numpy directly instead\n",
            "  \"\"\"Entry point for launching an IPython kernel.\n"
          ]
        }
      ]
    },
    {
      "cell_type": "markdown",
      "source": [
        ":כעת נחשב את האומדים מתוך הפונקציה שיצרנו"
      ],
      "metadata": {
        "id": "vWp0ruURLRKO"
      }
    },
    {
      "cell_type": "code",
      "source": [
        "bias = p_midgam - real_p\n",
        "variance = df_of_p.var(axis = 0).to_frame().T\n",
        "mse = bias**2 + variance\n",
        "result = pd.concat([bias,variance,mse])\n",
        "result.index = [\"Bias\",\"Variance\",\"MSE\"]\n",
        "result = result.rename(columns = parties_dict_2021)\n",
        "result"
      ],
      "metadata": {
        "colab": {
          "base_uri": "https://localhost:8080/",
          "height": 143
        },
        "id": "VqikSmz0KlfI",
        "outputId": "25eb181d-8e99-4c31-de28-75b0cffd68af"
      },
      "execution_count": null,
      "outputs": [
        {
          "output_type": "execute_result",
          "data": {
            "text/html": [
              "\n",
              "  <div id=\"df-0325d841-22d2-4cdc-975d-0ea3bf8bfce6\">\n",
              "    <div class=\"colab-df-container\">\n",
              "      <div>\n",
              "<style scoped>\n",
              "    .dataframe tbody tr th:only-of-type {\n",
              "        vertical-align: middle;\n",
              "    }\n",
              "\n",
              "    .dataframe tbody tr th {\n",
              "        vertical-align: top;\n",
              "    }\n",
              "\n",
              "    .dataframe thead th {\n",
              "        text-align: right;\n",
              "    }\n",
              "</style>\n",
              "<table border=\"1\" class=\"dataframe\">\n",
              "  <thead>\n",
              "    <tr style=\"text-align: right;\">\n",
              "      <th></th>\n",
              "      <th>עבודה</th>\n",
              "      <th>ימינה</th>\n",
              "      <th>יהדות התורה</th>\n",
              "      <th>הרשימה המשותפת</th>\n",
              "      <th>הציונות הדתית</th>\n",
              "      <th>כחול לבן</th>\n",
              "      <th>ישראל ביתנו</th>\n",
              "      <th>הליכוד</th>\n",
              "      <th>מרצ</th>\n",
              "      <th>רעם</th>\n",
              "      <th>יש עתיד</th>\n",
              "      <th>שס</th>\n",
              "      <th>תקוה חדשה</th>\n",
              "    </tr>\n",
              "  </thead>\n",
              "  <tbody>\n",
              "    <tr>\n",
              "      <th>Bias</th>\n",
              "      <td>-0.001633</td>\n",
              "      <td>-0.005067</td>\n",
              "      <td>0.001465</td>\n",
              "      <td>0.001740</td>\n",
              "      <td>-0.003125</td>\n",
              "      <td>0.002701</td>\n",
              "      <td>0.005190</td>\n",
              "      <td>0.005916</td>\n",
              "      <td>-0.002113</td>\n",
              "      <td>0.017892</td>\n",
              "      <td>0.006853</td>\n",
              "      <td>-0.002962</td>\n",
              "      <td>0.000423</td>\n",
              "    </tr>\n",
              "    <tr>\n",
              "      <th>Variance</th>\n",
              "      <td>0.000742</td>\n",
              "      <td>0.000453</td>\n",
              "      <td>0.005276</td>\n",
              "      <td>0.002292</td>\n",
              "      <td>0.001174</td>\n",
              "      <td>0.000506</td>\n",
              "      <td>0.000743</td>\n",
              "      <td>0.003703</td>\n",
              "      <td>0.000512</td>\n",
              "      <td>0.003213</td>\n",
              "      <td>0.001875</td>\n",
              "      <td>0.001541</td>\n",
              "      <td>0.000114</td>\n",
              "    </tr>\n",
              "    <tr>\n",
              "      <th>MSE</th>\n",
              "      <td>0.000745</td>\n",
              "      <td>0.000478</td>\n",
              "      <td>0.005278</td>\n",
              "      <td>0.002295</td>\n",
              "      <td>0.001184</td>\n",
              "      <td>0.000514</td>\n",
              "      <td>0.000770</td>\n",
              "      <td>0.003738</td>\n",
              "      <td>0.000516</td>\n",
              "      <td>0.003533</td>\n",
              "      <td>0.001922</td>\n",
              "      <td>0.001550</td>\n",
              "      <td>0.000114</td>\n",
              "    </tr>\n",
              "  </tbody>\n",
              "</table>\n",
              "</div>\n",
              "      <button class=\"colab-df-convert\" onclick=\"convertToInteractive('df-0325d841-22d2-4cdc-975d-0ea3bf8bfce6')\"\n",
              "              title=\"Convert this dataframe to an interactive table.\"\n",
              "              style=\"display:none;\">\n",
              "        \n",
              "  <svg xmlns=\"http://www.w3.org/2000/svg\" height=\"24px\"viewBox=\"0 0 24 24\"\n",
              "       width=\"24px\">\n",
              "    <path d=\"M0 0h24v24H0V0z\" fill=\"none\"/>\n",
              "    <path d=\"M18.56 5.44l.94 2.06.94-2.06 2.06-.94-2.06-.94-.94-2.06-.94 2.06-2.06.94zm-11 1L8.5 8.5l.94-2.06 2.06-.94-2.06-.94L8.5 2.5l-.94 2.06-2.06.94zm10 10l.94 2.06.94-2.06 2.06-.94-2.06-.94-.94-2.06-.94 2.06-2.06.94z\"/><path d=\"M17.41 7.96l-1.37-1.37c-.4-.4-.92-.59-1.43-.59-.52 0-1.04.2-1.43.59L10.3 9.45l-7.72 7.72c-.78.78-.78 2.05 0 2.83L4 21.41c.39.39.9.59 1.41.59.51 0 1.02-.2 1.41-.59l7.78-7.78 2.81-2.81c.8-.78.8-2.07 0-2.86zM5.41 20L4 18.59l7.72-7.72 1.47 1.35L5.41 20z\"/>\n",
              "  </svg>\n",
              "      </button>\n",
              "      \n",
              "  <style>\n",
              "    .colab-df-container {\n",
              "      display:flex;\n",
              "      flex-wrap:wrap;\n",
              "      gap: 12px;\n",
              "    }\n",
              "\n",
              "    .colab-df-convert {\n",
              "      background-color: #E8F0FE;\n",
              "      border: none;\n",
              "      border-radius: 50%;\n",
              "      cursor: pointer;\n",
              "      display: none;\n",
              "      fill: #1967D2;\n",
              "      height: 32px;\n",
              "      padding: 0 0 0 0;\n",
              "      width: 32px;\n",
              "    }\n",
              "\n",
              "    .colab-df-convert:hover {\n",
              "      background-color: #E2EBFA;\n",
              "      box-shadow: 0px 1px 2px rgba(60, 64, 67, 0.3), 0px 1px 3px 1px rgba(60, 64, 67, 0.15);\n",
              "      fill: #174EA6;\n",
              "    }\n",
              "\n",
              "    [theme=dark] .colab-df-convert {\n",
              "      background-color: #3B4455;\n",
              "      fill: #D2E3FC;\n",
              "    }\n",
              "\n",
              "    [theme=dark] .colab-df-convert:hover {\n",
              "      background-color: #434B5C;\n",
              "      box-shadow: 0px 1px 3px 1px rgba(0, 0, 0, 0.15);\n",
              "      filter: drop-shadow(0px 1px 2px rgba(0, 0, 0, 0.3));\n",
              "      fill: #FFFFFF;\n",
              "    }\n",
              "  </style>\n",
              "\n",
              "      <script>\n",
              "        const buttonEl =\n",
              "          document.querySelector('#df-0325d841-22d2-4cdc-975d-0ea3bf8bfce6 button.colab-df-convert');\n",
              "        buttonEl.style.display =\n",
              "          google.colab.kernel.accessAllowed ? 'block' : 'none';\n",
              "\n",
              "        async function convertToInteractive(key) {\n",
              "          const element = document.querySelector('#df-0325d841-22d2-4cdc-975d-0ea3bf8bfce6');\n",
              "          const dataTable =\n",
              "            await google.colab.kernel.invokeFunction('convertToInteractive',\n",
              "                                                     [key], {});\n",
              "          if (!dataTable) return;\n",
              "\n",
              "          const docLinkHtml = 'Like what you see? Visit the ' +\n",
              "            '<a target=\"_blank\" href=https://colab.research.google.com/notebooks/data_table.ipynb>data table notebook</a>'\n",
              "            + ' to learn more about interactive tables.';\n",
              "          element.innerHTML = '';\n",
              "          dataTable['output_type'] = 'display_data';\n",
              "          await google.colab.output.renderOutput(dataTable, element);\n",
              "          const docLink = document.createElement('div');\n",
              "          docLink.innerHTML = docLinkHtml;\n",
              "          element.appendChild(docLink);\n",
              "        }\n",
              "      </script>\n",
              "    </div>\n",
              "  </div>\n",
              "  "
            ],
            "text/plain": [
              "             עבודה     ימינה  יהדות התורה  ...   יש עתיד        שס  תקוה חדשה\n",
              "Bias     -0.001633 -0.005067     0.001465  ...  0.006853 -0.002962   0.000423\n",
              "Variance  0.000742  0.000453     0.005276  ...  0.001875  0.001541   0.000114\n",
              "MSE       0.000745  0.000478     0.005278  ...  0.001922  0.001550   0.000114\n",
              "\n",
              "[3 rows x 13 columns]"
            ]
          },
          "metadata": {},
          "execution_count": 8
        }
      ]
    },
    {
      "cell_type": "code",
      "source": [
        "def party_bar_fix(p,p_sd):\n",
        "    width = 0.25\n",
        "    n = 13  \n",
        "    rev_names = [parties_dict_2021[name][::-1] for name in list(names)]\n",
        "    fig, ax = plt.subplots()\n",
        "    p_bar = ax.bar(np.arange(n)+ width, list(p.loc[0,names]),yerr= p_sd , align='center', alpha=0.5, ecolor='black', capsize=5, width=0.25, color='b')\n",
        "    ax.set_ylabel('% of votes')\n",
        "    ax.set_xlabel('Parties Names')\n",
        "    ax.set_title('% of votes per party (sample)')\n",
        "    ax.set_xticks(np.arange(n))\n",
        "    ax.set_xticklabels(rev_names,rotation=-90)\n",
        "    ax.legend((p_bar), (['votes percent']))\n",
        "\n",
        "    plt.show()\n",
        "\n",
        "    return fig, ax,\n",
        "\n",
        "party_bar_fix(p_midgam,(variance**0.5).loc[0,names])"
      ],
      "metadata": {
        "id": "-5OV1844OqnM",
        "colab": {
          "base_uri": "https://localhost:8080/",
          "height": 401
        },
        "outputId": "24f8f931-4077-4bf5-ffb2-58461a32ba91"
      },
      "execution_count": null,
      "outputs": [
        {
          "output_type": "display_data",
          "data": {
            "image/png": "[encoded data removed]",
            "text/plain": [
              "<Figure size 432x288 with 1 Axes>"
            ]
          },
          "metadata": {
            "needs_background": "light"
          }
        },
        {
          "output_type": "execute_result",
          "data": {
            "text/plain": [
              "(<Figure size 432x288 with 1 Axes>,\n",
              " <matplotlib.axes._subplots.AxesSubplot at 0x7fcaa7631e10>)"
            ]
          },
          "metadata": {},
          "execution_count": 9
        }
      ]
    },
    {
      "cell_type": "code",
      "source": [
        "small_parties_var = result.iloc[1,[0,1,2,3,4,6,8,12]].to_frame()\n",
        "small_parties_var.T"
      ],
      "metadata": {
        "colab": {
          "base_uri": "https://localhost:8080/",
          "height": 81
        },
        "id": "Vwqs63_thsAI",
        "outputId": "f5167bf1-0c0e-4197-ba22-04ab94678fe4"
      },
      "execution_count": null,
      "outputs": [
        {
          "output_type": "execute_result",
          "data": {
            "text/html": [
              "\n",
              "  <div id=\"df-9606992e-2e4a-4226-8dc8-5eba6ae58c7a\">\n",
              "    <div class=\"colab-df-container\">\n",
              "      <div>\n",
              "<style scoped>\n",
              "    .dataframe tbody tr th:only-of-type {\n",
              "        vertical-align: middle;\n",
              "    }\n",
              "\n",
              "    .dataframe tbody tr th {\n",
              "        vertical-align: top;\n",
              "    }\n",
              "\n",
              "    .dataframe thead th {\n",
              "        text-align: right;\n",
              "    }\n",
              "</style>\n",
              "<table border=\"1\" class=\"dataframe\">\n",
              "  <thead>\n",
              "    <tr style=\"text-align: right;\">\n",
              "      <th></th>\n",
              "      <th>עבודה</th>\n",
              "      <th>ימינה</th>\n",
              "      <th>יהדות התורה</th>\n",
              "      <th>הרשימה המשותפת</th>\n",
              "      <th>הציונות הדתית</th>\n",
              "      <th>ישראל ביתנו</th>\n",
              "      <th>מרצ</th>\n",
              "      <th>תקוה חדשה</th>\n",
              "    </tr>\n",
              "  </thead>\n",
              "  <tbody>\n",
              "    <tr>\n",
              "      <th>Variance</th>\n",
              "      <td>0.000742</td>\n",
              "      <td>0.000453</td>\n",
              "      <td>0.005276</td>\n",
              "      <td>0.002292</td>\n",
              "      <td>0.001174</td>\n",
              "      <td>0.000743</td>\n",
              "      <td>0.000512</td>\n",
              "      <td>0.000114</td>\n",
              "    </tr>\n",
              "  </tbody>\n",
              "</table>\n",
              "</div>\n",
              "      <button class=\"colab-df-convert\" onclick=\"convertToInteractive('df-9606992e-2e4a-4226-8dc8-5eba6ae58c7a')\"\n",
              "              title=\"Convert this dataframe to an interactive table.\"\n",
              "              style=\"display:none;\">\n",
              "        \n",
              "  <svg xmlns=\"http://www.w3.org/2000/svg\" height=\"24px\"viewBox=\"0 0 24 24\"\n",
              "       width=\"24px\">\n",
              "    <path d=\"M0 0h24v24H0V0z\" fill=\"none\"/>\n",
              "    <path d=\"M18.56 5.44l.94 2.06.94-2.06 2.06-.94-2.06-.94-.94-2.06-.94 2.06-2.06.94zm-11 1L8.5 8.5l.94-2.06 2.06-.94-2.06-.94L8.5 2.5l-.94 2.06-2.06.94zm10 10l.94 2.06.94-2.06 2.06-.94-2.06-.94-.94-2.06-.94 2.06-2.06.94z\"/><path d=\"M17.41 7.96l-1.37-1.37c-.4-.4-.92-.59-1.43-.59-.52 0-1.04.2-1.43.59L10.3 9.45l-7.72 7.72c-.78.78-.78 2.05 0 2.83L4 21.41c.39.39.9.59 1.41.59.51 0 1.02-.2 1.41-.59l7.78-7.78 2.81-2.81c.8-.78.8-2.07 0-2.86zM5.41 20L4 18.59l7.72-7.72 1.47 1.35L5.41 20z\"/>\n",
              "  </svg>\n",
              "      </button>\n",
              "      \n",
              "  <style>\n",
              "    .colab-df-container {\n",
              "      display:flex;\n",
              "      flex-wrap:wrap;\n",
              "      gap: 12px;\n",
              "    }\n",
              "\n",
              "    .colab-df-convert {\n",
              "      background-color: #E8F0FE;\n",
              "      border: none;\n",
              "      border-radius: 50%;\n",
              "      cursor: pointer;\n",
              "      display: none;\n",
              "      fill: #1967D2;\n",
              "      height: 32px;\n",
              "      padding: 0 0 0 0;\n",
              "      width: 32px;\n",
              "    }\n",
              "\n",
              "    .colab-df-convert:hover {\n",
              "      background-color: #E2EBFA;\n",
              "      box-shadow: 0px 1px 2px rgba(60, 64, 67, 0.3), 0px 1px 3px 1px rgba(60, 64, 67, 0.15);\n",
              "      fill: #174EA6;\n",
              "    }\n",
              "\n",
              "    [theme=dark] .colab-df-convert {\n",
              "      background-color: #3B4455;\n",
              "      fill: #D2E3FC;\n",
              "    }\n",
              "\n",
              "    [theme=dark] .colab-df-convert:hover {\n",
              "      background-color: #434B5C;\n",
              "      box-shadow: 0px 1px 3px 1px rgba(0, 0, 0, 0.15);\n",
              "      filter: drop-shadow(0px 1px 2px rgba(0, 0, 0, 0.3));\n",
              "      fill: #FFFFFF;\n",
              "    }\n",
              "  </style>\n",
              "\n",
              "      <script>\n",
              "        const buttonEl =\n",
              "          document.querySelector('#df-9606992e-2e4a-4226-8dc8-5eba6ae58c7a button.colab-df-convert');\n",
              "        buttonEl.style.display =\n",
              "          google.colab.kernel.accessAllowed ? 'block' : 'none';\n",
              "\n",
              "        async function convertToInteractive(key) {\n",
              "          const element = document.querySelector('#df-9606992e-2e4a-4226-8dc8-5eba6ae58c7a');\n",
              "          const dataTable =\n",
              "            await google.colab.kernel.invokeFunction('convertToInteractive',\n",
              "                                                     [key], {});\n",
              "          if (!dataTable) return;\n",
              "\n",
              "          const docLinkHtml = 'Like what you see? Visit the ' +\n",
              "            '<a target=\"_blank\" href=https://colab.research.google.com/notebooks/data_table.ipynb>data table notebook</a>'\n",
              "            + ' to learn more about interactive tables.';\n",
              "          element.innerHTML = '';\n",
              "          dataTable['output_type'] = 'display_data';\n",
              "          await google.colab.output.renderOutput(dataTable, element);\n",
              "          const docLink = document.createElement('div');\n",
              "          docLink.innerHTML = docLinkHtml;\n",
              "          element.appendChild(docLink);\n",
              "        }\n",
              "      </script>\n",
              "    </div>\n",
              "  </div>\n",
              "  "
            ],
            "text/plain": [
              "             עבודה     ימינה  יהדות התורה  ...  ישראל ביתנו       מרצ  תקוה חדשה\n",
              "Variance  0.000742  0.000453     0.005276  ...     0.000743  0.000512   0.000114\n",
              "\n",
              "[1 rows x 8 columns]"
            ]
          },
          "metadata": {},
          "execution_count": 10
        }
      ]
    },
    {
      "cell_type": "markdown",
      "source": [
        "פרט למפלגת הציונות הדתית ויהדות התורה נראה שהאומד לשונות דומה עבור כל המפלגות שקיבלו 6-7 מנדטים"
      ],
      "metadata": {
        "id": "Btycpa9sm-DS"
      }
    },
    {
      "cell_type": "markdown",
      "source": [
        "*Question 2*"
      ],
      "metadata": {
        "id": "paHX5nMy1CP6"
      }
    },
    {
      "cell_type": "code",
      "source": [
        "if  run_in_colab:\n",
        "    df_socio= pd.read_excel(io.BytesIO(uploaded['eshkol_hevrati_calcali.xlsx']), index_col='name')\n",
        "else:\n",
        "    df_socio= pd.read_excel('eshkol_hevrati_calcali.xlsx', index_col='name')\n",
        "\n",
        "df_2021_ballots_raw = df_2021_ballots_raw[df_2021_ballots_raw.columns[0:-1]]\n",
        "merged_data = df_2021_ballots_raw.join(df_socio.set_index('set_code'), on='סמל ישוב')\n",
        "\n",
        "merged_data = merged_data.dropna()\n"
      ],
      "metadata": {
        "id": "yVNDB4lO1Bmn"
      },
      "execution_count": null,
      "outputs": []
    },
    {
      "cell_type": "code",
      "source": [
        "df = merged_data.groupby(['eco_level']).sum()\n",
        "df.nlargest(7,'כשרים').index.sort_values() #These are the 'eshcolot' where there is the highest amount of cosher votes"
      ],
      "metadata": {
        "colab": {
          "base_uri": "https://localhost:8080/"
        },
        "id": "FiC8btuc794h",
        "outputId": "3629cdab-f7ac-438f-95c3-228bc49b933e"
      },
      "execution_count": null,
      "outputs": [
        {
          "output_type": "execute_result",
          "data": {
            "text/plain": [
              "Float64Index([2.0, 3.0, 4.0, 5.0, 6.0, 7.0, 8.0], dtype='float64', name='eco_level')"
            ]
          },
          "metadata": {},
          "execution_count": 14
        }
      ]
    },
    {
      "cell_type": "code",
      "source": [
        "clean_merged = merged_data[names]\n",
        "clean_merged['eco_level'] = merged_data['eco_level']\n",
        "clean_merged"
      ],
      "metadata": {
        "colab": {
          "base_uri": "https://localhost:8080/",
          "height": 559
        },
        "id": "voGH7zOs85ia",
        "outputId": "468a7c97-c8bf-4a53-befd-63e247d5b8de"
      },
      "execution_count": null,
      "outputs": [
        {
          "output_type": "stream",
          "name": "stderr",
          "text": [
            "/usr/local/lib/python3.7/dist-packages/ipykernel_launcher.py:2: SettingWithCopyWarning: \n",
            "A value is trying to be set on a copy of a slice from a DataFrame.\n",
            "Try using .loc[row_indexer,col_indexer] = value instead\n",
            "\n",
            "See the caveats in the documentation: https://pandas.pydata.org/pandas-docs/stable/user_guide/indexing.html#returning-a-view-versus-a-copy\n",
            "  \n"
          ]
        },
        {
          "output_type": "execute_result",
          "data": {
            "text/html": [
              "\n",
              "  <div id=\"df-690f0725-3195-4c99-a72c-1a2cc9b155a4\">\n",
              "    <div class=\"colab-df-container\">\n",
              "      <div>\n",
              "<style scoped>\n",
              "    .dataframe tbody tr th:only-of-type {\n",
              "        vertical-align: middle;\n",
              "    }\n",
              "\n",
              "    .dataframe tbody tr th {\n",
              "        vertical-align: top;\n",
              "    }\n",
              "\n",
              "    .dataframe thead th {\n",
              "        text-align: right;\n",
              "    }\n",
              "</style>\n",
              "<table border=\"1\" class=\"dataframe\">\n",
              "  <thead>\n",
              "    <tr style=\"text-align: right;\">\n",
              "      <th></th>\n",
              "      <th>מחל</th>\n",
              "      <th>פה</th>\n",
              "      <th>שס</th>\n",
              "      <th>כן</th>\n",
              "      <th>ב</th>\n",
              "      <th>אמת</th>\n",
              "      <th>ג</th>\n",
              "      <th>ל</th>\n",
              "      <th>ט</th>\n",
              "      <th>ודעם</th>\n",
              "      <th>ת</th>\n",
              "      <th>מרצ</th>\n",
              "      <th>עם</th>\n",
              "      <th>eco_level</th>\n",
              "    </tr>\n",
              "    <tr>\n",
              "      <th>שם ישוב</th>\n",
              "      <th></th>\n",
              "      <th></th>\n",
              "      <th></th>\n",
              "      <th></th>\n",
              "      <th></th>\n",
              "      <th></th>\n",
              "      <th></th>\n",
              "      <th></th>\n",
              "      <th></th>\n",
              "      <th></th>\n",
              "      <th></th>\n",
              "      <th></th>\n",
              "      <th></th>\n",
              "      <th></th>\n",
              "    </tr>\n",
              "  </thead>\n",
              "  <tbody>\n",
              "    <tr>\n",
              "      <th>אבירים</th>\n",
              "      <td>5</td>\n",
              "      <td>27</td>\n",
              "      <td>1</td>\n",
              "      <td>16</td>\n",
              "      <td>0</td>\n",
              "      <td>47</td>\n",
              "      <td>0</td>\n",
              "      <td>2</td>\n",
              "      <td>2</td>\n",
              "      <td>3</td>\n",
              "      <td>8</td>\n",
              "      <td>31</td>\n",
              "      <td>0</td>\n",
              "      <td>7.0</td>\n",
              "    </tr>\n",
              "    <tr>\n",
              "      <th>אדירים</th>\n",
              "      <td>84</td>\n",
              "      <td>2</td>\n",
              "      <td>61</td>\n",
              "      <td>3</td>\n",
              "      <td>7</td>\n",
              "      <td>1</td>\n",
              "      <td>4</td>\n",
              "      <td>0</td>\n",
              "      <td>9</td>\n",
              "      <td>0</td>\n",
              "      <td>6</td>\n",
              "      <td>0</td>\n",
              "      <td>0</td>\n",
              "      <td>5.0</td>\n",
              "    </tr>\n",
              "    <tr>\n",
              "      <th>אושה</th>\n",
              "      <td>24</td>\n",
              "      <td>86</td>\n",
              "      <td>0</td>\n",
              "      <td>37</td>\n",
              "      <td>7</td>\n",
              "      <td>72</td>\n",
              "      <td>0</td>\n",
              "      <td>8</td>\n",
              "      <td>0</td>\n",
              "      <td>3</td>\n",
              "      <td>15</td>\n",
              "      <td>20</td>\n",
              "      <td>0</td>\n",
              "      <td>7.0</td>\n",
              "    </tr>\n",
              "    <tr>\n",
              "      <th>אחווה</th>\n",
              "      <td>27</td>\n",
              "      <td>37</td>\n",
              "      <td>2</td>\n",
              "      <td>36</td>\n",
              "      <td>4</td>\n",
              "      <td>14</td>\n",
              "      <td>0</td>\n",
              "      <td>3</td>\n",
              "      <td>4</td>\n",
              "      <td>0</td>\n",
              "      <td>8</td>\n",
              "      <td>10</td>\n",
              "      <td>0</td>\n",
              "      <td>8.0</td>\n",
              "    </tr>\n",
              "    <tr>\n",
              "      <th>איבים</th>\n",
              "      <td>17</td>\n",
              "      <td>0</td>\n",
              "      <td>1</td>\n",
              "      <td>5</td>\n",
              "      <td>4</td>\n",
              "      <td>0</td>\n",
              "      <td>0</td>\n",
              "      <td>0</td>\n",
              "      <td>10</td>\n",
              "      <td>0</td>\n",
              "      <td>0</td>\n",
              "      <td>0</td>\n",
              "      <td>0</td>\n",
              "      <td>1.0</td>\n",
              "    </tr>\n",
              "    <tr>\n",
              "      <th>...</th>\n",
              "      <td>...</td>\n",
              "      <td>...</td>\n",
              "      <td>...</td>\n",
              "      <td>...</td>\n",
              "      <td>...</td>\n",
              "      <td>...</td>\n",
              "      <td>...</td>\n",
              "      <td>...</td>\n",
              "      <td>...</td>\n",
              "      <td>...</td>\n",
              "      <td>...</td>\n",
              "      <td>...</td>\n",
              "      <td>...</td>\n",
              "      <td>...</td>\n",
              "    </tr>\n",
              "    <tr>\n",
              "      <th>קורנית</th>\n",
              "      <td>32</td>\n",
              "      <td>150</td>\n",
              "      <td>0</td>\n",
              "      <td>73</td>\n",
              "      <td>18</td>\n",
              "      <td>89</td>\n",
              "      <td>0</td>\n",
              "      <td>10</td>\n",
              "      <td>3</td>\n",
              "      <td>1</td>\n",
              "      <td>15</td>\n",
              "      <td>98</td>\n",
              "      <td>0</td>\n",
              "      <td>9.0</td>\n",
              "    </tr>\n",
              "    <tr>\n",
              "      <th>שורשים</th>\n",
              "      <td>32</td>\n",
              "      <td>81</td>\n",
              "      <td>0</td>\n",
              "      <td>38</td>\n",
              "      <td>19</td>\n",
              "      <td>60</td>\n",
              "      <td>0</td>\n",
              "      <td>7</td>\n",
              "      <td>1</td>\n",
              "      <td>3</td>\n",
              "      <td>25</td>\n",
              "      <td>21</td>\n",
              "      <td>0</td>\n",
              "      <td>8.0</td>\n",
              "    </tr>\n",
              "    <tr>\n",
              "      <th>שכניה</th>\n",
              "      <td>14</td>\n",
              "      <td>121</td>\n",
              "      <td>1</td>\n",
              "      <td>61</td>\n",
              "      <td>17</td>\n",
              "      <td>101</td>\n",
              "      <td>0</td>\n",
              "      <td>12</td>\n",
              "      <td>4</td>\n",
              "      <td>3</td>\n",
              "      <td>36</td>\n",
              "      <td>68</td>\n",
              "      <td>0</td>\n",
              "      <td>9.0</td>\n",
              "    </tr>\n",
              "    <tr>\n",
              "      <th>שער אפרים</th>\n",
              "      <td>169</td>\n",
              "      <td>80</td>\n",
              "      <td>15</td>\n",
              "      <td>45</td>\n",
              "      <td>41</td>\n",
              "      <td>34</td>\n",
              "      <td>1</td>\n",
              "      <td>5</td>\n",
              "      <td>14</td>\n",
              "      <td>0</td>\n",
              "      <td>18</td>\n",
              "      <td>29</td>\n",
              "      <td>0</td>\n",
              "      <td>7.0</td>\n",
              "    </tr>\n",
              "    <tr>\n",
              "      <th>שער אפרים</th>\n",
              "      <td>136</td>\n",
              "      <td>90</td>\n",
              "      <td>28</td>\n",
              "      <td>35</td>\n",
              "      <td>32</td>\n",
              "      <td>48</td>\n",
              "      <td>1</td>\n",
              "      <td>19</td>\n",
              "      <td>14</td>\n",
              "      <td>0</td>\n",
              "      <td>27</td>\n",
              "      <td>15</td>\n",
              "      <td>0</td>\n",
              "      <td>7.0</td>\n",
              "    </tr>\n",
              "  </tbody>\n",
              "</table>\n",
              "<p>12034 rows × 14 columns</p>\n",
              "</div>\n",
              "      <button class=\"colab-df-convert\" onclick=\"convertToInteractive('df-690f0725-3195-4c99-a72c-1a2cc9b155a4')\"\n",
              "              title=\"Convert this dataframe to an interactive table.\"\n",
              "              style=\"display:none;\">\n",
              "        \n",
              "  <svg xmlns=\"http://www.w3.org/2000/svg\" height=\"24px\"viewBox=\"0 0 24 24\"\n",
              "       width=\"24px\">\n",
              "    <path d=\"M0 0h24v24H0V0z\" fill=\"none\"/>\n",
              "    <path d=\"M18.56 5.44l.94 2.06.94-2.06 2.06-.94-2.06-.94-.94-2.06-.94 2.06-2.06.94zm-11 1L8.5 8.5l.94-2.06 2.06-.94-2.06-.94L8.5 2.5l-.94 2.06-2.06.94zm10 10l.94 2.06.94-2.06 2.06-.94-2.06-.94-.94-2.06-.94 2.06-2.06.94z\"/><path d=\"M17.41 7.96l-1.37-1.37c-.4-.4-.92-.59-1.43-.59-.52 0-1.04.2-1.43.59L10.3 9.45l-7.72 7.72c-.78.78-.78 2.05 0 2.83L4 21.41c.39.39.9.59 1.41.59.51 0 1.02-.2 1.41-.59l7.78-7.78 2.81-2.81c.8-.78.8-2.07 0-2.86zM5.41 20L4 18.59l7.72-7.72 1.47 1.35L5.41 20z\"/>\n",
              "  </svg>\n",
              "      </button>\n",
              "      \n",
              "  <style>\n",
              "    .colab-df-container {\n",
              "      display:flex;\n",
              "      flex-wrap:wrap;\n",
              "      gap: 12px;\n",
              "    }\n",
              "\n",
              "    .colab-df-convert {\n",
              "      background-color: #E8F0FE;\n",
              "      border: none;\n",
              "      border-radius: 50%;\n",
              "      cursor: pointer;\n",
              "      display: none;\n",
              "      fill: #1967D2;\n",
              "      height: 32px;\n",
              "      padding: 0 0 0 0;\n",
              "      width: 32px;\n",
              "    }\n",
              "\n",
              "    .colab-df-convert:hover {\n",
              "      background-color: #E2EBFA;\n",
              "      box-shadow: 0px 1px 2px rgba(60, 64, 67, 0.3), 0px 1px 3px 1px rgba(60, 64, 67, 0.15);\n",
              "      fill: #174EA6;\n",
              "    }\n",
              "\n",
              "    [theme=dark] .colab-df-convert {\n",
              "      background-color: #3B4455;\n",
              "      fill: #D2E3FC;\n",
              "    }\n",
              "\n",
              "    [theme=dark] .colab-df-convert:hover {\n",
              "      background-color: #434B5C;\n",
              "      box-shadow: 0px 1px 3px 1px rgba(0, 0, 0, 0.15);\n",
              "      filter: drop-shadow(0px 1px 2px rgba(0, 0, 0, 0.3));\n",
              "      fill: #FFFFFF;\n",
              "    }\n",
              "  </style>\n",
              "\n",
              "      <script>\n",
              "        const buttonEl =\n",
              "          document.querySelector('#df-690f0725-3195-4c99-a72c-1a2cc9b155a4 button.colab-df-convert');\n",
              "        buttonEl.style.display =\n",
              "          google.colab.kernel.accessAllowed ? 'block' : 'none';\n",
              "\n",
              "        async function convertToInteractive(key) {\n",
              "          const element = document.querySelector('#df-690f0725-3195-4c99-a72c-1a2cc9b155a4');\n",
              "          const dataTable =\n",
              "            await google.colab.kernel.invokeFunction('convertToInteractive',\n",
              "                                                     [key], {});\n",
              "          if (!dataTable) return;\n",
              "\n",
              "          const docLinkHtml = 'Like what you see? Visit the ' +\n",
              "            '<a target=\"_blank\" href=https://colab.research.google.com/notebooks/data_table.ipynb>data table notebook</a>'\n",
              "            + ' to learn more about interactive tables.';\n",
              "          element.innerHTML = '';\n",
              "          dataTable['output_type'] = 'display_data';\n",
              "          await google.colab.output.renderOutput(dataTable, element);\n",
              "          const docLink = document.createElement('div');\n",
              "          docLink.innerHTML = docLinkHtml;\n",
              "          element.appendChild(docLink);\n",
              "        }\n",
              "      </script>\n",
              "    </div>\n",
              "  </div>\n",
              "  "
            ],
            "text/plain": [
              "           מחל   פה  שס  כן   ב  אמת  ג   ל   ט  ודעם   ת  מרצ  עם  eco_level\n",
              "שם ישוב                                                                      \n",
              "אבירים       5   27   1  16   0   47  0   2   2     3   8   31   0        7.0\n",
              "אדירים      84    2  61   3   7    1  4   0   9     0   6    0   0        5.0\n",
              "אושה        24   86   0  37   7   72  0   8   0     3  15   20   0        7.0\n",
              "אחווה       27   37   2  36   4   14  0   3   4     0   8   10   0        8.0\n",
              "איבים       17    0   1   5   4    0  0   0  10     0   0    0   0        1.0\n",
              "...        ...  ...  ..  ..  ..  ... ..  ..  ..   ...  ..  ...  ..        ...\n",
              "קורנית      32  150   0  73  18   89  0  10   3     1  15   98   0        9.0\n",
              "שורשים      32   81   0  38  19   60  0   7   1     3  25   21   0        8.0\n",
              "שכניה       14  121   1  61  17  101  0  12   4     3  36   68   0        9.0\n",
              "שער אפרים  169   80  15  45  41   34  1   5  14     0  18   29   0        7.0\n",
              "שער אפרים  136   90  28  35  32   48  1  19  14     0  27   15   0        7.0\n",
              "\n",
              "[12034 rows x 14 columns]"
            ]
          },
          "metadata": {},
          "execution_count": 15
        }
      ]
    },
    {
      "cell_type": "code",
      "source": [
        "sum_kosher = 0\n",
        "for j in range(2,9):\n",
        "  sum_kosher += df.loc[j,'כשרים'] #The number of kosher votes in the selected eshkolot\n",
        "\n",
        "def layer_estimator():\n",
        "  res = p_midgam-p_midgam #Just to get the shape of the final estimator\n",
        "\n",
        "  for i in range(2,9): #these are the 'eshcolot' where there is the highest amount of citizens\n",
        "    temp = clean_merged[clean_merged['eco_level'] == i][names]\n",
        "    midgam = temp.sample(n=1)\n",
        "    p_eco = parties_votes_percents(midgam, -1)\n",
        "    res = res + (p_eco*df.loc[i,'כשרים'])\n",
        "\n",
        "  p_hat = res/sum_kosher\n",
        "  return p_hat"
      ],
      "metadata": {
        "id": "XhGMezKPIHrw"
      },
      "execution_count": null,
      "outputs": []
    },
    {
      "cell_type": "code",
      "source": [
        "df_of_layer_p = pd.DataFrame(pd.np.empty([0, 0])) #In this df we insert the value of \"p\" for every simulation\n",
        "for j in range(100):\n",
        "  a = layer_estimator()\n",
        "  df_of_layer_p = df_of_layer_p.append(a,ignore_index = True)\n",
        "\n",
        "df_of_layer_p.head()"
      ],
      "metadata": {
        "colab": {
          "base_uri": "https://localhost:8080/",
          "height": 261
        },
        "id": "zw_6vrUxSgje",
        "outputId": "59064b9c-ce51-40cd-a701-20be3d41c1e5"
      },
      "execution_count": null,
      "outputs": [
        {
          "output_type": "stream",
          "name": "stderr",
          "text": [
            "/usr/local/lib/python3.7/dist-packages/ipykernel_launcher.py:1: FutureWarning: The pandas.np module is deprecated and will be removed from pandas in a future version. Import numpy directly instead\n",
            "  \"\"\"Entry point for launching an IPython kernel.\n"
          ]
        },
        {
          "output_type": "execute_result",
          "data": {
            "text/html": [
              "\n",
              "  <div id=\"df-126a9c86-e011-4082-a50c-a06cae0162bd\">\n",
              "    <div class=\"colab-df-container\">\n",
              "      <div>\n",
              "<style scoped>\n",
              "    .dataframe tbody tr th:only-of-type {\n",
              "        vertical-align: middle;\n",
              "    }\n",
              "\n",
              "    .dataframe tbody tr th {\n",
              "        vertical-align: top;\n",
              "    }\n",
              "\n",
              "    .dataframe thead th {\n",
              "        text-align: right;\n",
              "    }\n",
              "</style>\n",
              "<table border=\"1\" class=\"dataframe\">\n",
              "  <thead>\n",
              "    <tr style=\"text-align: right;\">\n",
              "      <th></th>\n",
              "      <th>אמת</th>\n",
              "      <th>ב</th>\n",
              "      <th>ג</th>\n",
              "      <th>ודעם</th>\n",
              "      <th>ט</th>\n",
              "      <th>כן</th>\n",
              "      <th>ל</th>\n",
              "      <th>מחל</th>\n",
              "      <th>מרצ</th>\n",
              "      <th>עם</th>\n",
              "      <th>פה</th>\n",
              "      <th>שס</th>\n",
              "      <th>ת</th>\n",
              "    </tr>\n",
              "  </thead>\n",
              "  <tbody>\n",
              "    <tr>\n",
              "      <th>0</th>\n",
              "      <td>0.063530</td>\n",
              "      <td>0.042979</td>\n",
              "      <td>0.165594</td>\n",
              "      <td>0.001210</td>\n",
              "      <td>0.082776</td>\n",
              "      <td>0.045308</td>\n",
              "      <td>0.039789</td>\n",
              "      <td>0.241918</td>\n",
              "      <td>0.034887</td>\n",
              "      <td>0.000000</td>\n",
              "      <td>0.109021</td>\n",
              "      <td>0.140759</td>\n",
              "      <td>0.032229</td>\n",
              "    </tr>\n",
              "    <tr>\n",
              "      <th>1</th>\n",
              "      <td>0.055193</td>\n",
              "      <td>0.043848</td>\n",
              "      <td>0.010036</td>\n",
              "      <td>0.058407</td>\n",
              "      <td>0.037735</td>\n",
              "      <td>0.073401</td>\n",
              "      <td>0.056375</td>\n",
              "      <td>0.278246</td>\n",
              "      <td>0.038158</td>\n",
              "      <td>0.073359</td>\n",
              "      <td>0.135153</td>\n",
              "      <td>0.092165</td>\n",
              "      <td>0.047924</td>\n",
              "    </tr>\n",
              "    <tr>\n",
              "      <th>2</th>\n",
              "      <td>0.051306</td>\n",
              "      <td>0.049572</td>\n",
              "      <td>0.166444</td>\n",
              "      <td>0.001352</td>\n",
              "      <td>0.056087</td>\n",
              "      <td>0.065240</td>\n",
              "      <td>0.036847</td>\n",
              "      <td>0.292213</td>\n",
              "      <td>0.028540</td>\n",
              "      <td>0.001324</td>\n",
              "      <td>0.107117</td>\n",
              "      <td>0.096856</td>\n",
              "      <td>0.047101</td>\n",
              "    </tr>\n",
              "    <tr>\n",
              "      <th>3</th>\n",
              "      <td>0.097358</td>\n",
              "      <td>0.040820</td>\n",
              "      <td>0.030363</td>\n",
              "      <td>0.007059</td>\n",
              "      <td>0.084371</td>\n",
              "      <td>0.083645</td>\n",
              "      <td>0.027875</td>\n",
              "      <td>0.264584</td>\n",
              "      <td>0.029242</td>\n",
              "      <td>0.002013</td>\n",
              "      <td>0.110222</td>\n",
              "      <td>0.188641</td>\n",
              "      <td>0.033808</td>\n",
              "    </tr>\n",
              "    <tr>\n",
              "      <th>4</th>\n",
              "      <td>0.081243</td>\n",
              "      <td>0.062547</td>\n",
              "      <td>0.088249</td>\n",
              "      <td>0.038556</td>\n",
              "      <td>0.036246</td>\n",
              "      <td>0.079485</td>\n",
              "      <td>0.061805</td>\n",
              "      <td>0.203063</td>\n",
              "      <td>0.047325</td>\n",
              "      <td>0.033722</td>\n",
              "      <td>0.147970</td>\n",
              "      <td>0.071863</td>\n",
              "      <td>0.047926</td>\n",
              "    </tr>\n",
              "  </tbody>\n",
              "</table>\n",
              "</div>\n",
              "      <button class=\"colab-df-convert\" onclick=\"convertToInteractive('df-126a9c86-e011-4082-a50c-a06cae0162bd')\"\n",
              "              title=\"Convert this dataframe to an interactive table.\"\n",
              "              style=\"display:none;\">\n",
              "        \n",
              "  <svg xmlns=\"http://www.w3.org/2000/svg\" height=\"24px\"viewBox=\"0 0 24 24\"\n",
              "       width=\"24px\">\n",
              "    <path d=\"M0 0h24v24H0V0z\" fill=\"none\"/>\n",
              "    <path d=\"M18.56 5.44l.94 2.06.94-2.06 2.06-.94-2.06-.94-.94-2.06-.94 2.06-2.06.94zm-11 1L8.5 8.5l.94-2.06 2.06-.94-2.06-.94L8.5 2.5l-.94 2.06-2.06.94zm10 10l.94 2.06.94-2.06 2.06-.94-2.06-.94-.94-2.06-.94 2.06-2.06.94z\"/><path d=\"M17.41 7.96l-1.37-1.37c-.4-.4-.92-.59-1.43-.59-.52 0-1.04.2-1.43.59L10.3 9.45l-7.72 7.72c-.78.78-.78 2.05 0 2.83L4 21.41c.39.39.9.59 1.41.59.51 0 1.02-.2 1.41-.59l7.78-7.78 2.81-2.81c.8-.78.8-2.07 0-2.86zM5.41 20L4 18.59l7.72-7.72 1.47 1.35L5.41 20z\"/>\n",
              "  </svg>\n",
              "      </button>\n",
              "      \n",
              "  <style>\n",
              "    .colab-df-container {\n",
              "      display:flex;\n",
              "      flex-wrap:wrap;\n",
              "      gap: 12px;\n",
              "    }\n",
              "\n",
              "    .colab-df-convert {\n",
              "      background-color: #E8F0FE;\n",
              "      border: none;\n",
              "      border-radius: 50%;\n",
              "      cursor: pointer;\n",
              "      display: none;\n",
              "      fill: #1967D2;\n",
              "      height: 32px;\n",
              "      padding: 0 0 0 0;\n",
              "      width: 32px;\n",
              "    }\n",
              "\n",
              "    .colab-df-convert:hover {\n",
              "      background-color: #E2EBFA;\n",
              "      box-shadow: 0px 1px 2px rgba(60, 64, 67, 0.3), 0px 1px 3px 1px rgba(60, 64, 67, 0.15);\n",
              "      fill: #174EA6;\n",
              "    }\n",
              "\n",
              "    [theme=dark] .colab-df-convert {\n",
              "      background-color: #3B4455;\n",
              "      fill: #D2E3FC;\n",
              "    }\n",
              "\n",
              "    [theme=dark] .colab-df-convert:hover {\n",
              "      background-color: #434B5C;\n",
              "      box-shadow: 0px 1px 3px 1px rgba(0, 0, 0, 0.15);\n",
              "      filter: drop-shadow(0px 1px 2px rgba(0, 0, 0, 0.3));\n",
              "      fill: #FFFFFF;\n",
              "    }\n",
              "  </style>\n",
              "\n",
              "      <script>\n",
              "        const buttonEl =\n",
              "          document.querySelector('#df-126a9c86-e011-4082-a50c-a06cae0162bd button.colab-df-convert');\n",
              "        buttonEl.style.display =\n",
              "          google.colab.kernel.accessAllowed ? 'block' : 'none';\n",
              "\n",
              "        async function convertToInteractive(key) {\n",
              "          const element = document.querySelector('#df-126a9c86-e011-4082-a50c-a06cae0162bd');\n",
              "          const dataTable =\n",
              "            await google.colab.kernel.invokeFunction('convertToInteractive',\n",
              "                                                     [key], {});\n",
              "          if (!dataTable) return;\n",
              "\n",
              "          const docLinkHtml = 'Like what you see? Visit the ' +\n",
              "            '<a target=\"_blank\" href=https://colab.research.google.com/notebooks/data_table.ipynb>data table notebook</a>'\n",
              "            + ' to learn more about interactive tables.';\n",
              "          element.innerHTML = '';\n",
              "          dataTable['output_type'] = 'display_data';\n",
              "          await google.colab.output.renderOutput(dataTable, element);\n",
              "          const docLink = document.createElement('div');\n",
              "          docLink.innerHTML = docLinkHtml;\n",
              "          element.appendChild(docLink);\n",
              "        }\n",
              "      </script>\n",
              "    </div>\n",
              "  </div>\n",
              "  "
            ],
            "text/plain": [
              "        אמת         ב         ג  ...        פה        שס         ת\n",
              "0  0.063530  0.042979  0.165594  ...  0.109021  0.140759  0.032229\n",
              "1  0.055193  0.043848  0.010036  ...  0.135153  0.092165  0.047924\n",
              "2  0.051306  0.049572  0.166444  ...  0.107117  0.096856  0.047101\n",
              "3  0.097358  0.040820  0.030363  ...  0.110222  0.188641  0.033808\n",
              "4  0.081243  0.062547  0.088249  ...  0.147970  0.071863  0.047926\n",
              "\n",
              "[5 rows x 13 columns]"
            ]
          },
          "metadata": {},
          "execution_count": 17
        }
      ]
    },
    {
      "cell_type": "markdown",
      "source": [
        ":כעת נחשב את אומד השכבות באמצעות המדגמים שיצרנו"
      ],
      "metadata": {
        "id": "jxaft4FRXd9m"
      }
    },
    {
      "cell_type": "code",
      "source": [
        "p_layer = df_of_layer_p.mean(axis = 0).to_frame().T\n",
        "layer_bias = p_layer - real_p\n",
        "layer_variance = df_of_layer_p.var(axis = 0).to_frame().T\n",
        "layer_mse = layer_bias**2 + layer_variance\n",
        "layer_result = pd.concat([layer_bias,layer_variance,layer_mse])\n",
        "layer_result.index = [\"Bias\",\"Variance\",\"MSE\"]\n",
        "layer_result = layer_result.rename(columns = parties_dict_2021)\n",
        "layer_result"
      ],
      "metadata": {
        "colab": {
          "base_uri": "https://localhost:8080/",
          "height": 143
        },
        "id": "C6kouJ_qVK4k",
        "outputId": "cc18e158-c6ee-43fd-9bb3-1d751e8cb428"
      },
      "execution_count": null,
      "outputs": [
        {
          "output_type": "execute_result",
          "data": {
            "text/html": [
              "\n",
              "  <div id=\"df-4b172430-f6e2-4fa9-b314-8e392c640629\">\n",
              "    <div class=\"colab-df-container\">\n",
              "      <div>\n",
              "<style scoped>\n",
              "    .dataframe tbody tr th:only-of-type {\n",
              "        vertical-align: middle;\n",
              "    }\n",
              "\n",
              "    .dataframe tbody tr th {\n",
              "        vertical-align: top;\n",
              "    }\n",
              "\n",
              "    .dataframe thead th {\n",
              "        text-align: right;\n",
              "    }\n",
              "</style>\n",
              "<table border=\"1\" class=\"dataframe\">\n",
              "  <thead>\n",
              "    <tr style=\"text-align: right;\">\n",
              "      <th></th>\n",
              "      <th>עבודה</th>\n",
              "      <th>ימינה</th>\n",
              "      <th>יהדות התורה</th>\n",
              "      <th>הרשימה המשותפת</th>\n",
              "      <th>הציונות הדתית</th>\n",
              "      <th>כחול לבן</th>\n",
              "      <th>ישראל ביתנו</th>\n",
              "      <th>הליכוד</th>\n",
              "      <th>מרצ</th>\n",
              "      <th>רעם</th>\n",
              "      <th>יש עתיד</th>\n",
              "      <th>שס</th>\n",
              "      <th>תקוה חדשה</th>\n",
              "    </tr>\n",
              "  </thead>\n",
              "  <tbody>\n",
              "    <tr>\n",
              "      <th>Bias</th>\n",
              "      <td>-0.004079</td>\n",
              "      <td>-0.002979</td>\n",
              "      <td>-0.010425</td>\n",
              "      <td>0.017638</td>\n",
              "      <td>-0.001950</td>\n",
              "      <td>0.000836</td>\n",
              "      <td>0.003485</td>\n",
              "      <td>0.010942</td>\n",
              "      <td>-0.002106</td>\n",
              "      <td>0.005242</td>\n",
              "      <td>-0.001666</td>\n",
              "      <td>-0.002359</td>\n",
              "      <td>0.002103</td>\n",
              "    </tr>\n",
              "    <tr>\n",
              "      <th>Variance</th>\n",
              "      <td>0.000385</td>\n",
              "      <td>0.000469</td>\n",
              "      <td>0.002825</td>\n",
              "      <td>0.003572</td>\n",
              "      <td>0.000662</td>\n",
              "      <td>0.000253</td>\n",
              "      <td>0.000546</td>\n",
              "      <td>0.002546</td>\n",
              "      <td>0.000374</td>\n",
              "      <td>0.001568</td>\n",
              "      <td>0.000768</td>\n",
              "      <td>0.001099</td>\n",
              "      <td>0.000102</td>\n",
              "    </tr>\n",
              "    <tr>\n",
              "      <th>MSE</th>\n",
              "      <td>0.000402</td>\n",
              "      <td>0.000478</td>\n",
              "      <td>0.002934</td>\n",
              "      <td>0.003883</td>\n",
              "      <td>0.000666</td>\n",
              "      <td>0.000254</td>\n",
              "      <td>0.000558</td>\n",
              "      <td>0.002665</td>\n",
              "      <td>0.000378</td>\n",
              "      <td>0.001596</td>\n",
              "      <td>0.000771</td>\n",
              "      <td>0.001104</td>\n",
              "      <td>0.000106</td>\n",
              "    </tr>\n",
              "  </tbody>\n",
              "</table>\n",
              "</div>\n",
              "      <button class=\"colab-df-convert\" onclick=\"convertToInteractive('df-4b172430-f6e2-4fa9-b314-8e392c640629')\"\n",
              "              title=\"Convert this dataframe to an interactive table.\"\n",
              "              style=\"display:none;\">\n",
              "        \n",
              "  <svg xmlns=\"http://www.w3.org/2000/svg\" height=\"24px\"viewBox=\"0 0 24 24\"\n",
              "       width=\"24px\">\n",
              "    <path d=\"M0 0h24v24H0V0z\" fill=\"none\"/>\n",
              "    <path d=\"M18.56 5.44l.94 2.06.94-2.06 2.06-.94-2.06-.94-.94-2.06-.94 2.06-2.06.94zm-11 1L8.5 8.5l.94-2.06 2.06-.94-2.06-.94L8.5 2.5l-.94 2.06-2.06.94zm10 10l.94 2.06.94-2.06 2.06-.94-2.06-.94-.94-2.06-.94 2.06-2.06.94z\"/><path d=\"M17.41 7.96l-1.37-1.37c-.4-.4-.92-.59-1.43-.59-.52 0-1.04.2-1.43.59L10.3 9.45l-7.72 7.72c-.78.78-.78 2.05 0 2.83L4 21.41c.39.39.9.59 1.41.59.51 0 1.02-.2 1.41-.59l7.78-7.78 2.81-2.81c.8-.78.8-2.07 0-2.86zM5.41 20L4 18.59l7.72-7.72 1.47 1.35L5.41 20z\"/>\n",
              "  </svg>\n",
              "      </button>\n",
              "      \n",
              "  <style>\n",
              "    .colab-df-container {\n",
              "      display:flex;\n",
              "      flex-wrap:wrap;\n",
              "      gap: 12px;\n",
              "    }\n",
              "\n",
              "    .colab-df-convert {\n",
              "      background-color: #E8F0FE;\n",
              "      border: none;\n",
              "      border-radius: 50%;\n",
              "      cursor: pointer;\n",
              "      display: none;\n",
              "      fill: #1967D2;\n",
              "      height: 32px;\n",
              "      padding: 0 0 0 0;\n",
              "      width: 32px;\n",
              "    }\n",
              "\n",
              "    .colab-df-convert:hover {\n",
              "      background-color: #E2EBFA;\n",
              "      box-shadow: 0px 1px 2px rgba(60, 64, 67, 0.3), 0px 1px 3px 1px rgba(60, 64, 67, 0.15);\n",
              "      fill: #174EA6;\n",
              "    }\n",
              "\n",
              "    [theme=dark] .colab-df-convert {\n",
              "      background-color: #3B4455;\n",
              "      fill: #D2E3FC;\n",
              "    }\n",
              "\n",
              "    [theme=dark] .colab-df-convert:hover {\n",
              "      background-color: #434B5C;\n",
              "      box-shadow: 0px 1px 3px 1px rgba(0, 0, 0, 0.15);\n",
              "      filter: drop-shadow(0px 1px 2px rgba(0, 0, 0, 0.3));\n",
              "      fill: #FFFFFF;\n",
              "    }\n",
              "  </style>\n",
              "\n",
              "      <script>\n",
              "        const buttonEl =\n",
              "          document.querySelector('#df-4b172430-f6e2-4fa9-b314-8e392c640629 button.colab-df-convert');\n",
              "        buttonEl.style.display =\n",
              "          google.colab.kernel.accessAllowed ? 'block' : 'none';\n",
              "\n",
              "        async function convertToInteractive(key) {\n",
              "          const element = document.querySelector('#df-4b172430-f6e2-4fa9-b314-8e392c640629');\n",
              "          const dataTable =\n",
              "            await google.colab.kernel.invokeFunction('convertToInteractive',\n",
              "                                                     [key], {});\n",
              "          if (!dataTable) return;\n",
              "\n",
              "          const docLinkHtml = 'Like what you see? Visit the ' +\n",
              "            '<a target=\"_blank\" href=https://colab.research.google.com/notebooks/data_table.ipynb>data table notebook</a>'\n",
              "            + ' to learn more about interactive tables.';\n",
              "          element.innerHTML = '';\n",
              "          dataTable['output_type'] = 'display_data';\n",
              "          await google.colab.output.renderOutput(dataTable, element);\n",
              "          const docLink = document.createElement('div');\n",
              "          docLink.innerHTML = docLinkHtml;\n",
              "          element.appendChild(docLink);\n",
              "        }\n",
              "      </script>\n",
              "    </div>\n",
              "  </div>\n",
              "  "
            ],
            "text/plain": [
              "             עבודה     ימינה  יהדות התורה  ...   יש עתיד        שס  תקוה חדשה\n",
              "Bias     -0.004079 -0.002979    -0.010425  ... -0.001666 -0.002359   0.002103\n",
              "Variance  0.000385  0.000469     0.002825  ...  0.000768  0.001099   0.000102\n",
              "MSE       0.000402  0.000478     0.002934  ...  0.000771  0.001104   0.000106\n",
              "\n",
              "[3 rows x 13 columns]"
            ]
          },
          "metadata": {},
          "execution_count": 18
        }
      ]
    },
    {
      "cell_type": "code",
      "source": [
        "def sample_plot(p_normal,p_layers):\n",
        "    width = 0.25\n",
        "    n = 13  \n",
        "    rev_names = [parties_dict_2021[name][::-1] for name in list(names)]\n",
        "    fig, ax = plt.subplots()\n",
        "    p_normal_bar = ax.bar(np.arange(n), list(p_normal.loc[0,names]), width=0.25, color='b')\n",
        "    p_layers_bar = ax.bar(np.arange(n)+ width, list(p_layers.loc[0,names]), width=0.25, color='g')\n",
        "\n",
        "    ax.set_ylabel('% of votes')\n",
        "    ax.set_xlabel('Parties Names')\n",
        "    ax.set_title('% of votes per party (sample)')\n",
        "    ax.set_xticks(np.arange(n))\n",
        "    ax.set_xticklabels(rev_names,rotation=-90)\n",
        "    ax.legend((p_normal_bar,p_layers_bar), ('Regular sample','Layers sample'))\n",
        "\n",
        "    plt.show()\n",
        "\n",
        "    return fig, ax,\n",
        "\n",
        "sample_plot(p_midgam,p_layer)"
      ],
      "metadata": {
        "colab": {
          "base_uri": "https://localhost:8080/",
          "height": 401
        },
        "id": "-B_vQLfcTCNM",
        "outputId": "0168e3a4-3ade-42e5-84bb-a557949c3351"
      },
      "execution_count": null,
      "outputs": [
        {
          "output_type": "display_data",
          "data": {
            "image/png": "[encoded data removed]",
            "text/plain": [
              "<Figure size 432x288 with 1 Axes>"
            ]
          },
          "metadata": {
            "needs_background": "light"
          }
        },
        {
          "output_type": "execute_result",
          "data": {
            "text/plain": [
              "(<Figure size 432x288 with 1 Axes>,\n",
              " <matplotlib.axes._subplots.AxesSubplot at 0x7fcaa6e0c150>)"
            ]
          },
          "metadata": {},
          "execution_count": 19
        }
      ]
    },
    {
      "cell_type": "code",
      "source": [
        "sum_regular_mse = result.loc['MSE',:].sum()\n",
        "sum_layer_mse = layer_result.loc['MSE',:].sum()\n",
        "print(\"The sum of MSE for all partys in the regular sample is: \"+ str(sum_regular_mse))\n",
        "print(\"The sum of MSE for all partys in the layers sample is: \"+ str(sum_layer_mse))\n"
      ],
      "metadata": {
        "colab": {
          "base_uri": "https://localhost:8080/"
        },
        "id": "UeyMEdVha-de",
        "outputId": "31e09b84-0c55-4979-811a-c06f4c7ecc85"
      },
      "execution_count": null,
      "outputs": [
        {
          "output_type": "stream",
          "name": "stdout",
          "text": [
            "The sum of MSE for all partys in the regular sample is: 0.02263651255363561\n",
            "The sum of MSE for all partys in the layers sample is: 0.015794948991916254\n"
          ]
        }
      ]
    },
    {
      "cell_type": "markdown",
      "source": [
        "אנו רואים שסכום השגיאה הריבועית הממוצעת נמוך יותר עבור אומד השכבות ולכן מבחינה זו הוא עדיף על המדגם הרגיל"
      ],
      "metadata": {
        "id": "0Y-Tm6OMeTR9"
      }
    },
    {
      "cell_type": "markdown",
      "source": [
        "Question 3"
      ],
      "metadata": {
        "id": "DTDJ07V7jY2P"
      }
    },
    {
      "cell_type": "code",
      "source": [
        "df_2020_ballots_raw = pd.read_csv(io.BytesIO(uploaded['votes per ballot 2020.csv']),  encoding = 'iso-8859-8',index_col='שם ישוב').sort_index() # loading data of 2020\n",
        "df_2020_ballots_raw = df_2020_ballots_raw[df_2020_ballots_raw.columns[10:-1]] # removing \"metadata\" columns\n",
        "\n",
        "# Matching of the parties in the 2020 elections to the 2021 elections:\n",
        "df_2020_ballots_raw['מרצ'] = round(df_2020_ballots_raw['אמת']/2)\n",
        "df_2020_ballots_raw['אמת'] = round(df_2020_ballots_raw['אמת']/2)\n",
        "df_2020_ballots_raw['עם'] = round(df_2020_ballots_raw['ודעם']*0.4)\n",
        "df_2020_ballots_raw['ודעם'] = round(df_2020_ballots_raw['ודעם']*0.6)\n",
        "df_2020_ballots_raw['ת'] = round(df_2020_ballots_raw['מחל']*0.167)\n",
        "df_2020_ballots_raw['מחל'] = round(df_2020_ballots_raw['מחל']*0.833)\n",
        "df_2020_ballots_raw['כן'] = round(df_2020_ballots_raw['פה']*0.333)\n",
        "df_2020_ballots_raw['פה'] = round(df_2020_ballots_raw['פה']*0.667)\n",
        "df_2020_ballots_raw['ב'] = round(df_2020_ballots_raw['טב']*0.6)\n",
        "df_2020_ballots_raw['ט'] = round(df_2020_ballots_raw['טב']*0.4 + df_2020_ballots_raw['נץ'])\n",
        "\n",
        "df_2020_ballots_raw = df_2020_ballots_raw.drop([\"נץ\",\"טב\"], axis =1)"
      ],
      "metadata": {
        "id": "AgGJo7DFjbYw"
      },
      "execution_count": null,
      "outputs": []
    },
    {
      "cell_type": "code",
      "source": [
        "q_for_q3 = parties_votes_percents(df_2020_ballots_raw, 0.00325)\n",
        "alpha_vector = np.array(range(101))/100\n",
        "bais_vector = q_for_q3 - real_p"
      ],
      "metadata": {
        "id": "GqL85l05mw5_"
      },
      "execution_count": null,
      "outputs": []
    },
    {
      "cell_type": "code",
      "source": [
        "names_rev = [parties_dict_2021[n][::-1] for n in q_for_q3.index]\n",
        "fig, ax = plt.subplots(4, 4, figsize=(15,10))\n",
        "for party in range(13):   \n",
        "    bias_alpha = bais_vector[party] * (1-alpha_vector)\n",
        "    var_alpha = result.iloc[1,party] * alpha_vector**2 \n",
        "    mse_alpha = bias_alpha**2 + var_alpha\n",
        "    alpha_star = bais_vector[party]**2 / (result.iloc[1,party] + bais_vector[party]**2)\n",
        "    ax[party//4, party%4].plot(alpha_vector, bias_alpha**2, color=\"blue\")\n",
        "    ax[party//4, party%4].plot(alpha_vector, mse_alpha, color=\"green\")\n",
        "    ax[party//4, party%4].plot([alpha_star, alpha_star], [0,max(mse_alpha)], color=\"orange\")\n",
        "    ax[party//4, party%4].plot([0.5, 0.5], [0,max(mse_alpha)], linestyle = ':', color=\"purple\")\n",
        "    ax[party//4, party%4].set_title(names_rev[party], fontsize=14)\n",
        "    ax[party//4, party%4].set_xlabel(r\"$\\alpha$\")\n",
        "    if party == 0:\n",
        "        ax[party//4, party%4].legend((\"bias$^2$\", \"variance\", \"MSE\",r\"min-MSE $(\\alpha)$\",r\"$\\alpha = 0.5$\"))\n",
        "fig.tight_layout() \n",
        "plt.show()"
      ],
      "metadata": {
        "colab": {
          "base_uri": "https://localhost:8080/",
          "height": 729
        },
        "id": "zPAEYXjFu0l7",
        "outputId": "cfc36739-ebb0-428f-a269-6fbb62b1f4ac"
      },
      "execution_count": null,
      "outputs": [
        {
          "output_type": "display_data",
          "data": {
            "image/png": "[encoded data removed]",
            "text/plain": [
              "<Figure size 1080x720 with 16 Axes>"
            ]
          },
          "metadata": {
            "needs_background": "light"
          }
        }
      ]
    },
    {
      "cell_type": "markdown",
      "source": [
        "Conclusion: It can be clearly seen that in all parties when alpha equals 0.5 the square error is lower than when alpha equals 1, therefore it is clear that alpha equals 0.5 is preferable. A logical reason for this is that the smaller the alpha we give => more weight to the election results in 2020, for the inference to estimate the election results in 2021. On the other hand, we also want to give some weight to the lotteries, so we will observe that an alpha smaller than 1 but larger than 0 will give a smaller square error than an alpha equal to 0 or 1 (not necessarily any alpha in the 0 to 1 segment, but at least some alpha in this segment)"
      ],
      "metadata": {
        "id": "D43aasfeW-2S"
      }
    }
  ]
}