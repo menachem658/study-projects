{
  "nbformat": 4,
  "nbformat_minor": 0,
  "metadata": {
    "colab": {
      "name": "Lab4 .ipynb",
      "provenance": [],
      "collapsed_sections": []
    },
    "kernelspec": {
      "display_name": "Python 3",
      "language": "python",
      "name": "python3"
    },
    "language_info": {
      "codemirror_mode": {
        "name": "ipython",
        "version": 3
      },
      "file_extension": ".py",
      "mimetype": "text/x-python",
      "name": "python",
      "nbconvert_exporter": "python",
      "pygments_lexer": "ipython3",
      "version": "3.7.4"
    }
  },
  "cells": [
    {
      "cell_type": "markdown",
      "metadata": {
        "id": "lyQ45Phps6Z6"
      },
      "source": [
        "# **Statistics Lab 52568 - Lab 4**\n",
        "\n",
        "\n",
        "Idan Keipour 315355537\n",
        "\n",
        "Menachem Sokolik 314696972\n",
        "\n",
        "Maria Mordvova 345232821"
      ]
    },
    {
      "cell_type": "code",
      "metadata": {
        "id": "eRKSr5EstAUm"
      },
      "source": [
        "import numpy as np  # a module for working with numerical array \n",
        "import pandas as pd  # a module for working with data-frames\n",
        "from matplotlib import pyplot as plt\n",
        "import random\n",
        "import statsmodels.api as sm"
      ],
      "execution_count": null,
      "outputs": []
    },
    {
      "cell_type": "markdown",
      "metadata": {
        "id": "8XK3hJHE-ybH"
      },
      "source": [
        "First, we need to mount our local drive to the colab network"
      ]
    },
    {
      "cell_type": "code",
      "metadata": {
        "colab": {
          "base_uri": "https://localhost:8080/"
        },
        "id": "RWSJpsyKqHjH",
        "outputId": "e52fb0af-64bd-4001-9b24-5f5310657308"
      },
      "source": [
        "# Add a check if we run in google colab or locally in jupyter notebook\n",
        "run_in_colab = False\n",
        "if 'google.colab' in str(get_ipython()):\n",
        "    run_in_colab = True\n",
        "    print('Running on CoLab')\n",
        "else:\n",
        "    print('Running locally on Jupyter')\n",
        "\n",
        "# Mount drive in google colab\n",
        "\n",
        "from google.colab import drive\n",
        "drive.mount('/content/drive')\n",
        " "
      ],
      "execution_count": null,
      "outputs": [
        {
          "output_type": "stream",
          "name": "stdout",
          "text": [
            "Running on CoLab\n",
            "Drive already mounted at /content/drive; to attempt to forcibly remount, call drive.mount(\"/content/drive\", force_remount=True).\n"
          ]
        }
      ]
    },
    {
      "cell_type": "code",
      "metadata": {
        "colab": {
          "resources": {
            "http://localhost:8080/nbextensions/google.colab/files.js": {
              "data": "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",
              "ok": true,
              "headers": [
                [
                  "content-type",
                  "application/javascript"
                ]
              ],
              "status": 200,
              "status_text": ""
            }
          },
          "base_uri": "https://localhost:8080/",
          "height": 174
        },
        "id": "b_1TiZv2lzVF",
        "outputId": "9b78ae59-187a-4efe-c892-cc92a93ce233"
      },
      "source": [
        "# Loading elections 2021 elections data - ballot:\n",
        "if run_in_colab:\n",
        "    from google.colab import files\n",
        "    uploaded = files.upload()"
      ],
      "execution_count": null,
      "outputs": [
        {
          "output_type": "display_data",
          "data": {
            "text/html": [
              "\n",
              "     <input type=\"file\" id=\"files-4d766419-5158-4276-be12-01c8fd9eda54\" name=\"files[]\" multiple disabled\n",
              "        style=\"border:none\" />\n",
              "     <output id=\"result-4d766419-5158-4276-be12-01c8fd9eda54\">\n",
              "      Upload widget is only available when the cell has been executed in the\n",
              "      current browser session. Please rerun this cell to enable.\n",
              "      </output>\n",
              "      <script src=\"/nbextensions/google.colab/files.js\"></script> "
            ],
            "text/plain": [
              "<IPython.core.display.HTML object>"
            ]
          },
          "metadata": {}
        },
        {
          "output_type": "stream",
          "name": "stdout",
          "text": [
            "Saving eshkol_hevrati_calcali.xlsx to eshkol_hevrati_calcali (1).xlsx\n",
            "Saving eshkol_hevrati_calcali.csv to eshkol_hevrati_calcali (1).csv\n",
            "Saving votes per city 2021.csv to votes per city 2021 (1).csv\n",
            "Saving votes per ballot 2021.csv to votes per ballot 2021 (1).csv\n"
          ]
        }
      ]
    },
    {
      "cell_type": "code",
      "metadata": {
        "id": "xaG-KYCw8XZz"
      },
      "source": [
        "# Loading elections 2021 elections data:\n",
        "import io\n",
        "\n",
        "data_type = \"city\" # \"ballot\"  # city\n",
        "if run_in_colab:\n",
        "    if data_type == \"ballot\":\n",
        "      df_2021_raw = pd.read_csv(io.BytesIO(uploaded['votes per city 2021.csv']),  encoding = 'iso-8859-8', index_col='שם ישוב')\n",
        "    else:\n",
        "      df_2021_raw = pd.read_csv(io.BytesIO(uploaded['votes per city 2021.csv']),  encoding = 'iso-8859-8', index_col='שם ישוב')\n",
        "else:  # read local file\n",
        "    if data_type == \"ballot\":\n",
        "        df_2021_raw = pd.read_csv(data_path + 'votes per ballot 2021.csv',  encoding = 'iso-8859-8', index_col='שם ישוב')\n",
        "    else:\n",
        "        df_2021_raw = pd.read_csv(data_path + 'votes per city 2021.csv',  encoding = 'iso-8859-8', index_col='שם ישוב')\n",
        "\n",
        "if data_type == \"ballot\":\n",
        "    # preprocessing of ballot\n",
        "    df_2021 = df_2021_raw.drop('סמל ועדה', axis=1) # new column added in Sep 2019\n",
        "    df_2021 = df_2021[df_2021.columns[8:-1]] # removing \"metadata\" columns\n",
        "else:\n",
        "    # preprocessing of cities \n",
        "    df_2021 = df_2021_raw.drop('סמל ועדה', axis=1) # new column added in Sep 2019\n",
        "    df_2021 = df_2021[df_2021.columns[5:-1]] # removing \"metadata\" columns\n",
        "# Dataset is now stored in a Pandas Dataframe\n",
        "\n",
        "# convert columns with the parties' names:\n",
        "parties_dict_2021 ={'אמת' : \"עבודה\", 'מרצ' : \"מרצ\",  'ג' : \"יהדות התורה\", 'עם'  : \"רעם\",  'ת'  : \"תקוה חדשה\", 'ודעם'  : \"הרשימה המשותפת\", 'ב'  : \"ימינה\", 'ט'  : \"הציונות הדתית\",\n",
        " 'ל'  : \"ישראל ביתנו\", 'מחל'  : \"הליכוד\",  'פה'  : \"יש עתיד\", 'כן'  : \"כחול לבן\", 'שס'  : \"שס\"}\n",
        "\n",
        "df_2021.rename(columns=parties_dict_2021, inplace=True)"
      ],
      "execution_count": null,
      "outputs": []
    },
    {
      "cell_type": "markdown",
      "metadata": {
        "id": "nbsdzTU0_D8u"
      },
      "source": [
        "### Extract only parties columns "
      ]
    },
    {
      "cell_type": "code",
      "metadata": {
        "id": "oAYQoBHMgylR",
        "colab": {
          "base_uri": "https://localhost:8080/",
          "height": 289
        },
        "outputId": "ee6803db-73cd-4953-b13c-8b15a4fa136c"
      },
      "source": [
        "# df_2021.reset_index(inplace=True)\n",
        "df_2021.style.set_properties(**{'text-align': 'left'})\n",
        "df_2021.head()"
      ],
      "execution_count": null,
      "outputs": [
        {
          "output_type": "execute_result",
          "data": {
            "text/html": [
              "<div>\n",
              "<style scoped>\n",
              "    .dataframe tbody tr th:only-of-type {\n",
              "        vertical-align: middle;\n",
              "    }\n",
              "\n",
              "    .dataframe tbody tr th {\n",
              "        vertical-align: top;\n",
              "    }\n",
              "\n",
              "    .dataframe thead th {\n",
              "        text-align: right;\n",
              "    }\n",
              "</style>\n",
              "<table border=\"1\" class=\"dataframe\">\n",
              "  <thead>\n",
              "    <tr style=\"text-align: right;\">\n",
              "      <th></th>\n",
              "      <th>עבודה</th>\n",
              "      <th>ימינה</th>\n",
              "      <th>יהדות התורה</th>\n",
              "      <th>הרשימה המשותפת</th>\n",
              "      <th>ז</th>\n",
              "      <th>זץ</th>\n",
              "      <th>הציונות הדתית</th>\n",
              "      <th>י</th>\n",
              "      <th>יז</th>\n",
              "      <th>ינ</th>\n",
              "      <th>יף</th>\n",
              "      <th>יק</th>\n",
              "      <th>יר</th>\n",
              "      <th>כ</th>\n",
              "      <th>כך</th>\n",
              "      <th>כחול לבן</th>\n",
              "      <th>ישראל ביתנו</th>\n",
              "      <th>הליכוד</th>\n",
              "      <th>מרצ</th>\n",
              "      <th>נ</th>\n",
              "      <th>ני</th>\n",
              "      <th>נר</th>\n",
              "      <th>רעם</th>\n",
              "      <th>יש עתיד</th>\n",
              "      <th>ףז</th>\n",
              "      <th>צי</th>\n",
              "      <th>צכ</th>\n",
              "      <th>צף</th>\n",
              "      <th>ץ</th>\n",
              "      <th>ק</th>\n",
              "      <th>קי</th>\n",
              "      <th>קך</th>\n",
              "      <th>קץ</th>\n",
              "      <th>ר</th>\n",
              "      <th>רנ</th>\n",
              "      <th>רף</th>\n",
              "      <th>רק</th>\n",
              "      <th>שס</th>\n",
              "      <th>תקוה חדשה</th>\n",
              "    </tr>\n",
              "    <tr>\n",
              "      <th>שם ישוב</th>\n",
              "      <th></th>\n",
              "      <th></th>\n",
              "      <th></th>\n",
              "      <th></th>\n",
              "      <th></th>\n",
              "      <th></th>\n",
              "      <th></th>\n",
              "      <th></th>\n",
              "      <th></th>\n",
              "      <th></th>\n",
              "      <th></th>\n",
              "      <th></th>\n",
              "      <th></th>\n",
              "      <th></th>\n",
              "      <th></th>\n",
              "      <th></th>\n",
              "      <th></th>\n",
              "      <th></th>\n",
              "      <th></th>\n",
              "      <th></th>\n",
              "      <th></th>\n",
              "      <th></th>\n",
              "      <th></th>\n",
              "      <th></th>\n",
              "      <th></th>\n",
              "      <th></th>\n",
              "      <th></th>\n",
              "      <th></th>\n",
              "      <th></th>\n",
              "      <th></th>\n",
              "      <th></th>\n",
              "      <th></th>\n",
              "      <th></th>\n",
              "      <th></th>\n",
              "      <th></th>\n",
              "      <th></th>\n",
              "      <th></th>\n",
              "      <th></th>\n",
              "      <th></th>\n",
              "    </tr>\n",
              "  </thead>\n",
              "  <tbody>\n",
              "    <tr>\n",
              "      <th>אבירים</th>\n",
              "      <td>47</td>\n",
              "      <td>0</td>\n",
              "      <td>0</td>\n",
              "      <td>3</td>\n",
              "      <td>0</td>\n",
              "      <td>0</td>\n",
              "      <td>2</td>\n",
              "      <td>0</td>\n",
              "      <td>3</td>\n",
              "      <td>0</td>\n",
              "      <td>0</td>\n",
              "      <td>0</td>\n",
              "      <td>0</td>\n",
              "      <td>0</td>\n",
              "      <td>0</td>\n",
              "      <td>16</td>\n",
              "      <td>2</td>\n",
              "      <td>5</td>\n",
              "      <td>31</td>\n",
              "      <td>0</td>\n",
              "      <td>0</td>\n",
              "      <td>0</td>\n",
              "      <td>0</td>\n",
              "      <td>27</td>\n",
              "      <td>0</td>\n",
              "      <td>0</td>\n",
              "      <td>0</td>\n",
              "      <td>0</td>\n",
              "      <td>0</td>\n",
              "      <td>0</td>\n",
              "      <td>0</td>\n",
              "      <td>0</td>\n",
              "      <td>0</td>\n",
              "      <td>5</td>\n",
              "      <td>0</td>\n",
              "      <td>0</td>\n",
              "      <td>0</td>\n",
              "      <td>1</td>\n",
              "      <td>8</td>\n",
              "    </tr>\n",
              "    <tr>\n",
              "      <th>אדירים</th>\n",
              "      <td>1</td>\n",
              "      <td>7</td>\n",
              "      <td>4</td>\n",
              "      <td>0</td>\n",
              "      <td>0</td>\n",
              "      <td>0</td>\n",
              "      <td>9</td>\n",
              "      <td>0</td>\n",
              "      <td>1</td>\n",
              "      <td>0</td>\n",
              "      <td>0</td>\n",
              "      <td>0</td>\n",
              "      <td>0</td>\n",
              "      <td>0</td>\n",
              "      <td>0</td>\n",
              "      <td>3</td>\n",
              "      <td>0</td>\n",
              "      <td>84</td>\n",
              "      <td>0</td>\n",
              "      <td>0</td>\n",
              "      <td>0</td>\n",
              "      <td>0</td>\n",
              "      <td>0</td>\n",
              "      <td>2</td>\n",
              "      <td>0</td>\n",
              "      <td>0</td>\n",
              "      <td>0</td>\n",
              "      <td>0</td>\n",
              "      <td>0</td>\n",
              "      <td>0</td>\n",
              "      <td>0</td>\n",
              "      <td>0</td>\n",
              "      <td>0</td>\n",
              "      <td>2</td>\n",
              "      <td>0</td>\n",
              "      <td>0</td>\n",
              "      <td>0</td>\n",
              "      <td>61</td>\n",
              "      <td>6</td>\n",
              "    </tr>\n",
              "    <tr>\n",
              "      <th>אושה</th>\n",
              "      <td>72</td>\n",
              "      <td>7</td>\n",
              "      <td>0</td>\n",
              "      <td>3</td>\n",
              "      <td>0</td>\n",
              "      <td>0</td>\n",
              "      <td>0</td>\n",
              "      <td>0</td>\n",
              "      <td>2</td>\n",
              "      <td>0</td>\n",
              "      <td>0</td>\n",
              "      <td>1</td>\n",
              "      <td>0</td>\n",
              "      <td>0</td>\n",
              "      <td>0</td>\n",
              "      <td>37</td>\n",
              "      <td>8</td>\n",
              "      <td>24</td>\n",
              "      <td>20</td>\n",
              "      <td>0</td>\n",
              "      <td>0</td>\n",
              "      <td>0</td>\n",
              "      <td>0</td>\n",
              "      <td>86</td>\n",
              "      <td>0</td>\n",
              "      <td>0</td>\n",
              "      <td>0</td>\n",
              "      <td>0</td>\n",
              "      <td>0</td>\n",
              "      <td>0</td>\n",
              "      <td>0</td>\n",
              "      <td>0</td>\n",
              "      <td>0</td>\n",
              "      <td>1</td>\n",
              "      <td>0</td>\n",
              "      <td>0</td>\n",
              "      <td>0</td>\n",
              "      <td>0</td>\n",
              "      <td>15</td>\n",
              "    </tr>\n",
              "    <tr>\n",
              "      <th>אחווה</th>\n",
              "      <td>14</td>\n",
              "      <td>4</td>\n",
              "      <td>0</td>\n",
              "      <td>0</td>\n",
              "      <td>0</td>\n",
              "      <td>0</td>\n",
              "      <td>4</td>\n",
              "      <td>0</td>\n",
              "      <td>0</td>\n",
              "      <td>0</td>\n",
              "      <td>0</td>\n",
              "      <td>0</td>\n",
              "      <td>0</td>\n",
              "      <td>0</td>\n",
              "      <td>0</td>\n",
              "      <td>36</td>\n",
              "      <td>3</td>\n",
              "      <td>27</td>\n",
              "      <td>10</td>\n",
              "      <td>0</td>\n",
              "      <td>0</td>\n",
              "      <td>0</td>\n",
              "      <td>0</td>\n",
              "      <td>37</td>\n",
              "      <td>0</td>\n",
              "      <td>0</td>\n",
              "      <td>0</td>\n",
              "      <td>0</td>\n",
              "      <td>0</td>\n",
              "      <td>0</td>\n",
              "      <td>0</td>\n",
              "      <td>0</td>\n",
              "      <td>0</td>\n",
              "      <td>0</td>\n",
              "      <td>0</td>\n",
              "      <td>0</td>\n",
              "      <td>0</td>\n",
              "      <td>2</td>\n",
              "      <td>8</td>\n",
              "    </tr>\n",
              "    <tr>\n",
              "      <th>איבים</th>\n",
              "      <td>0</td>\n",
              "      <td>4</td>\n",
              "      <td>0</td>\n",
              "      <td>0</td>\n",
              "      <td>0</td>\n",
              "      <td>1</td>\n",
              "      <td>10</td>\n",
              "      <td>0</td>\n",
              "      <td>0</td>\n",
              "      <td>0</td>\n",
              "      <td>0</td>\n",
              "      <td>0</td>\n",
              "      <td>0</td>\n",
              "      <td>0</td>\n",
              "      <td>0</td>\n",
              "      <td>5</td>\n",
              "      <td>0</td>\n",
              "      <td>17</td>\n",
              "      <td>0</td>\n",
              "      <td>0</td>\n",
              "      <td>0</td>\n",
              "      <td>1</td>\n",
              "      <td>0</td>\n",
              "      <td>0</td>\n",
              "      <td>0</td>\n",
              "      <td>0</td>\n",
              "      <td>0</td>\n",
              "      <td>0</td>\n",
              "      <td>0</td>\n",
              "      <td>0</td>\n",
              "      <td>0</td>\n",
              "      <td>1</td>\n",
              "      <td>0</td>\n",
              "      <td>0</td>\n",
              "      <td>0</td>\n",
              "      <td>0</td>\n",
              "      <td>0</td>\n",
              "      <td>1</td>\n",
              "      <td>0</td>\n",
              "    </tr>\n",
              "  </tbody>\n",
              "</table>\n",
              "</div>"
            ],
            "text/plain": [
              "         עבודה  ימינה  יהדות התורה  הרשימה המשותפת  ...  רף  רק  שס  תקוה חדשה\n",
              "שם ישוב                                             ...                       \n",
              "אבירים      47      0            0               3  ...   0   0   1          8\n",
              "אדירים       1      7            4               0  ...   0   0  61          6\n",
              "אושה        72      7            0               3  ...   0   0   0         15\n",
              "אחווה       14      4            0               0  ...   0   0   2          8\n",
              "איבים        0      4            0               0  ...   0   0   1          0\n",
              "\n",
              "[5 rows x 39 columns]"
            ]
          },
          "metadata": {},
          "execution_count": 63
        }
      ]
    },
    {
      "cell_type": "markdown",
      "metadata": {
        "id": "4uaRGD8JYVk0"
      },
      "source": [
        "We use only the parties which their voting **percentage** \n",
        "in a given city is above a % threshold, and we remove the results of 'Maatafot hitzoniot':"
      ]
    },
    {
      "cell_type": "code",
      "metadata": {
        "id": "txl0ggpuhPdV"
      },
      "source": [
        "# Compute votes share only for parties above a certain threshold \n",
        "def parties_votes_percents(df, thresh):\n",
        "    par = df.sum().div(df.sum().sum()).sort_values(ascending=False)\n",
        "    return par[par > thresh]\n",
        "\n",
        "total_votes = parties_votes_percents(df_2021, 0.035)  # total votes for each party\n",
        "names = total_votes.keys() # 13 parties\n",
        "\n",
        "# Data with only the 13 relevant parties:\n",
        "df_2021 = df_2021[names]\n",
        "df_2021 = df_2021.drop('מעטפות חיצוניות')\n",
        "df_2021_raw = df_2021_raw.drop('מעטפות חיצוניות')"
      ],
      "execution_count": null,
      "outputs": []
    },
    {
      "cell_type": "markdown",
      "metadata": {
        "id": "86qhrpEjDHIB"
      },
      "source": [
        "***Question 1: Calculation the new fix parameter using linear regression OLS***.\n",
        "\n"
      ]
    },
    {
      "cell_type": "code",
      "metadata": {
        "id": "z-I-_y6SQWxE"
      },
      "source": [
        "def linear_regression(df, v):\n",
        "    p = df.sum().div(df.sum().sum())\n",
        "    bzb = df.sum(1) /v\n",
        "    model = sm.OLS(bzb, df).fit()\n",
        "    q_hat = p*model.params\n",
        "    q_hat = q_hat / (q_hat.sum())\n",
        "    return p, q_hat, model.params"
      ],
      "execution_count": null,
      "outputs": []
    },
    {
      "cell_type": "markdown",
      "metadata": {
        "id": "XaUdcGnwDtKX"
      },
      "source": [
        "***Question 2: Simulation (from Lab2 Question2 Answers) + fixing new OLS parameter and comparing them in batplots***\n"
      ]
    },
    {
      "cell_type": "markdown",
      "metadata": {
        "id": "fcOVvEAni9er"
      },
      "source": [
        "functions from the solution in order to proceed the simulations with the new fixed parameter OLS"
      ]
    },
    {
      "cell_type": "code",
      "metadata": {
        "id": "8PmBu-E2ClOb"
      },
      "source": [
        "def sim_data(N,V):\n",
        "  new_df = pd.DataFrame(np.random.binomial(N,V))\n",
        "  new_df.index = df_2021.index\n",
        "  v = new_df.sum(axis=1)/ N.sum(axis=1)\n",
        "  return new_df, v"
      ],
      "execution_count": null,
      "outputs": []
    },
    {
      "cell_type": "markdown",
      "metadata": {
        "id": "Vq7QLWalEMWK"
      },
      "source": [
        "Computing $\\tilde{N}$ and $V_i$ for the 3 simulations:"
      ]
    },
    {
      "cell_type": "code",
      "metadata": {
        "id": "M3zzFBG2y0de"
      },
      "source": [
        "# Nij~ :\n",
        "N_tilde = np.array(df_2021.mul(df_2021_raw['בזב'].sum()).div(df_2021_raw['כשרים'].sum()),dtype='int32')\n",
        "\n",
        "# 3 types of Vi \n",
        "v = df_2021_raw['כשרים'].div(df_2021_raw['בזב'])\n",
        "u = [0.6,0.65,0.75,0.5,0.4,0.35,0.8,0.55,0.45,0.25,0.3,0.7,0.2]  # arbitrary ordering\n",
        "u_random = random.sample(u, len(u))\n",
        "\n",
        "dim = df_2021.shape\n",
        "# converting them to the desired shape:\n",
        "V_v = np.tile(np.array([v]).transpose(), (1, len(names)))\n",
        "V_u = np.tile(np.array(u), (dim[0],1))\n",
        "V_u_random = np.tile(np.array(u_random), (dim[0],1))\n"
      ],
      "execution_count": null,
      "outputs": []
    },
    {
      "cell_type": "markdown",
      "metadata": {
        "id": "AErx4swWy0AD"
      },
      "source": [
        "A function that calculates the p and the $\\hat{q}$ (after fixing data to 100% votes with $V_i= \\frac{kosher_i}{bzb_i}$)"
      ]
    },
    {
      "cell_type": "code",
      "metadata": {
        "id": "VHHiuZyREEd_"
      },
      "source": [
        "def fixing_data(df, fix_param):\n",
        "  p = parties_votes_percents(df, 0) \n",
        "  q_hat = parties_votes_percents(df.div(fix_param, axis = \"rows\"), 0)\n",
        "  return q_hat"
      ],
      "execution_count": null,
      "outputs": []
    },
    {
      "cell_type": "markdown",
      "metadata": {
        "id": "KtpU9Ims6h-B"
      },
      "source": [
        "## 50-simulations function:"
      ]
    },
    {
      "cell_type": "code",
      "metadata": {
        "id": "es2WgNpK6g_H"
      },
      "source": [
        "def simulations(iters, N, V):\n",
        "  p_mat = np.zeros([iters, len(names)])\n",
        "  q_hat_mat = np.zeros([iters, len(names)]) \n",
        "  q_hat = np.zeros([iters, len(names)])\n",
        "  \n",
        "  # in every simulation we calculate p and q_hat (after fixing the data)\n",
        "  for i in range(0,iters):\n",
        "    new_df, v = sim_data(N,V)\n",
        "    q_hat[i,] = fixing_data(new_df, v)\n",
        "    p_mat[i,], q_hat_mat[i,] = linear_regression(new_df, v)[0:2]\n",
        "\n",
        "  return p_mat, q_hat, q_hat_mat"
      ],
      "execution_count": null,
      "outputs": []
    },
    {
      "cell_type": "markdown",
      "metadata": {
        "id": "RuY3ClUtLp7r"
      },
      "source": [
        "## Run 50 simulations and calculate mean, var, bias and mse"
      ]
    },
    {
      "cell_type": "code",
      "metadata": {
        "id": "Sj7vvY8b5igq"
      },
      "source": [
        "iters = 50 # number of simulations\n",
        "q_real = N_tilde.sum(axis=0)/(N_tilde.sum())\n",
        "\n",
        "sim_v = simulations(iters, N_tilde, V_v)\n",
        "mean_p_v = sim_v[0].mean(axis=0)\n",
        "mean_q_v = sim_v[1].mean(axis=0)\n",
        "mean_q_v_alpha = sim_v[2].mean(axis=0)\n",
        "\n",
        "\n",
        "\n",
        "sim_u = simulations(iters, N_tilde, V_u)\n",
        "mean_p_u = sim_u[0].mean(axis=0) \n",
        "mean_q_u = sim_u[1].mean(axis=0) \n",
        "mean_q_u_alpha = sim_u[2].mean(axis=0)\n",
        "\n",
        "\n",
        "sim_u_random = simulations(iters, N_tilde, V_u_random)\n",
        "mean_p_u_random = sim_u_random[0].mean(axis=0)\n",
        "mean_q_u_random = sim_u_random[1].mean(axis=0)\n",
        "mean_q_u_random_alpha = sim_u_random[2].mean(axis=0)"
      ],
      "execution_count": null,
      "outputs": []
    },
    {
      "cell_type": "code",
      "metadata": {
        "colab": {
          "base_uri": "https://localhost:8080/",
          "height": 173
        },
        "id": "jdbNrLzzmeJZ",
        "outputId": "308899b6-3a79-4ffa-cdc7-84135f8dbe2d"
      },
      "source": [
        "pd.DataFrame( [q_real, mean_q_v, mean_q_u, mean_q_u_random], columns=names, index=['\"real\" 100%', 'fix with v', 'fix with u', 'fix with u random']).head(4)  # mean\n"
      ],
      "execution_count": null,
      "outputs": [
        {
          "output_type": "execute_result",
          "data": {
            "text/html": [
              "<div>\n",
              "<style scoped>\n",
              "    .dataframe tbody tr th:only-of-type {\n",
              "        vertical-align: middle;\n",
              "    }\n",
              "\n",
              "    .dataframe tbody tr th {\n",
              "        vertical-align: top;\n",
              "    }\n",
              "\n",
              "    .dataframe thead th {\n",
              "        text-align: right;\n",
              "    }\n",
              "</style>\n",
              "<table border=\"1\" class=\"dataframe\">\n",
              "  <thead>\n",
              "    <tr style=\"text-align: right;\">\n",
              "      <th></th>\n",
              "      <th>הליכוד</th>\n",
              "      <th>יש עתיד</th>\n",
              "      <th>שס</th>\n",
              "      <th>כחול לבן</th>\n",
              "      <th>ימינה</th>\n",
              "      <th>עבודה</th>\n",
              "      <th>יהדות התורה</th>\n",
              "      <th>ישראל ביתנו</th>\n",
              "      <th>הציונות הדתית</th>\n",
              "      <th>הרשימה המשותפת</th>\n",
              "      <th>תקוה חדשה</th>\n",
              "      <th>מרצ</th>\n",
              "      <th>רעם</th>\n",
              "    </tr>\n",
              "  </thead>\n",
              "  <tbody>\n",
              "    <tr>\n",
              "      <th>\"real\" 100%</th>\n",
              "      <td>0.245353</td>\n",
              "      <td>0.141524</td>\n",
              "      <td>0.074292</td>\n",
              "      <td>0.067524</td>\n",
              "      <td>0.059536</td>\n",
              "      <td>0.059624</td>\n",
              "      <td>0.059694</td>\n",
              "      <td>0.056165</td>\n",
              "      <td>0.050465</td>\n",
              "      <td>0.051237</td>\n",
              "      <td>0.047548</td>\n",
              "      <td>0.046211</td>\n",
              "      <td>0.040829</td>\n",
              "    </tr>\n",
              "    <tr>\n",
              "      <th>fix with v</th>\n",
              "      <td>0.245354</td>\n",
              "      <td>0.141514</td>\n",
              "      <td>0.074282</td>\n",
              "      <td>0.067543</td>\n",
              "      <td>0.059704</td>\n",
              "      <td>0.059618</td>\n",
              "      <td>0.059530</td>\n",
              "      <td>0.056180</td>\n",
              "      <td>0.051242</td>\n",
              "      <td>0.050453</td>\n",
              "      <td>0.047545</td>\n",
              "      <td>0.046203</td>\n",
              "      <td>0.040833</td>\n",
              "    </tr>\n",
              "    <tr>\n",
              "      <th>fix with u</th>\n",
              "      <td>0.264737</td>\n",
              "      <td>0.167038</td>\n",
              "      <td>0.093632</td>\n",
              "      <td>0.072655</td>\n",
              "      <td>0.062066</td>\n",
              "      <td>0.061144</td>\n",
              "      <td>0.055662</td>\n",
              "      <td>0.043451</td>\n",
              "      <td>0.043252</td>\n",
              "      <td>0.041050</td>\n",
              "      <td>0.038213</td>\n",
              "      <td>0.031146</td>\n",
              "      <td>0.025954</td>\n",
              "    </tr>\n",
              "    <tr>\n",
              "      <th>fix with u random</th>\n",
              "      <td>0.194486</td>\n",
              "      <td>0.138826</td>\n",
              "      <td>0.095073</td>\n",
              "      <td>0.089580</td>\n",
              "      <td>0.085867</td>\n",
              "      <td>0.085319</td>\n",
              "      <td>0.056948</td>\n",
              "      <td>0.051508</td>\n",
              "      <td>0.047251</td>\n",
              "      <td>0.047121</td>\n",
              "      <td>0.044812</td>\n",
              "      <td>0.032010</td>\n",
              "      <td>0.031199</td>\n",
              "    </tr>\n",
              "  </tbody>\n",
              "</table>\n",
              "</div>"
            ],
            "text/plain": [
              "                     הליכוד   יש עתיד        שס  ...  תקוה חדשה       מרצ       רעם\n",
              "\"real\" 100%        0.245353  0.141524  0.074292  ...   0.047548  0.046211  0.040829\n",
              "fix with v         0.245354  0.141514  0.074282  ...   0.047545  0.046203  0.040833\n",
              "fix with u         0.264737  0.167038  0.093632  ...   0.038213  0.031146  0.025954\n",
              "fix with u random  0.194486  0.138826  0.095073  ...   0.044812  0.032010  0.031199\n",
              "\n",
              "[4 rows x 13 columns]"
            ]
          },
          "metadata": {},
          "execution_count": 71
        }
      ]
    },
    {
      "cell_type": "markdown",
      "metadata": {
        "id": "4TT4qFzAlUA_"
      },
      "source": [
        "## Bar-plots showing the results"
      ]
    },
    {
      "cell_type": "code",
      "metadata": {
        "colab": {
          "base_uri": "https://localhost:8080/",
          "height": 1000
        },
        "id": "450ecDyEmWTi",
        "outputId": "995f191e-744c-4a17-d167-2b6eaedc0e81"
      },
      "source": [
        "\n",
        "# Bar plot for a party, only showing values above a certain threshold after fixing:\n",
        "def party_bar_fix(q_real, q_hat, p, q_alpha):\n",
        "    width = 0.2  # set column width \n",
        "    n = len(total_votes)\n",
        "\n",
        "    rev_names = [name[::-1] for name in list(names)]\n",
        "    fig, ax = plt.subplots()  # plt.subplots()\n",
        "\n",
        "    q_real_bar = ax.bar(np.arange(n), list(q_real), width, color='teal')\n",
        "    q_hat_bar = ax.bar(np.arange(n)+width, q_hat, width, color='lightseagreen')\n",
        "    p_bar = ax.bar(np.arange(n)+2*width, p, width, color='aqua')\n",
        "    q_alpha_bar = ax.bar(np.arange(n)+3*width, q_alpha, width, color='cadetblue')\n",
        "\n",
        "    ax.set_ylabel('Votes percent')\n",
        "    ax.set_xlabel('Parties Names')\n",
        "    ax.set_title('Votes percent per party - (simultions)')\n",
        "    ax.set_xticks(np.arange(n))\n",
        "    ax.set_xticklabels(rev_names, rotation=90)\n",
        "    ax.legend((q_real_bar, q_hat_bar, p_bar, q_alpha_bar), ('q real', 'q hat', 'p', 'q alpha'))\n",
        "    plt.show()\n",
        "\n",
        "    return fig, ax\n",
        "\n",
        "party_bar_fix(q_real, mean_q_v, mean_p_v, mean_q_v_alpha)\n",
        "party_bar_fix(q_real, mean_q_u, mean_p_u, mean_q_u_alpha)\n",
        "party_bar_fix(q_real, mean_q_u_random, mean_p_u_random, mean_q_u_random_alpha)"
      ],
      "execution_count": null,
      "outputs": [
        {
          "output_type": "display_data",
          "data": {
            "image/png": "[encoded data removed]",
            "text/plain": [
              "<Figure size 432x288 with 1 Axes>"
            ]
          },
          "metadata": {
            "needs_background": "light"
          }
        },
        {
          "output_type": "display_data",
          "data": {
            "image/png": "[encoded data removed]",
            "text/plain": [
              "<Figure size 432x288 with 1 Axes>"
            ]
          },
          "metadata": {
            "needs_background": "light"
          }
        },
        {
          "output_type": "display_data",
          "data": {
            "image/png": "[encoded data removed]",
            "text/plain": [
              "<Figure size 432x288 with 1 Axes>"
            ]
          },
          "metadata": {
            "needs_background": "light"
          }
        },
        {
          "output_type": "execute_result",
          "data": {
            "text/plain": [
              "(<Figure size 432x288 with 1 Axes>,\n",
              " <matplotlib.axes._subplots.AxesSubplot at 0x7f4df5716050>)"
            ]
          },
          "metadata": {},
          "execution_count": 72
        }
      ]
    },
    {
      "cell_type": "markdown",
      "metadata": {
        "id": "pdkg7dP_79Qz"
      },
      "source": [
        "After analyzing the plots we can see that new parameter q-alpha close enough to the real_q for the 2nd and 3rd methods, but in 1st method it is far away from reality."
      ]
    },
    {
      "cell_type": "markdown",
      "metadata": {
        "id": "89bPoKo3eRyg"
      },
      "source": [
        "***Question 3: Analyzing socio-economic data***"
      ]
    },
    {
      "cell_type": "code",
      "metadata": {
        "colab": {
          "base_uri": "https://localhost:8080/",
          "height": 269
        },
        "id": "JXGIskAAeHqF",
        "outputId": "e9deb578-1eba-4854-e518-dc4d2c35c89d"
      },
      "source": [
        "#Joining the dataframes\n",
        "df_2021_q3 = df_2021\n",
        "df_2021_q3['סמל ישוב'] = df_2021_raw['סמל ישוב']\n",
        "dfinal = df_2021_q3.join(df_eshkol_hevrati_raw.set_index('set_code'), on='סמל ישוב') #joining the dataframes by the set code column\n",
        "dfinal = dfinal.dropna() \n",
        "dfinal.head()"
      ],
      "execution_count": null,
      "outputs": [
        {
          "output_type": "execute_result",
          "data": {
            "text/html": [
              "<div>\n",
              "<style scoped>\n",
              "    .dataframe tbody tr th:only-of-type {\n",
              "        vertical-align: middle;\n",
              "    }\n",
              "\n",
              "    .dataframe tbody tr th {\n",
              "        vertical-align: top;\n",
              "    }\n",
              "\n",
              "    .dataframe thead th {\n",
              "        text-align: right;\n",
              "    }\n",
              "</style>\n",
              "<table border=\"1\" class=\"dataframe\">\n",
              "  <thead>\n",
              "    <tr style=\"text-align: right;\">\n",
              "      <th></th>\n",
              "      <th>הליכוד</th>\n",
              "      <th>יש עתיד</th>\n",
              "      <th>שס</th>\n",
              "      <th>כחול לבן</th>\n",
              "      <th>ימינה</th>\n",
              "      <th>עבודה</th>\n",
              "      <th>יהדות התורה</th>\n",
              "      <th>ישראל ביתנו</th>\n",
              "      <th>הציונות הדתית</th>\n",
              "      <th>הרשימה המשותפת</th>\n",
              "      <th>תקוה חדשה</th>\n",
              "      <th>מרצ</th>\n",
              "      <th>רעם</th>\n",
              "      <th>סמל ישוב</th>\n",
              "      <th>population</th>\n",
              "      <th>index_value</th>\n",
              "      <th>eco_level</th>\n",
              "    </tr>\n",
              "    <tr>\n",
              "      <th>שם ישוב</th>\n",
              "      <th></th>\n",
              "      <th></th>\n",
              "      <th></th>\n",
              "      <th></th>\n",
              "      <th></th>\n",
              "      <th></th>\n",
              "      <th></th>\n",
              "      <th></th>\n",
              "      <th></th>\n",
              "      <th></th>\n",
              "      <th></th>\n",
              "      <th></th>\n",
              "      <th></th>\n",
              "      <th></th>\n",
              "      <th></th>\n",
              "      <th></th>\n",
              "      <th></th>\n",
              "    </tr>\n",
              "  </thead>\n",
              "  <tbody>\n",
              "    <tr>\n",
              "      <th>אבירים</th>\n",
              "      <td>5</td>\n",
              "      <td>27</td>\n",
              "      <td>1</td>\n",
              "      <td>16</td>\n",
              "      <td>0</td>\n",
              "      <td>47</td>\n",
              "      <td>0</td>\n",
              "      <td>2</td>\n",
              "      <td>2</td>\n",
              "      <td>3</td>\n",
              "      <td>8</td>\n",
              "      <td>31</td>\n",
              "      <td>0</td>\n",
              "      <td>1220</td>\n",
              "      <td>194.0</td>\n",
              "      <td>0.734</td>\n",
              "      <td>7.0</td>\n",
              "    </tr>\n",
              "    <tr>\n",
              "      <th>אדירים</th>\n",
              "      <td>84</td>\n",
              "      <td>2</td>\n",
              "      <td>61</td>\n",
              "      <td>3</td>\n",
              "      <td>7</td>\n",
              "      <td>1</td>\n",
              "      <td>4</td>\n",
              "      <td>0</td>\n",
              "      <td>9</td>\n",
              "      <td>0</td>\n",
              "      <td>6</td>\n",
              "      <td>0</td>\n",
              "      <td>0</td>\n",
              "      <td>113</td>\n",
              "      <td>267.0</td>\n",
              "      <td>0.011</td>\n",
              "      <td>5.0</td>\n",
              "    </tr>\n",
              "    <tr>\n",
              "      <th>אושה</th>\n",
              "      <td>24</td>\n",
              "      <td>86</td>\n",
              "      <td>0</td>\n",
              "      <td>37</td>\n",
              "      <td>7</td>\n",
              "      <td>72</td>\n",
              "      <td>0</td>\n",
              "      <td>8</td>\n",
              "      <td>0</td>\n",
              "      <td>3</td>\n",
              "      <td>15</td>\n",
              "      <td>20</td>\n",
              "      <td>0</td>\n",
              "      <td>278</td>\n",
              "      <td>462.0</td>\n",
              "      <td>0.873</td>\n",
              "      <td>7.0</td>\n",
              "    </tr>\n",
              "    <tr>\n",
              "      <th>אחווה</th>\n",
              "      <td>27</td>\n",
              "      <td>37</td>\n",
              "      <td>2</td>\n",
              "      <td>36</td>\n",
              "      <td>4</td>\n",
              "      <td>14</td>\n",
              "      <td>0</td>\n",
              "      <td>3</td>\n",
              "      <td>4</td>\n",
              "      <td>0</td>\n",
              "      <td>8</td>\n",
              "      <td>10</td>\n",
              "      <td>0</td>\n",
              "      <td>1157</td>\n",
              "      <td>159.0</td>\n",
              "      <td>1.085</td>\n",
              "      <td>8.0</td>\n",
              "    </tr>\n",
              "    <tr>\n",
              "      <th>איבים</th>\n",
              "      <td>17</td>\n",
              "      <td>0</td>\n",
              "      <td>1</td>\n",
              "      <td>5</td>\n",
              "      <td>4</td>\n",
              "      <td>0</td>\n",
              "      <td>0</td>\n",
              "      <td>0</td>\n",
              "      <td>10</td>\n",
              "      <td>0</td>\n",
              "      <td>0</td>\n",
              "      <td>0</td>\n",
              "      <td>0</td>\n",
              "      <td>338</td>\n",
              "      <td>277.0</td>\n",
              "      <td>-2.401</td>\n",
              "      <td>1.0</td>\n",
              "    </tr>\n",
              "  </tbody>\n",
              "</table>\n",
              "</div>"
            ],
            "text/plain": [
              "         הליכוד  יש עתיד  שס  ...  population  index_value  eco_level\n",
              "שם ישוב                       ...                                    \n",
              "אבירים        5       27   1  ...       194.0        0.734        7.0\n",
              "אדירים       84        2  61  ...       267.0        0.011        5.0\n",
              "אושה         24       86   0  ...       462.0        0.873        7.0\n",
              "אחווה        27       37   2  ...       159.0        1.085        8.0\n",
              "איבים        17        0   1  ...       277.0       -2.401        1.0\n",
              "\n",
              "[5 rows x 17 columns]"
            ]
          },
          "metadata": {},
          "execution_count": 73
        }
      ]
    },
    {
      "cell_type": "code",
      "metadata": {
        "colab": {
          "base_uri": "https://localhost:8080/"
        },
        "id": "aWbAQvpJeoiR",
        "outputId": "b2838585-35be-4e28-da07-670fc6c3c604"
      },
      "source": [
        "print(\"amount of obtained cities:\")\n",
        "len(dfinal.index)"
      ],
      "execution_count": null,
      "outputs": [
        {
          "output_type": "stream",
          "name": "stdout",
          "text": [
            "amount of obtained cities:\n"
          ]
        },
        {
          "output_type": "execute_result",
          "data": {
            "text/plain": [
              "1171"
            ]
          },
          "metadata": {},
          "execution_count": 74
        }
      ]
    },
    {
      "cell_type": "code",
      "metadata": {
        "colab": {
          "base_uri": "https://localhost:8080/"
        },
        "id": "-QRAkqwser_Q",
        "outputId": "e8f47712-3f29-4f35-a950-5b3b917dc50e"
      },
      "source": [
        "print(\"amount of lost cities:\")\n",
        "len(df_2021_q3.index) - len(dfinal.index) "
      ],
      "execution_count": null,
      "outputs": [
        {
          "output_type": "stream",
          "name": "stdout",
          "text": [
            "amount of lost cities:\n"
          ]
        },
        {
          "output_type": "execute_result",
          "data": {
            "text/plain": [
              "43"
            ]
          },
          "metadata": {},
          "execution_count": 75
        }
      ]
    },
    {
      "cell_type": "code",
      "metadata": {
        "id": "Xlg95xxefKQK"
      },
      "source": [
        "national_vote = dfinal[names].sum().div(dfinal[names].sum().sum())\n",
        "socio_vote = df_2021_q3[names].sum().div(df_2021_q3[names].sum().sum())"
      ],
      "execution_count": null,
      "outputs": []
    },
    {
      "cell_type": "code",
      "metadata": {
        "id": "Zl7eFEH4fN7Q"
      },
      "source": [
        "# Bar plot for a party, only showing values above a certain threshold\n",
        "def party_bar(national, socio):\n",
        "    width = 0.3  # set column width \n",
        "    n = len(total_votes)  # number of parties\n",
        "\n",
        "    rev_names = [name[::-1] for name in list(names)]\n",
        "    fig, ax = plt.subplots()  # plt.subplots()\n",
        "\n",
        "    national_vote = ax.bar(np.arange(n), list(national), width, color='lightcoral')\n",
        "    socio_vote = ax.bar(np.arange(n)+ width , socio, width, color='maroon')\n",
        "\n",
        "    ax.set_ylabel('Votes percent')\n",
        "    ax.set_xlabel('Parties Names')\n",
        "    ax.set_title('Comparing national Votes percent per party 2021 to clean data by Socio Votes')\n",
        "    ax.set_xticks(np.arange(n))\n",
        "    ax.set_xticklabels(rev_names, rotation = 90)\n",
        "    ax.legend((national_vote, socio_vote), (\"national vote\", \"socio vote\"))\n",
        "    plt.show()\n",
        "\n",
        "    return fig, ax\n",
        "  "
      ],
      "execution_count": null,
      "outputs": []
    },
    {
      "cell_type": "code",
      "metadata": {
        "colab": {
          "base_uri": "https://localhost:8080/",
          "height": 400
        },
        "id": "9VV6x0csfSGq",
        "outputId": "f28692f2-bc88-4eb7-cd27-aefdc987ca9e"
      },
      "source": [
        "party_bar(national_vote, socio_vote)"
      ],
      "execution_count": null,
      "outputs": [
        {
          "output_type": "display_data",
          "data": {
            "image/png": "[encoded data removed]",
            "text/plain": [
              "<Figure size 432x288 with 1 Axes>"
            ]
          },
          "metadata": {
            "needs_background": "light"
          }
        },
        {
          "output_type": "execute_result",
          "data": {
            "text/plain": [
              "(<Figure size 432x288 with 1 Axes>,\n",
              " <matplotlib.axes._subplots.AxesSubplot at 0x7f4df5939ad0>)"
            ]
          },
          "metadata": {},
          "execution_count": 80
        }
      ]
    },
    {
      "cell_type": "markdown",
      "metadata": {
        "id": "RFNb-q7Uhw7a"
      },
      "source": [
        "From the barplot we can observe that there is no significant differences between \"national vote\" and \"socio vote\" results in cities, which occured in both dataframes. This could have happened because biggest part of the cities (1170 out of 1214) included in both datasets, on the other hand, it is logical to assume that cities that were not included in merging are the small cities, so they didn't change the results in a dramatic way."
      ]
    },
    {
      "cell_type": "markdown",
      "metadata": {
        "id": "TmPXBvMZh1nN"
      },
      "source": [
        "***Question4. Defining patterns of voting depending on socio-economic status***."
      ]
    },
    {
      "cell_type": "code",
      "metadata": {
        "id": "KbkjqCMGxLAR"
      },
      "source": [
        "if   run_in_colab:\n",
        "      df_eshkol_hevrati_raw = pd.read_excel(io.BytesIO(uploaded['eshkol_hevrati_calcali.xlsx']), index_col='name')\n",
        "else:\n",
        "  df_eshkol_hevrati_raw = pd.read_excel(data_path + 'eshkol_hevrati_calcali.xlsx',  index_col='name')  # need to read locally"
      ],
      "execution_count": null,
      "outputs": []
    },
    {
      "cell_type": "code",
      "metadata": {
        "colab": {
          "base_uri": "https://localhost:8080/",
          "height": 359
        },
        "id": "w8OLT4eqhtBf",
        "outputId": "1c6b6bce-823b-4e26-d0ae-37f1c7a4e204"
      },
      "source": [
        "#4a.\n",
        "dataF =  pd.DataFrame()\n",
        "for i in range(1, 11):   \n",
        "    # np.where we find the eco level    \n",
        "    cities = np.where(dfinal['eco_level'].values.astype('float') == i)[0]\n",
        "    dataF[i] = dfinal.iloc[cities][names].sum().div(dfinal.iloc[cities][names].sum().sum())\n",
        "dataF = dataF.T\n",
        "dataF"
      ],
      "execution_count": null,
      "outputs": [
        {
          "output_type": "execute_result",
          "data": {
            "text/html": [
              "<div>\n",
              "<style scoped>\n",
              "    .dataframe tbody tr th:only-of-type {\n",
              "        vertical-align: middle;\n",
              "    }\n",
              "\n",
              "    .dataframe tbody tr th {\n",
              "        vertical-align: top;\n",
              "    }\n",
              "\n",
              "    .dataframe thead th {\n",
              "        text-align: right;\n",
              "    }\n",
              "</style>\n",
              "<table border=\"1\" class=\"dataframe\">\n",
              "  <thead>\n",
              "    <tr style=\"text-align: right;\">\n",
              "      <th></th>\n",
              "      <th>הליכוד</th>\n",
              "      <th>יש עתיד</th>\n",
              "      <th>שס</th>\n",
              "      <th>כחול לבן</th>\n",
              "      <th>ימינה</th>\n",
              "      <th>עבודה</th>\n",
              "      <th>יהדות התורה</th>\n",
              "      <th>ישראל ביתנו</th>\n",
              "      <th>הציונות הדתית</th>\n",
              "      <th>הרשימה המשותפת</th>\n",
              "      <th>תקוה חדשה</th>\n",
              "      <th>מרצ</th>\n",
              "      <th>רעם</th>\n",
              "    </tr>\n",
              "  </thead>\n",
              "  <tbody>\n",
              "    <tr>\n",
              "      <th>1</th>\n",
              "      <td>0.032556</td>\n",
              "      <td>0.004607</td>\n",
              "      <td>0.112501</td>\n",
              "      <td>0.001445</td>\n",
              "      <td>0.002173</td>\n",
              "      <td>0.002162</td>\n",
              "      <td>0.361278</td>\n",
              "      <td>0.000348</td>\n",
              "      <td>0.033230</td>\n",
              "      <td>0.092789</td>\n",
              "      <td>0.003955</td>\n",
              "      <td>0.008356</td>\n",
              "      <td>0.344598</td>\n",
              "    </tr>\n",
              "    <tr>\n",
              "      <th>2</th>\n",
              "      <td>0.132224</td>\n",
              "      <td>0.031683</td>\n",
              "      <td>0.156337</td>\n",
              "      <td>0.018071</td>\n",
              "      <td>0.039718</td>\n",
              "      <td>0.020677</td>\n",
              "      <td>0.247023</td>\n",
              "      <td>0.014716</td>\n",
              "      <td>0.071365</td>\n",
              "      <td>0.126095</td>\n",
              "      <td>0.020565</td>\n",
              "      <td>0.023287</td>\n",
              "      <td>0.098240</td>\n",
              "    </tr>\n",
              "    <tr>\n",
              "      <th>3</th>\n",
              "      <td>0.160870</td>\n",
              "      <td>0.031122</td>\n",
              "      <td>0.078107</td>\n",
              "      <td>0.017518</td>\n",
              "      <td>0.035278</td>\n",
              "      <td>0.018494</td>\n",
              "      <td>0.025292</td>\n",
              "      <td>0.045751</td>\n",
              "      <td>0.083894</td>\n",
              "      <td>0.272468</td>\n",
              "      <td>0.018706</td>\n",
              "      <td>0.032753</td>\n",
              "      <td>0.179746</td>\n",
              "    </tr>\n",
              "    <tr>\n",
              "      <th>4</th>\n",
              "      <td>0.325441</td>\n",
              "      <td>0.072709</td>\n",
              "      <td>0.100326</td>\n",
              "      <td>0.035809</td>\n",
              "      <td>0.046418</td>\n",
              "      <td>0.026998</td>\n",
              "      <td>0.041010</td>\n",
              "      <td>0.085306</td>\n",
              "      <td>0.062950</td>\n",
              "      <td>0.085410</td>\n",
              "      <td>0.038555</td>\n",
              "      <td>0.024793</td>\n",
              "      <td>0.054276</td>\n",
              "    </tr>\n",
              "    <tr>\n",
              "      <th>5</th>\n",
              "      <td>0.369005</td>\n",
              "      <td>0.095115</td>\n",
              "      <td>0.095030</td>\n",
              "      <td>0.040974</td>\n",
              "      <td>0.065048</td>\n",
              "      <td>0.026258</td>\n",
              "      <td>0.037225</td>\n",
              "      <td>0.117095</td>\n",
              "      <td>0.062039</td>\n",
              "      <td>0.022523</td>\n",
              "      <td>0.050632</td>\n",
              "      <td>0.015808</td>\n",
              "      <td>0.003248</td>\n",
              "    </tr>\n",
              "    <tr>\n",
              "      <th>6</th>\n",
              "      <td>0.371955</td>\n",
              "      <td>0.121793</td>\n",
              "      <td>0.079594</td>\n",
              "      <td>0.057049</td>\n",
              "      <td>0.086499</td>\n",
              "      <td>0.040014</td>\n",
              "      <td>0.015433</td>\n",
              "      <td>0.074675</td>\n",
              "      <td>0.064520</td>\n",
              "      <td>0.005594</td>\n",
              "      <td>0.058403</td>\n",
              "      <td>0.023559</td>\n",
              "      <td>0.000912</td>\n",
              "    </tr>\n",
              "    <tr>\n",
              "      <th>7</th>\n",
              "      <td>0.290612</td>\n",
              "      <td>0.185687</td>\n",
              "      <td>0.053748</td>\n",
              "      <td>0.085301</td>\n",
              "      <td>0.071388</td>\n",
              "      <td>0.064997</td>\n",
              "      <td>0.018748</td>\n",
              "      <td>0.067389</td>\n",
              "      <td>0.042984</td>\n",
              "      <td>0.013410</td>\n",
              "      <td>0.064015</td>\n",
              "      <td>0.040975</td>\n",
              "      <td>0.000747</td>\n",
              "    </tr>\n",
              "    <tr>\n",
              "      <th>8</th>\n",
              "      <td>0.194882</td>\n",
              "      <td>0.243561</td>\n",
              "      <td>0.028761</td>\n",
              "      <td>0.118293</td>\n",
              "      <td>0.063456</td>\n",
              "      <td>0.120785</td>\n",
              "      <td>0.006558</td>\n",
              "      <td>0.035633</td>\n",
              "      <td>0.026994</td>\n",
              "      <td>0.006788</td>\n",
              "      <td>0.056851</td>\n",
              "      <td>0.095945</td>\n",
              "      <td>0.001494</td>\n",
              "    </tr>\n",
              "    <tr>\n",
              "      <th>9</th>\n",
              "      <td>0.141208</td>\n",
              "      <td>0.290323</td>\n",
              "      <td>0.009762</td>\n",
              "      <td>0.149317</td>\n",
              "      <td>0.055276</td>\n",
              "      <td>0.134311</td>\n",
              "      <td>0.004785</td>\n",
              "      <td>0.030352</td>\n",
              "      <td>0.016062</td>\n",
              "      <td>0.003021</td>\n",
              "      <td>0.054918</td>\n",
              "      <td>0.110176</td>\n",
              "      <td>0.000487</td>\n",
              "    </tr>\n",
              "    <tr>\n",
              "      <th>10</th>\n",
              "      <td>0.171687</td>\n",
              "      <td>0.310743</td>\n",
              "      <td>0.005773</td>\n",
              "      <td>0.167420</td>\n",
              "      <td>0.038655</td>\n",
              "      <td>0.089357</td>\n",
              "      <td>0.003012</td>\n",
              "      <td>0.049448</td>\n",
              "      <td>0.012048</td>\n",
              "      <td>0.003263</td>\n",
              "      <td>0.038906</td>\n",
              "      <td>0.108434</td>\n",
              "      <td>0.001255</td>\n",
              "    </tr>\n",
              "  </tbody>\n",
              "</table>\n",
              "</div>"
            ],
            "text/plain": [
              "      הליכוד   יש עתיד        שס  ...  תקוה חדשה       מרצ       רעם\n",
              "1   0.032556  0.004607  0.112501  ...   0.003955  0.008356  0.344598\n",
              "2   0.132224  0.031683  0.156337  ...   0.020565  0.023287  0.098240\n",
              "3   0.160870  0.031122  0.078107  ...   0.018706  0.032753  0.179746\n",
              "4   0.325441  0.072709  0.100326  ...   0.038555  0.024793  0.054276\n",
              "5   0.369005  0.095115  0.095030  ...   0.050632  0.015808  0.003248\n",
              "6   0.371955  0.121793  0.079594  ...   0.058403  0.023559  0.000912\n",
              "7   0.290612  0.185687  0.053748  ...   0.064015  0.040975  0.000747\n",
              "8   0.194882  0.243561  0.028761  ...   0.056851  0.095945  0.001494\n",
              "9   0.141208  0.290323  0.009762  ...   0.054918  0.110176  0.000487\n",
              "10  0.171687  0.310743  0.005773  ...   0.038906  0.108434  0.001255\n",
              "\n",
              "[10 rows x 13 columns]"
            ]
          },
          "metadata": {},
          "execution_count": 81
        }
      ]
    },
    {
      "cell_type": "code",
      "metadata": {
        "colab": {
          "base_uri": "https://localhost:8080/",
          "height": 570
        },
        "id": "sczJmR_jh6xa",
        "outputId": "b2340864-b741-4e71-894b-e72017cda711"
      },
      "source": [
        "from matplotlib.pyplot import figure\n",
        "\n",
        "figure(figsize=(20,8))\n",
        "plt.subplots_adjust(hspace=0.7, wspace=0.4)\n",
        "\n",
        "rev_names = [name[::-1] for name in list(names)]\n",
        "\n",
        "for i in range(10):\n",
        "  plt.subplot(2,5,i+1)\n",
        "  plt.bar(rev_names, dataF.loc[i+1], color='rebeccapurple')\n",
        "  plt.title(\"Eshkol \" + str(i+1), fontsize=14)\n",
        "  plt.ylabel('Votes percent')\n",
        "  plt.xticks(rotation=90)\n"
      ],
      "execution_count": null,
      "outputs": [
        {
          "output_type": "display_data",
          "data": {
            "image/png": "[encoded data removed]",
            "text/plain": [
              "<Figure size 1440x576 with 10 Axes>"
            ]
          },
          "metadata": {
            "needs_background": "light"
          }
        }
      ]
    },
    {
      "cell_type": "markdown",
      "metadata": {
        "id": "gkt6FwP5h97Q"
      },
      "source": [
        "By comparing the plots between each other, we can clearly see that in the 1st economic rank most of electorate votes are split between יהדות התורה״\" and \"רעם\", however, with the increasing level of economic rank the votes become more distributed between all of the parties decreasing the postions of \"יהדות התורה\" and \"רעם\" . Particularly, we can indicate that starting from 4th economic rank most of the votes are given to \"הליכוד\". Therefore, in the highest economic ranks 8-10 most of the votes are given to \"יש עתיד\", while \"הליכוד\" decreases its position at comes at second place as best with another parties."
      ]
    },
    {
      "cell_type": "code",
      "metadata": {
        "colab": {
          "base_uri": "https://localhost:8080/",
          "height": 1000
        },
        "id": "zpotkb-Lh-4O",
        "outputId": "0ec5820c-6aa7-4c9b-d59a-9e4b2ec9daac"
      },
      "source": [
        "dataF_2 = dataF.T\n",
        "\n",
        "figure(figsize=(20,25))\n",
        "plt.subplots_adjust(hspace=0.7, wspace=0.4)\n",
        "\n",
        "rev_names_2=list(range(1,11))\n",
        "\n",
        "for i in range(13):\n",
        "  plt.subplot(4,4,i+1)\n",
        "  plt.bar(rev_names_2, dataF_2.iloc[i-1], color='mediumpurple')\n",
        "  plt.title(dataF_2.index[i-1][::-1] , fontsize=14)\n",
        "  plt.ylabel('Votes percent')\n",
        "  plt.xticks(rotation=90)"
      ],
      "execution_count": null,
      "outputs": [
        {
          "output_type": "display_data",
          "data": {
            "image/png": "[encoded data removed]",
            "text/plain": [
              "<Figure size 1440x1800 with 13 Axes>"
            ]
          },
          "metadata": {
            "needs_background": "light"
          }
        }
      ]
    },
    {
      "cell_type": "markdown",
      "metadata": {
        "id": "vM66taNuzLUF"
      },
      "source": [
        "Conclusion: By sorting data by parties, we can observe the distribution of votes for each party among different social-economic rated cities. As we can see, the parties \"רעם\" ,\"שס\" and \"יהדות התורה\" are tent to receive their votes from low economic rated (1-2) cities. On the opposite, the biggest part of votes that come to \"כחול לבן\", \"יש עתיד\", \"מרצ\" come frow high economic rated (9-10) cities. The parties, whose votes come from middle socio-economic rated cities (5-7) are \"ימינה\", \"הליכוד\", \"הציונות הדתיות\". Moreover, it can be clearly seen as the economic rate rises the percent of votes for \"כחול לבן\" and \"יש עתיד\" parties also gradually rises.\n",
        "\n",
        "\n",
        "Sorting data by parties in accordance with economic rate is really helpful, because it helps to understand which party will be chosen by people from different socio-economic backround. In a real world it is really useful, since according with that parties can expand their program and commercials on their target audience and, thus, attract new voters to vote for them. They also can broad their program in a such way to atract voters not from their prime \"target\" audience.\n"
      ]
    }
  ]
}