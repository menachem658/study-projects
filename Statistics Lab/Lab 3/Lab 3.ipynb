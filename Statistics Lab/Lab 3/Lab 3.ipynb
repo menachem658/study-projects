{
  "nbformat": 4,
  "nbformat_minor": 0,
  "metadata": {
    "colab": {
      "name": "Lab3.ipynb",
      "provenance": [],
      "collapsed_sections": []
    },
    "kernelspec": {
      "name": "python3",
      "display_name": "Python 3"
    },
    "language_info": {
      "name": "python"
    }
  },
  "cells": [
    {
      "cell_type": "markdown",
      "metadata": {
        "id": "2Fe3BuJgxYmZ"
      },
      "source": [
        "## **Israel Elections Data - Lab 3**\n",
        "1. Idan Keipour 315355537\n",
        "2. Menachem Sokolik 314696972\n",
        "3. Maria Mordvova 345232821\n"
      ]
    },
    {
      "cell_type": "code",
      "metadata": {
        "colab": {
          "base_uri": "https://localhost:8080/"
        },
        "id": "r1NqEOXGxUdQ",
        "outputId": "01810fae-b9c4-4359-ae60-2cb377db8c30"
      },
      "source": [
        "# Add a check if we run in google colab or locally in jupyter notebook\n",
        "run_in_colab = False\n",
        "if 'google.colab' in str(get_ipython()):\n",
        "    run_in_colab = True\n",
        "    print('Running on CoLab')\n",
        "else:\n",
        "    print('Running locally on Jupyter')\n"
      ],
      "execution_count": null,
      "outputs": [
        {
          "output_type": "stream",
          "name": "stdout",
          "text": [
            "Running on CoLab\n"
          ]
        }
      ]
    },
    {
      "cell_type": "code",
      "metadata": {
        "id": "k6M45N8Ixm-s",
        "colab": {
          "base_uri": "https://localhost:8080/"
        },
        "outputId": "3d6dd258-ed73-4bec-ee8c-562497766324"
      },
      "source": [
        "# Import modules \n",
        "import numpy as np  # a module for working with numerical array \n",
        "import pandas as pd  # a module for working with data-frames\n",
        "import statsmodels.api as sm  # a module for statistical modelling (e.g. regression analysis)\n",
        "from matplotlib import pyplot as plt # a module for working with plots\n",
        "import random\n",
        "import io"
      ],
      "execution_count": null,
      "outputs": [
        {
          "output_type": "stream",
          "name": "stderr",
          "text": [
            "/usr/local/lib/python3.7/dist-packages/statsmodels/tools/_testing.py:19: FutureWarning: pandas.util.testing is deprecated. Use the functions in the public API at pandas.testing instead.\n",
            "  import pandas.util.testing as tm\n"
          ]
        }
      ]
    },
    {
      "cell_type": "code",
      "metadata": {
        "colab": {
          "resources": {
            "http://localhost:8080/nbextensions/google.colab/files.js": {
              "data": "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",
              "ok": true,
              "headers": [
                [
                  "content-type",
                  "application/javascript"
                ]
              ],
              "status": 200,
              "status_text": ""
            }
          },
          "base_uri": "https://localhost:8080/",
          "height": 108
        },
        "id": "32PvVsQWx4dK",
        "outputId": "b03b437d-8dae-488a-e39a-3a8eb640de7e"
      },
      "source": [
        "# Loading elections 2021 elections data:\n",
        "if run_in_colab:\n",
        "    from google.colab import files\n",
        "    uploaded = files.upload()"
      ],
      "execution_count": null,
      "outputs": [
        {
          "output_type": "display_data",
          "data": {
            "text/html": [
              "\n",
              "     <input type=\"file\" id=\"files-d54b4db0-f940-4114-8c1c-ffc069ba5ed9\" name=\"files[]\" multiple disabled\n",
              "        style=\"border:none\" />\n",
              "     <output id=\"result-d54b4db0-f940-4114-8c1c-ffc069ba5ed9\">\n",
              "      Upload widget is only available when the cell has been executed in the\n",
              "      current browser session. Please rerun this cell to enable.\n",
              "      </output>\n",
              "      <script src=\"/nbextensions/google.colab/files.js\"></script> "
            ],
            "text/plain": [
              "<IPython.core.display.HTML object>"
            ]
          },
          "metadata": {}
        },
        {
          "output_type": "stream",
          "name": "stdout",
          "text": [
            "Saving votes per ballot 2021.csv to votes per ballot 2021.csv\n",
            "Saving votes per city 2021.csv to votes per city 2021.csv\n"
          ]
        }
      ]
    },
    {
      "cell_type": "code",
      "metadata": {
        "id": "dCjwxcuazJUQ"
      },
      "source": [
        "if   run_in_colab:\n",
        "    df_2021_raw = pd.read_csv(io.BytesIO(uploaded['votes per city 2021.csv']),  encoding = 'iso-8859-8', index_col='שם ישוב')\n",
        "else:\n",
        "  df_2021_raw = pd.read_csv(data_path + 'votes per city 2021.csv',  encoding = 'iso-8859-8', index_col='שם ישוב')  # need to read locally\n",
        "\n",
        "\n",
        "if   run_in_colab:\n",
        "    df_2021_ballots_raw = pd.read_csv(io.BytesIO(uploaded['votes per ballot 2021.csv']),  encoding = 'iso-8859-8', index_col='שם ישוב')\n",
        "else:\n",
        "  df_2021_ballots_raw = pd.read_csv(data_path + 'votes per ballot 2021.csv',  encoding = 'iso-8859-8', index_col='שם ישוב')  # need to read locally\n",
        "\n",
        "df_2021 = df_2021_raw.drop('סמל ועדה', axis=1) # new column added in Sep 2021\n",
        "df_2021 = df_2021[df_2021.columns[5:-1]] # removing \"metadata\" columns\n"
      ],
      "execution_count": null,
      "outputs": []
    },
    {
      "cell_type": "markdown",
      "metadata": {
        "id": "kcbFNOW3zQ_d"
      },
      "source": [
        "*Create* a dictionary mapping parties names to voting letters"
      ]
    },
    {
      "cell_type": "code",
      "metadata": {
        "id": "HlwemF9jzVJ1"
      },
      "source": [
        "parties_dict_2021 ={'אמת' : \"עבודה\", 'מרצ' : \"מרצ\",  'ג' : \"יהדות התורה\", 'עם'  : \"רעם\",  'ת'  : \"תקוה חדשה\", 'ודעם'  : \"הרשימה המשותפת\", 'ב'  : \"ימינה\", 'ט'  : \"הציונות הדתית\",\n",
        " 'ל'  : \"ישראל ביתנו\", 'מחל'  : \"הליכוד\",  'פה'  : \"יש עתיד\", 'כן'  : \"כחול לבן\", 'שס'  : \"שס\"}\n"
      ],
      "execution_count": null,
      "outputs": []
    },
    {
      "cell_type": "code",
      "metadata": {
        "id": "SdznO19t1B11"
      },
      "source": [
        "# Compute votes share only for parties above a certain threshold \n",
        "def parties_votes_percents(df, thresh):\n",
        "    par = df.sum().div(df.sum().sum()).sort_values(ascending=False)\n",
        "    return par[par > thresh]\n",
        "\n",
        "# dataframe of parties that pass the votes rate\n",
        "df_2021_parties_votes_pass = parties_votes_percents(df_2021,0.0325)\n",
        "names = df_2021_parties_votes_pass.keys() \n"
      ],
      "execution_count": null,
      "outputs": []
    },
    {
      "cell_type": "code",
      "metadata": {
        "id": "DoaFCqM6iVBd"
      },
      "source": [
        "clean_data = df_2021_ballots_raw[np.intersect1d(df_2021_ballots_raw.columns, names)] #Keeps only past parties\n",
        "clean_data = clean_data.drop('מעטפות חיצוניות') #removes \"מעטפות חיצוניות\""
      ],
      "execution_count": null,
      "outputs": []
    },
    {
      "cell_type": "markdown",
      "metadata": {
        "id": "TgqZS0yl59_l"
      },
      "source": [
        "Question 1:\n",
        "\n",
        "הפונקציה מקבלת שני מסדי נתונים באותו הגודל. הראשון מייצג את מספר המצביעים הפוטנציאלים (לכל מלגה וקלפי) והשני מייצג את ההסתברות שתומך פוטנציאלי אכן יילך להצביע.\n",
        "הפונקציה מחזירה את מספר המצביעים בפועל המתפלג בינומית עם הערכים שמתקבלים במסדי הנתונים כקלט"
      ]
    },
    {
      "cell_type": "code",
      "metadata": {
        "id": "U7k9wYQM6OC9"
      },
      "source": [
        "def calc_bin(nij,vij):\n",
        "  prob = pd.DataFrame(np.random.binomial(nij,vij), index = nij.index, columns= nij.columns)\n",
        "  return prob\n"
      ],
      "execution_count": null,
      "outputs": []
    },
    {
      "cell_type": "markdown",
      "metadata": {
        "id": "V4uJuWSPsSnB"
      },
      "source": [
        "Question 2:"
      ]
    },
    {
      "cell_type": "markdown",
      "metadata": {
        "id": "t-07TgpQ2Eno"
      },
      "source": [
        "  :n_ij ראשית נבנה את הטבלה שתשמש אותנו לסימולציות בתור"
      ]
    },
    {
      "cell_type": "code",
      "metadata": {
        "colab": {
          "base_uri": "https://localhost:8080/",
          "height": 237
        },
        "id": "05qR7W32sNFC",
        "outputId": "29f1345a-3177-4a9b-9cf7-6846ab40ed12"
      },
      "source": [
        "total_bzb = df_2021_ballots_raw['בזב'].sum()\n",
        "total_kosher = df_2021_ballots_raw['כשרים'].sum()\n",
        "adj_data = round(clean_data * (total_bzb / total_kosher)) #This is the build of nij\n",
        "adj_data.head()"
      ],
      "execution_count": null,
      "outputs": [
        {
          "output_type": "execute_result",
          "data": {
            "text/html": [
              "<div>\n",
              "<style scoped>\n",
              "    .dataframe tbody tr th:only-of-type {\n",
              "        vertical-align: middle;\n",
              "    }\n",
              "\n",
              "    .dataframe tbody tr th {\n",
              "        vertical-align: top;\n",
              "    }\n",
              "\n",
              "    .dataframe thead th {\n",
              "        text-align: right;\n",
              "    }\n",
              "</style>\n",
              "<table border=\"1\" class=\"dataframe\">\n",
              "  <thead>\n",
              "    <tr style=\"text-align: right;\">\n",
              "      <th></th>\n",
              "      <th>אמת</th>\n",
              "      <th>ב</th>\n",
              "      <th>ג</th>\n",
              "      <th>ודעם</th>\n",
              "      <th>ט</th>\n",
              "      <th>כן</th>\n",
              "      <th>ל</th>\n",
              "      <th>מחל</th>\n",
              "      <th>מרצ</th>\n",
              "      <th>עם</th>\n",
              "      <th>פה</th>\n",
              "      <th>שס</th>\n",
              "      <th>ת</th>\n",
              "    </tr>\n",
              "    <tr>\n",
              "      <th>שם ישוב</th>\n",
              "      <th></th>\n",
              "      <th></th>\n",
              "      <th></th>\n",
              "      <th></th>\n",
              "      <th></th>\n",
              "      <th></th>\n",
              "      <th></th>\n",
              "      <th></th>\n",
              "      <th></th>\n",
              "      <th></th>\n",
              "      <th></th>\n",
              "      <th></th>\n",
              "      <th></th>\n",
              "    </tr>\n",
              "  </thead>\n",
              "  <tbody>\n",
              "    <tr>\n",
              "      <th>אבירים</th>\n",
              "      <td>70.0</td>\n",
              "      <td>0.0</td>\n",
              "      <td>0.0</td>\n",
              "      <td>4.0</td>\n",
              "      <td>3.0</td>\n",
              "      <td>24.0</td>\n",
              "      <td>3.0</td>\n",
              "      <td>7.0</td>\n",
              "      <td>46.0</td>\n",
              "      <td>0.0</td>\n",
              "      <td>40.0</td>\n",
              "      <td>1.0</td>\n",
              "      <td>12.0</td>\n",
              "    </tr>\n",
              "    <tr>\n",
              "      <th>אדירים</th>\n",
              "      <td>1.0</td>\n",
              "      <td>10.0</td>\n",
              "      <td>6.0</td>\n",
              "      <td>0.0</td>\n",
              "      <td>13.0</td>\n",
              "      <td>4.0</td>\n",
              "      <td>0.0</td>\n",
              "      <td>125.0</td>\n",
              "      <td>0.0</td>\n",
              "      <td>0.0</td>\n",
              "      <td>3.0</td>\n",
              "      <td>91.0</td>\n",
              "      <td>9.0</td>\n",
              "    </tr>\n",
              "    <tr>\n",
              "      <th>אושה</th>\n",
              "      <td>107.0</td>\n",
              "      <td>10.0</td>\n",
              "      <td>0.0</td>\n",
              "      <td>4.0</td>\n",
              "      <td>0.0</td>\n",
              "      <td>55.0</td>\n",
              "      <td>12.0</td>\n",
              "      <td>36.0</td>\n",
              "      <td>30.0</td>\n",
              "      <td>0.0</td>\n",
              "      <td>128.0</td>\n",
              "      <td>0.0</td>\n",
              "      <td>22.0</td>\n",
              "    </tr>\n",
              "    <tr>\n",
              "      <th>אחווה</th>\n",
              "      <td>21.0</td>\n",
              "      <td>6.0</td>\n",
              "      <td>0.0</td>\n",
              "      <td>0.0</td>\n",
              "      <td>6.0</td>\n",
              "      <td>54.0</td>\n",
              "      <td>4.0</td>\n",
              "      <td>40.0</td>\n",
              "      <td>15.0</td>\n",
              "      <td>0.0</td>\n",
              "      <td>55.0</td>\n",
              "      <td>3.0</td>\n",
              "      <td>12.0</td>\n",
              "    </tr>\n",
              "    <tr>\n",
              "      <th>איבים</th>\n",
              "      <td>0.0</td>\n",
              "      <td>6.0</td>\n",
              "      <td>0.0</td>\n",
              "      <td>0.0</td>\n",
              "      <td>15.0</td>\n",
              "      <td>7.0</td>\n",
              "      <td>0.0</td>\n",
              "      <td>25.0</td>\n",
              "      <td>0.0</td>\n",
              "      <td>0.0</td>\n",
              "      <td>0.0</td>\n",
              "      <td>1.0</td>\n",
              "      <td>0.0</td>\n",
              "    </tr>\n",
              "  </tbody>\n",
              "</table>\n",
              "</div>"
            ],
            "text/plain": [
              "           אמת     ב    ג  ודעם     ט  ...   מרצ   עם     פה    שס     ת\n",
              "שם ישוב                                ...                              \n",
              "אבירים    70.0   0.0  0.0   4.0   3.0  ...  46.0  0.0   40.0   1.0  12.0\n",
              "אדירים     1.0  10.0  6.0   0.0  13.0  ...   0.0  0.0    3.0  91.0   9.0\n",
              "אושה     107.0  10.0  0.0   4.0   0.0  ...  30.0  0.0  128.0   0.0  22.0\n",
              "אחווה     21.0   6.0  0.0   0.0   6.0  ...  15.0  0.0   55.0   3.0  12.0\n",
              "איבים      0.0   6.0  0.0   0.0  15.0  ...   0.0  0.0    0.0   1.0   0.0\n",
              "\n",
              "[5 rows x 13 columns]"
            ]
          },
          "metadata": {},
          "execution_count": 9
        }
      ]
    },
    {
      "cell_type": "markdown",
      "metadata": {
        "id": "zOuWMj1BXlJI"
      },
      "source": [
        "כעת נחשב את מטריצת ההסתברויות עבור ההנחה הראשונה:"
      ]
    },
    {
      "cell_type": "code",
      "metadata": {
        "id": "iQ_1xXe6JK3Y"
      },
      "source": [
        "vij_1 = df_2021_ballots_raw.drop('מעטפות חיצוניות').copy()\n",
        "for i in list(vij_1.index):\n",
        "  prop = vij_1.at[i,\"כשרים\"] / vij_1.at[i,\"בזב\"]\n",
        "  for j in list(names):\n",
        "    vij_1.loc[i,j] = prop\n",
        "\n",
        "#vij_1 is the df of vij for the first assumption"
      ],
      "execution_count": null,
      "outputs": []
    },
    {
      "cell_type": "code",
      "metadata": {
        "id": "s1w_M28ULQzU",
        "colab": {
          "base_uri": "https://localhost:8080/",
          "height": 237
        },
        "outputId": "f7a3db2f-5d7b-4b5e-8c78-3c313febe751"
      },
      "source": [
        "vij_1 = vij_1[np.intersect1d(vij_1.columns, names)] #Keeps only past parties\n",
        "vij_1.head()"
      ],
      "execution_count": null,
      "outputs": [
        {
          "output_type": "execute_result",
          "data": {
            "text/html": [
              "<div>\n",
              "<style scoped>\n",
              "    .dataframe tbody tr th:only-of-type {\n",
              "        vertical-align: middle;\n",
              "    }\n",
              "\n",
              "    .dataframe tbody tr th {\n",
              "        vertical-align: top;\n",
              "    }\n",
              "\n",
              "    .dataframe thead th {\n",
              "        text-align: right;\n",
              "    }\n",
              "</style>\n",
              "<table border=\"1\" class=\"dataframe\">\n",
              "  <thead>\n",
              "    <tr style=\"text-align: right;\">\n",
              "      <th></th>\n",
              "      <th>אמת</th>\n",
              "      <th>ב</th>\n",
              "      <th>ג</th>\n",
              "      <th>ודעם</th>\n",
              "      <th>ט</th>\n",
              "      <th>כן</th>\n",
              "      <th>ל</th>\n",
              "      <th>מחל</th>\n",
              "      <th>מרצ</th>\n",
              "      <th>עם</th>\n",
              "      <th>פה</th>\n",
              "      <th>שס</th>\n",
              "      <th>ת</th>\n",
              "    </tr>\n",
              "    <tr>\n",
              "      <th>שם ישוב</th>\n",
              "      <th></th>\n",
              "      <th></th>\n",
              "      <th></th>\n",
              "      <th></th>\n",
              "      <th></th>\n",
              "      <th></th>\n",
              "      <th></th>\n",
              "      <th></th>\n",
              "      <th></th>\n",
              "      <th></th>\n",
              "      <th></th>\n",
              "      <th></th>\n",
              "      <th></th>\n",
              "    </tr>\n",
              "  </thead>\n",
              "  <tbody>\n",
              "    <tr>\n",
              "      <th>אבירים</th>\n",
              "      <td>0.678733</td>\n",
              "      <td>0.678733</td>\n",
              "      <td>0.678733</td>\n",
              "      <td>0.678733</td>\n",
              "      <td>0.678733</td>\n",
              "      <td>0.678733</td>\n",
              "      <td>0.678733</td>\n",
              "      <td>0.678733</td>\n",
              "      <td>0.678733</td>\n",
              "      <td>0.678733</td>\n",
              "      <td>0.678733</td>\n",
              "      <td>0.678733</td>\n",
              "      <td>0.678733</td>\n",
              "    </tr>\n",
              "    <tr>\n",
              "      <th>אדירים</th>\n",
              "      <td>0.769231</td>\n",
              "      <td>0.769231</td>\n",
              "      <td>0.769231</td>\n",
              "      <td>0.769231</td>\n",
              "      <td>0.769231</td>\n",
              "      <td>0.769231</td>\n",
              "      <td>0.769231</td>\n",
              "      <td>0.769231</td>\n",
              "      <td>0.769231</td>\n",
              "      <td>0.769231</td>\n",
              "      <td>0.769231</td>\n",
              "      <td>0.769231</td>\n",
              "      <td>0.769231</td>\n",
              "    </tr>\n",
              "    <tr>\n",
              "      <th>אושה</th>\n",
              "      <td>0.722513</td>\n",
              "      <td>0.722513</td>\n",
              "      <td>0.722513</td>\n",
              "      <td>0.722513</td>\n",
              "      <td>0.722513</td>\n",
              "      <td>0.722513</td>\n",
              "      <td>0.722513</td>\n",
              "      <td>0.722513</td>\n",
              "      <td>0.722513</td>\n",
              "      <td>0.722513</td>\n",
              "      <td>0.722513</td>\n",
              "      <td>0.722513</td>\n",
              "      <td>0.722513</td>\n",
              "    </tr>\n",
              "    <tr>\n",
              "      <th>אחווה</th>\n",
              "      <td>0.792350</td>\n",
              "      <td>0.792350</td>\n",
              "      <td>0.792350</td>\n",
              "      <td>0.792350</td>\n",
              "      <td>0.792350</td>\n",
              "      <td>0.792350</td>\n",
              "      <td>0.792350</td>\n",
              "      <td>0.792350</td>\n",
              "      <td>0.792350</td>\n",
              "      <td>0.792350</td>\n",
              "      <td>0.792350</td>\n",
              "      <td>0.792350</td>\n",
              "      <td>0.792350</td>\n",
              "    </tr>\n",
              "    <tr>\n",
              "      <th>איבים</th>\n",
              "      <td>0.289855</td>\n",
              "      <td>0.289855</td>\n",
              "      <td>0.289855</td>\n",
              "      <td>0.289855</td>\n",
              "      <td>0.289855</td>\n",
              "      <td>0.289855</td>\n",
              "      <td>0.289855</td>\n",
              "      <td>0.289855</td>\n",
              "      <td>0.289855</td>\n",
              "      <td>0.289855</td>\n",
              "      <td>0.289855</td>\n",
              "      <td>0.289855</td>\n",
              "      <td>0.289855</td>\n",
              "    </tr>\n",
              "  </tbody>\n",
              "</table>\n",
              "</div>"
            ],
            "text/plain": [
              "              אמת         ב         ג  ...        פה        שס         ת\n",
              "שם ישוב                                ...                              \n",
              "אבירים   0.678733  0.678733  0.678733  ...  0.678733  0.678733  0.678733\n",
              "אדירים   0.769231  0.769231  0.769231  ...  0.769231  0.769231  0.769231\n",
              "אושה     0.722513  0.722513  0.722513  ...  0.722513  0.722513  0.722513\n",
              "אחווה    0.792350  0.792350  0.792350  ...  0.792350  0.792350  0.792350\n",
              "איבים    0.289855  0.289855  0.289855  ...  0.289855  0.289855  0.289855\n",
              "\n",
              "[5 rows x 13 columns]"
            ]
          },
          "metadata": {},
          "execution_count": 11
        }
      ]
    },
    {
      "cell_type": "markdown",
      "metadata": {
        "id": "ejYSrGdurT7F"
      },
      "source": [
        " vij=Bj כעת נבנה את המטריצה עבור:\n",
        " \n",
        "הצבנו את הערכים בסדר עולה ולפי סדר ההצגה של המפלגות במסד הנתונים"
      ]
    },
    {
      "cell_type": "code",
      "metadata": {
        "id": "lHnTMax1VZh4",
        "colab": {
          "base_uri": "https://localhost:8080/",
          "height": 237
        },
        "outputId": "21f62ca0-912e-475c-f428-a582536d5493"
      },
      "source": [
        "vij_2 = clean_data.copy()\n",
        "val = list([0.2,\t0.25,\t0.3,\t0.35,\t0.4,\t0.45,\t0.5,\t0.55,\t0.6,\t0.65,\t0.7,\t0.75,\t0.8])\n",
        "for i in list(vij_2.index):\n",
        "  vij_2.loc[i] = vij_2.loc[i]*0 + val\n",
        "vij_2.head()"
      ],
      "execution_count": null,
      "outputs": [
        {
          "output_type": "execute_result",
          "data": {
            "text/html": [
              "<div>\n",
              "<style scoped>\n",
              "    .dataframe tbody tr th:only-of-type {\n",
              "        vertical-align: middle;\n",
              "    }\n",
              "\n",
              "    .dataframe tbody tr th {\n",
              "        vertical-align: top;\n",
              "    }\n",
              "\n",
              "    .dataframe thead th {\n",
              "        text-align: right;\n",
              "    }\n",
              "</style>\n",
              "<table border=\"1\" class=\"dataframe\">\n",
              "  <thead>\n",
              "    <tr style=\"text-align: right;\">\n",
              "      <th></th>\n",
              "      <th>אמת</th>\n",
              "      <th>ב</th>\n",
              "      <th>ג</th>\n",
              "      <th>ודעם</th>\n",
              "      <th>ט</th>\n",
              "      <th>כן</th>\n",
              "      <th>ל</th>\n",
              "      <th>מחל</th>\n",
              "      <th>מרצ</th>\n",
              "      <th>עם</th>\n",
              "      <th>פה</th>\n",
              "      <th>שס</th>\n",
              "      <th>ת</th>\n",
              "    </tr>\n",
              "    <tr>\n",
              "      <th>שם ישוב</th>\n",
              "      <th></th>\n",
              "      <th></th>\n",
              "      <th></th>\n",
              "      <th></th>\n",
              "      <th></th>\n",
              "      <th></th>\n",
              "      <th></th>\n",
              "      <th></th>\n",
              "      <th></th>\n",
              "      <th></th>\n",
              "      <th></th>\n",
              "      <th></th>\n",
              "      <th></th>\n",
              "    </tr>\n",
              "  </thead>\n",
              "  <tbody>\n",
              "    <tr>\n",
              "      <th>אבירים</th>\n",
              "      <td>0.2</td>\n",
              "      <td>0.25</td>\n",
              "      <td>0.3</td>\n",
              "      <td>0.35</td>\n",
              "      <td>0.4</td>\n",
              "      <td>0.45</td>\n",
              "      <td>0.5</td>\n",
              "      <td>0.55</td>\n",
              "      <td>0.6</td>\n",
              "      <td>0.65</td>\n",
              "      <td>0.7</td>\n",
              "      <td>0.75</td>\n",
              "      <td>0.8</td>\n",
              "    </tr>\n",
              "    <tr>\n",
              "      <th>אדירים</th>\n",
              "      <td>0.2</td>\n",
              "      <td>0.25</td>\n",
              "      <td>0.3</td>\n",
              "      <td>0.35</td>\n",
              "      <td>0.4</td>\n",
              "      <td>0.45</td>\n",
              "      <td>0.5</td>\n",
              "      <td>0.55</td>\n",
              "      <td>0.6</td>\n",
              "      <td>0.65</td>\n",
              "      <td>0.7</td>\n",
              "      <td>0.75</td>\n",
              "      <td>0.8</td>\n",
              "    </tr>\n",
              "    <tr>\n",
              "      <th>אושה</th>\n",
              "      <td>0.2</td>\n",
              "      <td>0.25</td>\n",
              "      <td>0.3</td>\n",
              "      <td>0.35</td>\n",
              "      <td>0.4</td>\n",
              "      <td>0.45</td>\n",
              "      <td>0.5</td>\n",
              "      <td>0.55</td>\n",
              "      <td>0.6</td>\n",
              "      <td>0.65</td>\n",
              "      <td>0.7</td>\n",
              "      <td>0.75</td>\n",
              "      <td>0.8</td>\n",
              "    </tr>\n",
              "    <tr>\n",
              "      <th>אחווה</th>\n",
              "      <td>0.2</td>\n",
              "      <td>0.25</td>\n",
              "      <td>0.3</td>\n",
              "      <td>0.35</td>\n",
              "      <td>0.4</td>\n",
              "      <td>0.45</td>\n",
              "      <td>0.5</td>\n",
              "      <td>0.55</td>\n",
              "      <td>0.6</td>\n",
              "      <td>0.65</td>\n",
              "      <td>0.7</td>\n",
              "      <td>0.75</td>\n",
              "      <td>0.8</td>\n",
              "    </tr>\n",
              "    <tr>\n",
              "      <th>איבים</th>\n",
              "      <td>0.2</td>\n",
              "      <td>0.25</td>\n",
              "      <td>0.3</td>\n",
              "      <td>0.35</td>\n",
              "      <td>0.4</td>\n",
              "      <td>0.45</td>\n",
              "      <td>0.5</td>\n",
              "      <td>0.55</td>\n",
              "      <td>0.6</td>\n",
              "      <td>0.65</td>\n",
              "      <td>0.7</td>\n",
              "      <td>0.75</td>\n",
              "      <td>0.8</td>\n",
              "    </tr>\n",
              "  </tbody>\n",
              "</table>\n",
              "</div>"
            ],
            "text/plain": [
              "         אמת     ב    ג  ודעם    ט    כן    ל   מחל  מרצ    עם   פה    שס    ת\n",
              "שם ישוב                                                                       \n",
              "אבירים   0.2  0.25  0.3  0.35  0.4  0.45  0.5  0.55  0.6  0.65  0.7  0.75  0.8\n",
              "אדירים   0.2  0.25  0.3  0.35  0.4  0.45  0.5  0.55  0.6  0.65  0.7  0.75  0.8\n",
              "אושה     0.2  0.25  0.3  0.35  0.4  0.45  0.5  0.55  0.6  0.65  0.7  0.75  0.8\n",
              "אחווה    0.2  0.25  0.3  0.35  0.4  0.45  0.5  0.55  0.6  0.65  0.7  0.75  0.8\n",
              "איבים    0.2  0.25  0.3  0.35  0.4  0.45  0.5  0.55  0.6  0.65  0.7  0.75  0.8"
            ]
          },
          "metadata": {},
          "execution_count": 12
        }
      ]
    },
    {
      "cell_type": "markdown",
      "metadata": {
        "id": "zfAnulfAYNiI"
      },
      "source": [
        "מוגרל אקראית לכל יישוב Bj כעת נבנה את המטריצה כאשר"
      ]
    },
    {
      "cell_type": "code",
      "metadata": {
        "colab": {
          "base_uri": "https://localhost:8080/",
          "height": 237
        },
        "id": "BMaSqX02sewc",
        "outputId": "a5196cde-bf70-4d59-a602-d8f4972fec32"
      },
      "source": [
        "vij_3 = clean_data.copy()\n",
        "val = list([0.2,\t0.25,\t0.3,\t0.35,\t0.4,\t0.45,\t0.5,\t0.55,\t0.6,\t0.65,\t0.7,\t0.75,\t0.8])\n",
        "for i in list(vij_3.index):\n",
        "  vij_3.loc[i] = vij_3.loc[i]*0 + np.random.choice(val, size=13 , replace=False)\n",
        "vij_3.head()"
      ],
      "execution_count": null,
      "outputs": [
        {
          "output_type": "execute_result",
          "data": {
            "text/html": [
              "<div>\n",
              "<style scoped>\n",
              "    .dataframe tbody tr th:only-of-type {\n",
              "        vertical-align: middle;\n",
              "    }\n",
              "\n",
              "    .dataframe tbody tr th {\n",
              "        vertical-align: top;\n",
              "    }\n",
              "\n",
              "    .dataframe thead th {\n",
              "        text-align: right;\n",
              "    }\n",
              "</style>\n",
              "<table border=\"1\" class=\"dataframe\">\n",
              "  <thead>\n",
              "    <tr style=\"text-align: right;\">\n",
              "      <th></th>\n",
              "      <th>אמת</th>\n",
              "      <th>ב</th>\n",
              "      <th>ג</th>\n",
              "      <th>ודעם</th>\n",
              "      <th>ט</th>\n",
              "      <th>כן</th>\n",
              "      <th>ל</th>\n",
              "      <th>מחל</th>\n",
              "      <th>מרצ</th>\n",
              "      <th>עם</th>\n",
              "      <th>פה</th>\n",
              "      <th>שס</th>\n",
              "      <th>ת</th>\n",
              "    </tr>\n",
              "    <tr>\n",
              "      <th>שם ישוב</th>\n",
              "      <th></th>\n",
              "      <th></th>\n",
              "      <th></th>\n",
              "      <th></th>\n",
              "      <th></th>\n",
              "      <th></th>\n",
              "      <th></th>\n",
              "      <th></th>\n",
              "      <th></th>\n",
              "      <th></th>\n",
              "      <th></th>\n",
              "      <th></th>\n",
              "      <th></th>\n",
              "    </tr>\n",
              "  </thead>\n",
              "  <tbody>\n",
              "    <tr>\n",
              "      <th>אבירים</th>\n",
              "      <td>0.40</td>\n",
              "      <td>0.70</td>\n",
              "      <td>0.45</td>\n",
              "      <td>0.35</td>\n",
              "      <td>0.50</td>\n",
              "      <td>0.30</td>\n",
              "      <td>0.65</td>\n",
              "      <td>0.80</td>\n",
              "      <td>0.75</td>\n",
              "      <td>0.55</td>\n",
              "      <td>0.25</td>\n",
              "      <td>0.60</td>\n",
              "      <td>0.20</td>\n",
              "    </tr>\n",
              "    <tr>\n",
              "      <th>אדירים</th>\n",
              "      <td>0.45</td>\n",
              "      <td>0.75</td>\n",
              "      <td>0.30</td>\n",
              "      <td>0.25</td>\n",
              "      <td>0.60</td>\n",
              "      <td>0.70</td>\n",
              "      <td>0.65</td>\n",
              "      <td>0.40</td>\n",
              "      <td>0.80</td>\n",
              "      <td>0.35</td>\n",
              "      <td>0.20</td>\n",
              "      <td>0.50</td>\n",
              "      <td>0.55</td>\n",
              "    </tr>\n",
              "    <tr>\n",
              "      <th>אושה</th>\n",
              "      <td>0.65</td>\n",
              "      <td>0.45</td>\n",
              "      <td>0.50</td>\n",
              "      <td>0.40</td>\n",
              "      <td>0.75</td>\n",
              "      <td>0.60</td>\n",
              "      <td>0.25</td>\n",
              "      <td>0.55</td>\n",
              "      <td>0.30</td>\n",
              "      <td>0.80</td>\n",
              "      <td>0.70</td>\n",
              "      <td>0.20</td>\n",
              "      <td>0.35</td>\n",
              "    </tr>\n",
              "    <tr>\n",
              "      <th>אחווה</th>\n",
              "      <td>0.25</td>\n",
              "      <td>0.70</td>\n",
              "      <td>0.45</td>\n",
              "      <td>0.40</td>\n",
              "      <td>0.80</td>\n",
              "      <td>0.55</td>\n",
              "      <td>0.30</td>\n",
              "      <td>0.60</td>\n",
              "      <td>0.75</td>\n",
              "      <td>0.20</td>\n",
              "      <td>0.50</td>\n",
              "      <td>0.35</td>\n",
              "      <td>0.65</td>\n",
              "    </tr>\n",
              "    <tr>\n",
              "      <th>איבים</th>\n",
              "      <td>0.70</td>\n",
              "      <td>0.20</td>\n",
              "      <td>0.65</td>\n",
              "      <td>0.60</td>\n",
              "      <td>0.30</td>\n",
              "      <td>0.80</td>\n",
              "      <td>0.75</td>\n",
              "      <td>0.25</td>\n",
              "      <td>0.45</td>\n",
              "      <td>0.50</td>\n",
              "      <td>0.35</td>\n",
              "      <td>0.55</td>\n",
              "      <td>0.40</td>\n",
              "    </tr>\n",
              "  </tbody>\n",
              "</table>\n",
              "</div>"
            ],
            "text/plain": [
              "          אמת     ב     ג  ודעם     ט    כן  ...   מחל   מרצ    עם    פה    שס     ת\n",
              "שם ישוב                                      ...                                    \n",
              "אבירים   0.40  0.70  0.45  0.35  0.50  0.30  ...  0.80  0.75  0.55  0.25  0.60  0.20\n",
              "אדירים   0.45  0.75  0.30  0.25  0.60  0.70  ...  0.40  0.80  0.35  0.20  0.50  0.55\n",
              "אושה     0.65  0.45  0.50  0.40  0.75  0.60  ...  0.55  0.30  0.80  0.70  0.20  0.35\n",
              "אחווה    0.25  0.70  0.45  0.40  0.80  0.55  ...  0.60  0.75  0.20  0.50  0.35  0.65\n",
              "איבים    0.70  0.20  0.65  0.60  0.30  0.80  ...  0.25  0.45  0.50  0.35  0.55  0.40\n",
              "\n",
              "[5 rows x 13 columns]"
            ]
          },
          "metadata": {},
          "execution_count": 13
        }
      ]
    },
    {
      "cell_type": "markdown",
      "metadata": {
        "id": "ObWqZQDZZ-zc"
      },
      "source": [
        "לפי תוצאות האמת q בשלב זה נמצא את האומד ל"
      ]
    },
    {
      "cell_type": "code",
      "metadata": {
        "id": "zijiJBplw9yc"
      },
      "source": [
        "corection = df_2021_ballots_raw.drop('מעטפות חיצוניות')\n",
        "corection = corection['בזב']/corection['כשרים']\n",
        "\n",
        "real_q = clean_data.mul(corection, axis = \"rows\")\n",
        "real_q = parties_votes_percents(real_q, 0) #The blocking percentage is 0 because we have already deleted the parties that did not pass the blocking percentage"
      ],
      "execution_count": null,
      "outputs": []
    },
    {
      "cell_type": "markdown",
      "metadata": {
        "id": "jfoLkNoDaUVg"
      },
      "source": [
        "נבנה פונקציה המקבלת שני מסדי נתונים ומבצעת 50 סימולציות באמצעות הפונקציה שבנינו בשאלה הקודמת.\n",
        "\n",
        "-הפונקציה מחשבת עבור כל סימולציה מהם האומדים ל\n",
        "\n",
        "q ו p\n",
        "\n",
        "הפונקציה מחזירה שתי מטריצות כאשר כל אחת מהן מכילה את האומדים שיצאו בסימולציות"
      ]
    },
    {
      "cell_type": "code",
      "metadata": {
        "id": "Ay6k5U60EaZ2"
      },
      "source": [
        "def simul(df_n, df_v):\n",
        "  df_of_p = pd.DataFrame(pd.np.empty([0, 0])) #In this df we insert the value of \"p\" for every simulation\n",
        "  df_of_q = pd.DataFrame(pd.np.empty([0, 0])) #In this df we insert the value of \"q\" for every simulation\n",
        "  for i in range(50):\n",
        "    sim = calc_bin(df_n, df_v)\n",
        "    p = parties_votes_percents(sim, 0) \n",
        "    adjasted = sim.mul(corection, axis = \"rows\")\n",
        "    q = parties_votes_percents(adjasted, 0)\n",
        "    df_of_p = df_of_p.append(p, ignore_index = True)\n",
        "    df_of_q = df_of_p.append(q, ignore_index = True)\n",
        "  \n",
        "  return df_of_p, df_of_q"
      ],
      "execution_count": null,
      "outputs": []
    },
    {
      "cell_type": "markdown",
      "metadata": {
        "id": "2M_odw8lbHXQ"
      },
      "source": [
        "כעת נחשב את האומדים עצמם לכל אחת מההנחות באמצעות הפונקציה שבנינו בסעיף הקודם"
      ]
    },
    {
      "cell_type": "code",
      "metadata": {
        "colab": {
          "base_uri": "https://localhost:8080/"
        },
        "id": "C9cBC0NBDq5L",
        "outputId": "1859806a-50dd-4c7d-ec91-8ab446e39543"
      },
      "source": [
        "first_p , first_q = simul(adj_data,vij_1)\n",
        "first_q_mean = first_q.mean(axis = 0).to_frame().T\n",
        "first_q_bias = first_q_mean - real_q\n",
        "first_q_var = first_q.var(axis = 0).to_frame().T\n",
        "first_q_mse = (first_q_var + (first_q_bias**2))\n",
        "first_p_mean = first_p.mean(axis = 0).to_frame().T\n",
        "first_p_sd = first_p.std(axis = 0)"
      ],
      "execution_count": null,
      "outputs": [
        {
          "output_type": "stream",
          "name": "stderr",
          "text": [
            "/usr/local/lib/python3.7/dist-packages/ipykernel_launcher.py:2: FutureWarning: The pandas.np module is deprecated and will be removed from pandas in a future version. Import numpy directly instead\n",
            "  \n",
            "/usr/local/lib/python3.7/dist-packages/ipykernel_launcher.py:3: FutureWarning: The pandas.np module is deprecated and will be removed from pandas in a future version. Import numpy directly instead\n",
            "  This is separate from the ipykernel package so we can avoid doing imports until\n"
          ]
        }
      ]
    },
    {
      "cell_type": "code",
      "metadata": {
        "colab": {
          "base_uri": "https://localhost:8080/"
        },
        "id": "T_e3pqAZEQ2Z",
        "outputId": "11985c45-59c1-4479-c6ca-ff831fd06e02"
      },
      "source": [
        "second_p , second_q = simul(adj_data,vij_2)\n",
        "second_q_mean = second_q.mean(axis = 0).to_frame().T\n",
        "second_q_bias = second_q_mean - real_q\n",
        "second_q_var = second_q.var(axis = 0).to_frame().T\n",
        "second_q_mse = second_q_var + (second_q_bias**2)\n",
        "second_p_mean = second_p.mean(axis = 0).to_frame().T\n",
        "second_p_sd = second_p.std(axis = 0)"
      ],
      "execution_count": null,
      "outputs": [
        {
          "output_type": "stream",
          "name": "stderr",
          "text": [
            "/usr/local/lib/python3.7/dist-packages/ipykernel_launcher.py:2: FutureWarning: The pandas.np module is deprecated and will be removed from pandas in a future version. Import numpy directly instead\n",
            "  \n",
            "/usr/local/lib/python3.7/dist-packages/ipykernel_launcher.py:3: FutureWarning: The pandas.np module is deprecated and will be removed from pandas in a future version. Import numpy directly instead\n",
            "  This is separate from the ipykernel package so we can avoid doing imports until\n"
          ]
        }
      ]
    },
    {
      "cell_type": "code",
      "metadata": {
        "colab": {
          "base_uri": "https://localhost:8080/"
        },
        "id": "7ldgMSAgrL3Q",
        "outputId": "decf77c3-e84b-403e-9407-83b45d8c342a"
      },
      "source": [
        "third_p , third_q = simul(adj_data,vij_3)\n",
        "third_q_mean = third_q.mean(axis = 0).to_frame().T\n",
        "third_q_bias = third_q_mean - real_q\n",
        "third_q_var = third_q.var(axis = 0).to_frame().T\n",
        "third_q_mse = third_q_var + (third_q_bias**2)\n",
        "third_p_mean = third_p.mean(axis = 0).to_frame().T\n",
        "third_p_sd = third_p.std(axis = 0)"
      ],
      "execution_count": null,
      "outputs": [
        {
          "output_type": "stream",
          "name": "stderr",
          "text": [
            "/usr/local/lib/python3.7/dist-packages/ipykernel_launcher.py:2: FutureWarning: The pandas.np module is deprecated and will be removed from pandas in a future version. Import numpy directly instead\n",
            "  \n",
            "/usr/local/lib/python3.7/dist-packages/ipykernel_launcher.py:3: FutureWarning: The pandas.np module is deprecated and will be removed from pandas in a future version. Import numpy directly instead\n",
            "  This is separate from the ipykernel package so we can avoid doing imports until\n"
          ]
        }
      ]
    },
    {
      "cell_type": "markdown",
      "metadata": {
        "id": "svof6pOcbWkD"
      },
      "source": [
        "\n",
        "לפי כל אחת מההנחות q כעת נציג את הטבלה שמראה את ערכי האומד של"
      ]
    },
    {
      "cell_type": "code",
      "metadata": {
        "colab": {
          "base_uri": "https://localhost:8080/",
          "height": 178
        },
        "id": "_isplWWIEveV",
        "outputId": "2fb2636d-a8a4-4942-bc8a-e81ecded8d59"
      },
      "source": [
        "frames = [first_q_mean, second_q_mean, third_q_mean]\n",
        "df_mean = pd.concat(frames)\n",
        "df_mean.index = [\"First assumption\", \"Second assumption\", \"Third assumption\"]\n",
        "df_mean = df_mean.rename(columns = parties_dict_2021)\n",
        "df_mean"
      ],
      "execution_count": null,
      "outputs": [
        {
          "output_type": "execute_result",
          "data": {
            "text/html": [
              "<div>\n",
              "<style scoped>\n",
              "    .dataframe tbody tr th:only-of-type {\n",
              "        vertical-align: middle;\n",
              "    }\n",
              "\n",
              "    .dataframe tbody tr th {\n",
              "        vertical-align: top;\n",
              "    }\n",
              "\n",
              "    .dataframe thead th {\n",
              "        text-align: right;\n",
              "    }\n",
              "</style>\n",
              "<table border=\"1\" class=\"dataframe\">\n",
              "  <thead>\n",
              "    <tr style=\"text-align: right;\">\n",
              "      <th></th>\n",
              "      <th>עבודה</th>\n",
              "      <th>ימינה</th>\n",
              "      <th>יהדות התורה</th>\n",
              "      <th>הרשימה המשותפת</th>\n",
              "      <th>הציונות הדתית</th>\n",
              "      <th>כחול לבן</th>\n",
              "      <th>ישראל ביתנו</th>\n",
              "      <th>הליכוד</th>\n",
              "      <th>מרצ</th>\n",
              "      <th>רעם</th>\n",
              "      <th>יש עתיד</th>\n",
              "      <th>שס</th>\n",
              "      <th>תקוה חדשה</th>\n",
              "    </tr>\n",
              "  </thead>\n",
              "  <tbody>\n",
              "    <tr>\n",
              "      <th>First assumption</th>\n",
              "      <td>0.062234</td>\n",
              "      <td>0.063007</td>\n",
              "      <td>0.065635</td>\n",
              "      <td>0.038069</td>\n",
              "      <td>0.053700</td>\n",
              "      <td>0.071166</td>\n",
              "      <td>0.051840</td>\n",
              "      <td>0.243491</td>\n",
              "      <td>0.047015</td>\n",
              "      <td>0.030744</td>\n",
              "      <td>0.148195</td>\n",
              "      <td>0.076289</td>\n",
              "      <td>0.048617</td>\n",
              "    </tr>\n",
              "    <tr>\n",
              "      <th>Second assumption</th>\n",
              "      <td>0.022729</td>\n",
              "      <td>0.028385</td>\n",
              "      <td>0.034067</td>\n",
              "      <td>0.034456</td>\n",
              "      <td>0.038420</td>\n",
              "      <td>0.057997</td>\n",
              "      <td>0.053720</td>\n",
              "      <td>0.258156</td>\n",
              "      <td>0.052810</td>\n",
              "      <td>0.051087</td>\n",
              "      <td>0.189288</td>\n",
              "      <td>0.106323</td>\n",
              "      <td>0.072561</td>\n",
              "    </tr>\n",
              "    <tr>\n",
              "      <th>Third assumption</th>\n",
              "      <td>0.060860</td>\n",
              "      <td>0.060579</td>\n",
              "      <td>0.068775</td>\n",
              "      <td>0.051604</td>\n",
              "      <td>0.051422</td>\n",
              "      <td>0.058320</td>\n",
              "      <td>0.051262</td>\n",
              "      <td>0.243029</td>\n",
              "      <td>0.041941</td>\n",
              "      <td>0.035088</td>\n",
              "      <td>0.150538</td>\n",
              "      <td>0.077979</td>\n",
              "      <td>0.048602</td>\n",
              "    </tr>\n",
              "  </tbody>\n",
              "</table>\n",
              "</div>"
            ],
            "text/plain": [
              "                      עבודה     ימינה  ...        שס  תקוה חדשה\n",
              "First assumption   0.062234  0.063007  ...  0.076289   0.048617\n",
              "Second assumption  0.022729  0.028385  ...  0.106323   0.072561\n",
              "Third assumption   0.060860  0.060579  ...  0.077979   0.048602\n",
              "\n",
              "[3 rows x 13 columns]"
            ]
          },
          "metadata": {},
          "execution_count": 19
        }
      ]
    },
    {
      "cell_type": "markdown",
      "metadata": {
        "id": "Mc2j3PonbuIk"
      },
      "source": [
        "לפי כל אחת מההנחות bias כעת נציג את הטבלה שמראה את ערכי האומד של"
      ]
    },
    {
      "cell_type": "markdown",
      "metadata": {
        "id": "EQT39XW6bS4L"
      },
      "source": [
        ""
      ]
    },
    {
      "cell_type": "code",
      "metadata": {
        "colab": {
          "base_uri": "https://localhost:8080/",
          "height": 195
        },
        "id": "WJnFXscrF38K",
        "outputId": "4e03bedf-bdf2-4ac1-aba7-ed6e766c18fc"
      },
      "source": [
        "frames = [first_q_bias, second_q_bias, third_q_bias]\n",
        "df_bias = pd.concat(frames)\n",
        "df_bias.index = [\"First assumption\", \"Second assumption\", \"Third assumption\"]\n",
        "df_bias = df_bias.rename(columns = parties_dict_2021)\n",
        "df_bias"
      ],
      "execution_count": null,
      "outputs": [
        {
          "output_type": "execute_result",
          "data": {
            "text/html": [
              "<div>\n",
              "<style scoped>\n",
              "    .dataframe tbody tr th:only-of-type {\n",
              "        vertical-align: middle;\n",
              "    }\n",
              "\n",
              "    .dataframe tbody tr th {\n",
              "        vertical-align: top;\n",
              "    }\n",
              "\n",
              "    .dataframe thead th {\n",
              "        text-align: right;\n",
              "    }\n",
              "</style>\n",
              "<table border=\"1\" class=\"dataframe\">\n",
              "  <thead>\n",
              "    <tr style=\"text-align: right;\">\n",
              "      <th></th>\n",
              "      <th>עבודה</th>\n",
              "      <th>ימינה</th>\n",
              "      <th>יהדות התורה</th>\n",
              "      <th>הרשימה המשותפת</th>\n",
              "      <th>הציונות הדתית</th>\n",
              "      <th>כחול לבן</th>\n",
              "      <th>ישראל ביתנו</th>\n",
              "      <th>הליכוד</th>\n",
              "      <th>מרצ</th>\n",
              "      <th>רעם</th>\n",
              "      <th>יש עתיד</th>\n",
              "      <th>שס</th>\n",
              "      <th>תקוה חדשה</th>\n",
              "    </tr>\n",
              "  </thead>\n",
              "  <tbody>\n",
              "    <tr>\n",
              "      <th>First assumption</th>\n",
              "      <td>0.006219</td>\n",
              "      <td>0.007989</td>\n",
              "      <td>0.012052</td>\n",
              "      <td>-0.032772</td>\n",
              "      <td>0.007201</td>\n",
              "      <td>0.008422</td>\n",
              "      <td>-0.008670</td>\n",
              "      <td>-0.000653</td>\n",
              "      <td>0.001967</td>\n",
              "      <td>-0.025250</td>\n",
              "      <td>0.015582</td>\n",
              "      <td>0.005007</td>\n",
              "      <td>0.002905</td>\n",
              "    </tr>\n",
              "    <tr>\n",
              "      <th>Second assumption</th>\n",
              "      <td>-0.033285</td>\n",
              "      <td>-0.026634</td>\n",
              "      <td>-0.019516</td>\n",
              "      <td>-0.036385</td>\n",
              "      <td>-0.008079</td>\n",
              "      <td>-0.004746</td>\n",
              "      <td>-0.006790</td>\n",
              "      <td>0.014012</td>\n",
              "      <td>0.007762</td>\n",
              "      <td>-0.004906</td>\n",
              "      <td>0.056675</td>\n",
              "      <td>0.035042</td>\n",
              "      <td>0.026850</td>\n",
              "    </tr>\n",
              "    <tr>\n",
              "      <th>Third assumption</th>\n",
              "      <td>0.004845</td>\n",
              "      <td>0.005561</td>\n",
              "      <td>0.015192</td>\n",
              "      <td>-0.019237</td>\n",
              "      <td>0.004923</td>\n",
              "      <td>-0.004424</td>\n",
              "      <td>-0.009248</td>\n",
              "      <td>-0.001114</td>\n",
              "      <td>-0.003107</td>\n",
              "      <td>-0.020905</td>\n",
              "      <td>0.017926</td>\n",
              "      <td>0.006697</td>\n",
              "      <td>0.002890</td>\n",
              "    </tr>\n",
              "  </tbody>\n",
              "</table>\n",
              "</div>"
            ],
            "text/plain": [
              "                      עבודה     ימינה  ...        שס  תקוה חדשה\n",
              "First assumption   0.006219  0.007989  ...  0.005007   0.002905\n",
              "Second assumption -0.033285 -0.026634  ...  0.035042   0.026850\n",
              "Third assumption   0.004845  0.005561  ...  0.006697   0.002890\n",
              "\n",
              "[3 rows x 13 columns]"
            ]
          },
          "metadata": {},
          "execution_count": 20
        }
      ]
    },
    {
      "cell_type": "markdown",
      "metadata": {
        "id": "fnUCf-I5b2ej"
      },
      "source": [
        " כעת נציג את הטבלה שמראה את ערכי האומד של השונות לפי כל אחת מההנחות"
      ]
    },
    {
      "cell_type": "code",
      "metadata": {
        "colab": {
          "base_uri": "https://localhost:8080/",
          "height": 233
        },
        "id": "QzaRmzSAHQPR",
        "outputId": "5357d9b8-cb57-4639-9f87-fcf97521bc71"
      },
      "source": [
        "frames = [first_q_var, second_q_var, third_q_var]\n",
        "df_var = pd.concat(frames)\n",
        "df_var.index = [\"First assumption\", \"Second assumption\", \"Third assumption\"]\n",
        "df_var = df_var.rename(columns = parties_dict_2021)\n",
        "df_var"
      ],
      "execution_count": null,
      "outputs": [
        {
          "output_type": "execute_result",
          "data": {
            "text/html": [
              "<div>\n",
              "<style scoped>\n",
              "    .dataframe tbody tr th:only-of-type {\n",
              "        vertical-align: middle;\n",
              "    }\n",
              "\n",
              "    .dataframe tbody tr th {\n",
              "        vertical-align: top;\n",
              "    }\n",
              "\n",
              "    .dataframe thead th {\n",
              "        text-align: right;\n",
              "    }\n",
              "</style>\n",
              "<table border=\"1\" class=\"dataframe\">\n",
              "  <thead>\n",
              "    <tr style=\"text-align: right;\">\n",
              "      <th></th>\n",
              "      <th>עבודה</th>\n",
              "      <th>ימינה</th>\n",
              "      <th>יהדות התורה</th>\n",
              "      <th>הרשימה המשותפת</th>\n",
              "      <th>הציונות הדתית</th>\n",
              "      <th>כחול לבן</th>\n",
              "      <th>ישראל ביתנו</th>\n",
              "      <th>הליכוד</th>\n",
              "      <th>מרצ</th>\n",
              "      <th>רעם</th>\n",
              "      <th>יש עתיד</th>\n",
              "      <th>שס</th>\n",
              "      <th>תקוה חדשה</th>\n",
              "    </tr>\n",
              "  </thead>\n",
              "  <tbody>\n",
              "    <tr>\n",
              "      <th>First assumption</th>\n",
              "      <td>1.486969e-07</td>\n",
              "      <td>2.399681e-07</td>\n",
              "      <td>7.824036e-07</td>\n",
              "      <td>0.000004</td>\n",
              "      <td>2.246439e-07</td>\n",
              "      <td>2.752677e-07</td>\n",
              "      <td>3.836157e-07</td>\n",
              "      <td>1.064631e-07</td>\n",
              "      <td>2.051470e-08</td>\n",
              "      <td>0.000002</td>\n",
              "      <td>8.226436e-07</td>\n",
              "      <td>1.045271e-07</td>\n",
              "      <td>2.246845e-08</td>\n",
              "    </tr>\n",
              "    <tr>\n",
              "      <th>Second assumption</th>\n",
              "      <td>5.244159e-08</td>\n",
              "      <td>1.014647e-07</td>\n",
              "      <td>2.454178e-07</td>\n",
              "      <td>0.000003</td>\n",
              "      <td>1.833355e-07</td>\n",
              "      <td>3.673837e-07</td>\n",
              "      <td>3.586970e-07</td>\n",
              "      <td>6.124201e-08</td>\n",
              "      <td>4.198998e-08</td>\n",
              "      <td>0.000007</td>\n",
              "      <td>2.747823e-06</td>\n",
              "      <td>3.771038e-07</td>\n",
              "      <td>1.621327e-07</td>\n",
              "    </tr>\n",
              "    <tr>\n",
              "      <th>Third assumption</th>\n",
              "      <td>2.633910e-07</td>\n",
              "      <td>3.266100e-07</td>\n",
              "      <td>8.611276e-07</td>\n",
              "      <td>0.000008</td>\n",
              "      <td>2.791385e-07</td>\n",
              "      <td>3.325298e-07</td>\n",
              "      <td>3.192790e-07</td>\n",
              "      <td>6.131054e-08</td>\n",
              "      <td>1.984397e-08</td>\n",
              "      <td>0.000004</td>\n",
              "      <td>1.345040e-06</td>\n",
              "      <td>1.935752e-07</td>\n",
              "      <td>8.455007e-08</td>\n",
              "    </tr>\n",
              "  </tbody>\n",
              "</table>\n",
              "</div>"
            ],
            "text/plain": [
              "                          עבודה         ימינה  ...            שס     תקוה חדשה\n",
              "First assumption   1.486969e-07  2.399681e-07  ...  1.045271e-07  2.246845e-08\n",
              "Second assumption  5.244159e-08  1.014647e-07  ...  3.771038e-07  1.621327e-07\n",
              "Third assumption   2.633910e-07  3.266100e-07  ...  1.935752e-07  8.455007e-08\n",
              "\n",
              "[3 rows x 13 columns]"
            ]
          },
          "metadata": {},
          "execution_count": 21
        }
      ]
    },
    {
      "cell_type": "markdown",
      "metadata": {
        "id": "V3l71uV4cDN1"
      },
      "source": [
        " כעת נציג את הטבלה שמראה את ערכי האומד של השגיאה הריבועית לפי כל אחת מההנחות"
      ]
    },
    {
      "cell_type": "code",
      "metadata": {
        "colab": {
          "base_uri": "https://localhost:8080/",
          "height": 213
        },
        "id": "7iRRmZzdHuHx",
        "outputId": "cc485dbb-a4ff-447a-c4c4-2e7d1698e521"
      },
      "source": [
        "frames = [first_q_mse, second_q_mse, third_q_mse]\n",
        "df_mse = pd.concat(frames)\n",
        "df_mse.index = [\"First assumption\", \"Second assumption\", \"Third assumption\"]\n",
        "df_mse = df_mse.rename(columns = parties_dict_2021)\n",
        "df_mse"
      ],
      "execution_count": null,
      "outputs": [
        {
          "output_type": "execute_result",
          "data": {
            "text/html": [
              "<div>\n",
              "<style scoped>\n",
              "    .dataframe tbody tr th:only-of-type {\n",
              "        vertical-align: middle;\n",
              "    }\n",
              "\n",
              "    .dataframe tbody tr th {\n",
              "        vertical-align: top;\n",
              "    }\n",
              "\n",
              "    .dataframe thead th {\n",
              "        text-align: right;\n",
              "    }\n",
              "</style>\n",
              "<table border=\"1\" class=\"dataframe\">\n",
              "  <thead>\n",
              "    <tr style=\"text-align: right;\">\n",
              "      <th></th>\n",
              "      <th>עבודה</th>\n",
              "      <th>ימינה</th>\n",
              "      <th>יהדות התורה</th>\n",
              "      <th>הרשימה המשותפת</th>\n",
              "      <th>הציונות הדתית</th>\n",
              "      <th>כחול לבן</th>\n",
              "      <th>ישראל ביתנו</th>\n",
              "      <th>הליכוד</th>\n",
              "      <th>מרצ</th>\n",
              "      <th>רעם</th>\n",
              "      <th>יש עתיד</th>\n",
              "      <th>שס</th>\n",
              "      <th>תקוה חדשה</th>\n",
              "    </tr>\n",
              "  </thead>\n",
              "  <tbody>\n",
              "    <tr>\n",
              "      <th>First assumption</th>\n",
              "      <td>0.000039</td>\n",
              "      <td>0.000064</td>\n",
              "      <td>0.000146</td>\n",
              "      <td>0.001078</td>\n",
              "      <td>0.000052</td>\n",
              "      <td>0.000071</td>\n",
              "      <td>0.000076</td>\n",
              "      <td>5.329112e-07</td>\n",
              "      <td>0.000004</td>\n",
              "      <td>0.000640</td>\n",
              "      <td>0.000244</td>\n",
              "      <td>0.000025</td>\n",
              "      <td>0.000008</td>\n",
              "    </tr>\n",
              "    <tr>\n",
              "      <th>Second assumption</th>\n",
              "      <td>0.001108</td>\n",
              "      <td>0.000709</td>\n",
              "      <td>0.000381</td>\n",
              "      <td>0.001327</td>\n",
              "      <td>0.000065</td>\n",
              "      <td>0.000023</td>\n",
              "      <td>0.000046</td>\n",
              "      <td>1.963983e-04</td>\n",
              "      <td>0.000060</td>\n",
              "      <td>0.000031</td>\n",
              "      <td>0.003215</td>\n",
              "      <td>0.001228</td>\n",
              "      <td>0.000721</td>\n",
              "    </tr>\n",
              "    <tr>\n",
              "      <th>Third assumption</th>\n",
              "      <td>0.000024</td>\n",
              "      <td>0.000031</td>\n",
              "      <td>0.000232</td>\n",
              "      <td>0.000378</td>\n",
              "      <td>0.000025</td>\n",
              "      <td>0.000020</td>\n",
              "      <td>0.000086</td>\n",
              "      <td>1.302646e-06</td>\n",
              "      <td>0.000010</td>\n",
              "      <td>0.000441</td>\n",
              "      <td>0.000323</td>\n",
              "      <td>0.000045</td>\n",
              "      <td>0.000008</td>\n",
              "    </tr>\n",
              "  </tbody>\n",
              "</table>\n",
              "</div>"
            ],
            "text/plain": [
              "                      עבודה     ימינה  ...        שס  תקוה חדשה\n",
              "First assumption   0.000039  0.000064  ...  0.000025   0.000008\n",
              "Second assumption  0.001108  0.000709  ...  0.001228   0.000721\n",
              "Third assumption   0.000024  0.000031  ...  0.000045   0.000008\n",
              "\n",
              "[3 rows x 13 columns]"
            ]
          },
          "metadata": {},
          "execution_count": 24
        }
      ]
    },
    {
      "cell_type": "markdown",
      "metadata": {
        "id": "XqZrH9K8cRiD"
      },
      "source": [
        "ניתן לראות שכאשר אנו מבצעים את החישוב לפי ההנחה השניה ישנן מפלגות רבות שנפגעו כתוצאה מהחישוב  ולעומת זאת ישנם מפלגות שהרוויחו.\n",
        "תוצאה זו היא צפויה מכיוון שהנחנו באופן שרירותי שעבור מפלגות מסויימות יש סיכוי פחות גבוה שהתומכים יגיעו להצביע ולכן ממילא אנו צופים שיש להם פחות אחוזי תמיכה.  כך למשל ניתן לראות שמפלגות העבודה וימינה קיבלו משמעותית פחות אחוזי תמיכה בסימולציה של ההנחה השניה לעומת הסימולציות האחרות.\n",
        "\n",
        "בנוסף ניתן להבחין כי התוצאות של הסימולציה לפי ההנחה הראשונה והתוצאות לפי ההנחה השלישית הן דומות. דבר זה נובע מכך שההנחה השלישית מגרילה בצורה אקראית ואחידה את ההסתברויות בין כל המפלגות אך באופן שונה בין כל עיר.\n",
        "לכן אנו נצפה שבממוצע כל אחת מהמפלגות תיפגע באופן דומה למפלגות האחרות ולא תהיה מפלגה שתקבל הסתברויות המפלות לראה בצורה קיצונית לעומת האחרות. לפיכך התוצאות שאנו רואים לפי הנחה זו דומות לתוצאות שבהנחה הראשונה שמדמות בצורה הטובה ביותר מבין שלושת ההנחות את תוצאות האמת."
      ]
    },
    {
      "cell_type": "code",
      "metadata": {
        "id": "gj_e2wIgt4QG"
      },
      "source": [
        "def party_bar_fix(real_q, q, p, q_sd, p_sd):\n",
        "    width = 0.25\n",
        "    votes = df_2021_parties_votes_pass  # total votes for each party\n",
        "    n = len(votes)  # number of parties\n",
        "    names = votes.keys()\n",
        "    rev_names = [parties_dict_2021[name][::-1] for name in list(names)]\n",
        "    fig, ax = plt.subplots()\n",
        "\n",
        "    realq_bar = ax.bar(np.arange(n), list(real_q), width, color='g')\n",
        "    adjq_bar = ax.bar(np.arange(n)+ width, list(q.loc[0,names]),yerr= p_sd , align='center', alpha=0.5, ecolor='black', capsize=5, width=0.25, color='r')\n",
        "    adj2q_bar = ax.bar(np.arange(n)+ 2*width, list(p.loc[0,names]), yerr= q_sd , align='center', alpha=0.5, ecolor='black', capsize=5, width=0.25, color='b')\n",
        "\n",
        "    ax.set_ylabel('% of votes')\n",
        "    ax.set_xlabel('Parties Names')\n",
        "    ax.set_title('% of votes per party (simulation)')\n",
        "    ax.set_xticks(np.arange(n))\n",
        "    ax.set_xticklabels(rev_names, rotation=-90)\n",
        "    ax.legend((realq_bar, adjq_bar, adj2q_bar), ('real q', 'hat q', 'p'))\n",
        "\n",
        "    plt.show()\n",
        "\n",
        "    return fig, ax,\n"
      ],
      "execution_count": null,
      "outputs": []
    },
    {
      "cell_type": "code",
      "metadata": {
        "colab": {
          "base_uri": "https://localhost:8080/",
          "height": 401
        },
        "id": "Nn6ZLNUXBHux",
        "outputId": "36fcac00-ffe4-4094-c970-81d2389fb6cb"
      },
      "source": [
        "first_q_sd = np.sqrt(df_var.iloc[0,:])\n",
        "party_bar_fix(real_q, first_q_mean, first_p_mean, first_q_sd, first_p_sd)"
      ],
      "execution_count": null,
      "outputs": [
        {
          "output_type": "display_data",
          "data": {
            "image/png": "[encoded data removed]",
            "text/plain": [
              "<Figure size 432x288 with 1 Axes>"
            ]
          },
          "metadata": {
            "needs_background": "light"
          }
        },
        {
          "output_type": "execute_result",
          "data": {
            "text/plain": [
              "(<Figure size 432x288 with 1 Axes>,\n",
              " <matplotlib.axes._subplots.AxesSubplot at 0x7f9f782c3b90>)"
            ]
          },
          "metadata": {},
          "execution_count": 253
        }
      ]
    },
    {
      "cell_type": "markdown",
      "metadata": {
        "id": "JHfXud7cMjck"
      },
      "source": [
        "BAR 1: When we take the original data and based on it we build the ratio to each indicator and each party then we can observe that the distribution is almost identical to all three values."
      ]
    },
    {
      "cell_type": "code",
      "metadata": {
        "colab": {
          "base_uri": "https://localhost:8080/",
          "height": 401
        },
        "id": "3oMezRB5BJy3",
        "outputId": "5a137acf-5f47-45e2-b6ad-f288901c53b4"
      },
      "source": [
        "second_q_sd = np.sqrt(df_var.iloc[1,:])\n",
        "party_bar_fix(real_q, second_q_mean, second_p_mean, second_q_sd, second_p_sd)"
      ],
      "execution_count": null,
      "outputs": [
        {
          "output_type": "display_data",
          "data": {
            "image/png": "[encoded data removed]",
            "text/plain": [
              "<Figure size 432x288 with 1 Axes>"
            ]
          },
          "metadata": {
            "needs_background": "light"
          }
        },
        {
          "output_type": "execute_result",
          "data": {
            "text/plain": [
              "(<Figure size 432x288 with 1 Axes>,\n",
              " <matplotlib.axes._subplots.AxesSubplot at 0x7f9f781c6c50>)"
            ]
          },
          "metadata": {},
          "execution_count": 254
        }
      ]
    },
    {
      "cell_type": "markdown",
      "metadata": {
        "id": "18MQ8dBWPZow"
      },
      "source": [
        "BAR 2: In the second case, we defined the turnout result for every party as we wished,  we can see that the P and Q-Hat values are higher than the original Q for the parties that received a relatively high turnout.\n",
        "This does make sense because in advance these parties lean upward in the voting frequency in accordance with how we determined the ratio in the second method, compared to other parties."
      ]
    },
    {
      "cell_type": "code",
      "metadata": {
        "colab": {
          "base_uri": "https://localhost:8080/",
          "height": 401
        },
        "id": "54iMGsRnBKiL",
        "outputId": "5b1c1966-fe41-4eaa-bec5-728653871b61"
      },
      "source": [
        "third_q_sd = np.sqrt(df_var.iloc[2,:])\n",
        "party_bar_fix(real_q, third_q_mean, third_p_mean, third_q_sd, third_p_sd)"
      ],
      "execution_count": null,
      "outputs": [
        {
          "output_type": "display_data",
          "data": {
            "image/png": "[encoded data removed]",
            "text/plain": [
              "<Figure size 432x288 with 1 Axes>"
            ]
          },
          "metadata": {
            "needs_background": "light"
          }
        },
        {
          "output_type": "execute_result",
          "data": {
            "text/plain": [
              "(<Figure size 432x288 with 1 Axes>,\n",
              " <matplotlib.axes._subplots.AxesSubplot at 0x7f9f780a13d0>)"
            ]
          },
          "metadata": {},
          "execution_count": 255
        }
      ]
    },
    {
      "cell_type": "markdown",
      "metadata": {
        "id": "TXpl930vQiUB"
      },
      "source": [
        "BAR 3: According to the third method it can be seen that the results of Pi and Q-hat are really close to reality, since according to this method the ratio is divided randomly among parties and thus, each party is less deprived than in the second method, where we got a specific prevalence for each party.\n",
        "\n",
        "\n",
        "\n",
        "\n",
        "\n",
        "Comparison of methods: We can see that on all three graphs we got relatively low variations, because we made 50 random simulation from the same distribution in each of the simulations.\n",
        "\n",
        "In our opinion, the best simulation method (which is the closest to reality) is the first method by which we relied on the ratio from the real choices. Regarding second method, we noticed that the results of it are far away from the reality since in this method we divided the ratio as we wished and therefore each party received a specific ratio, which lead to deprived/prejudiced results. The third method is closer to reality because according to this method the ratio that each party received was randomly divided so that each locality receives the same values ​​for each party, and therefore in overall view there is equality between the parties and no party was discriminated as a result of the dispute."
      ]
    },
    {
      "cell_type": "code",
      "metadata": {
        "colab": {
          "base_uri": "https://localhost:8080/"
        },
        "id": "3Qr0cnemY_cI",
        "outputId": "e5c51ee9-527b-4359-9d9e-bcd4c66a419b"
      },
      "source": [
        "%%shell\n",
        "jupyter nbconvert --to html ///content/Lab3.ipynb"
      ],
      "execution_count": null,
      "outputs": [
        {
          "output_type": "stream",
          "name": "stdout",
          "text": [
            "[NbConvertApp] Converting notebook ///content/Lab3.ipynb to html\n",
            "[NbConvertApp] Writing 406401 bytes to ///content/Lab3.html\n"
          ]
        },
        {
          "output_type": "execute_result",
          "data": {
            "text/plain": [
              ""
            ]
          },
          "metadata": {},
          "execution_count": 256
        }
      ]
    }
  ]
}