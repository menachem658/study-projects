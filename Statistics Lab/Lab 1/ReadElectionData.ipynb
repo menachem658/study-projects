{
  "nbformat": 4,
  "nbformat_minor": 0,
  "metadata": {
    "colab": {
      "name": "ReadElectionData.ipynb",
      "provenance": [],
      "collapsed_sections": []
    },
    "kernelspec": {
      "display_name": "Python 3",
      "language": "python",
      "name": "python3"
    },
    "language_info": {
      "codemirror_mode": {
        "name": "ipython",
        "version": 3
      },
      "file_extension": ".py",
      "mimetype": "text/x-python",
      "name": "python",
      "nbconvert_exporter": "python",
      "pygments_lexer": "ipython3",
      "version": "3.7.4"
    }
  },
  "cells": [
    {
      "cell_type": "markdown",
      "metadata": {
        "id": "lyQ45Phps6Z6"
      },
      "source": [
        "# **Israel Elections Data Analysis**\n",
        "1.  Idan Keipour 315355537\n",
        "2.  Menachem Sokolik 314696972\n",
        "3.  Maria Moldvova 345232821"
      ]
    },
    {
      "cell_type": "markdown",
      "metadata": {
        "id": "zazi6GUG7Fa9"
      },
      "source": [
        "*code form the class notebook*"
      ]
    },
    {
      "cell_type": "code",
      "metadata": {
        "id": "iC0NlMvHzL1L"
      },
      "source": [
        "# Import modules \n",
        "import numpy as np  # a module for working with numerical array \n",
        "import pandas as pd  # a module for working with data-frames\n",
        "import statsmodels.api as sm  # a module for statistical modelling (e.g. regression analysis)\n",
        "import io"
      ],
      "execution_count": 157,
      "outputs": []
    },
    {
      "cell_type": "code",
      "metadata": {
        "id": "979QQzUi9_kc"
      },
      "source": [
        "df_2021_raw = pd.read_csv('votes per city 2021.csv',  encoding = 'iso-8859-8', index_col='שם ישוב')\n",
        "df_2021 = df_2021_raw.drop('סמל ועדה', axis=1) # new column added in Sep 2021\n",
        "df_2021 = df_2021[df_2021.columns[5:-1]] # removing \"metadata\" columns"
      ],
      "execution_count": 158,
      "outputs": []
    },
    {
      "cell_type": "code",
      "metadata": {
        "id": "AEKSNxTF7D6u"
      },
      "source": [
        "# Compute votes share only for parties above a certain threshold \n",
        "def parties_votes_percents(df, thresh):\n",
        "    par = df.sum().div(df.sum().sum()).sort_values(ascending=False)\n",
        "    return par[par > thresh]"
      ],
      "execution_count": 159,
      "outputs": []
    },
    {
      "cell_type": "markdown",
      "metadata": {
        "id": "mIvpo6eDuwbC"
      },
      "source": [
        "*Question 1.*\n",
        "\n",
        "*ploting the histogram:*\n",
        "\n"
      ]
    },
    {
      "cell_type": "code",
      "metadata": {
        "id": "YJl-8DgnyxmI",
        "colab": {
          "base_uri": "https://localhost:8080/",
          "height": 313
        },
        "outputId": "a6aac224-fc14-4159-c223-7e64636f2aad"
      },
      "source": [
        "from matplotlib import pyplot as plt\n",
        "\n",
        "df_2021_Invalid = df_2021_raw\n",
        "df_2021_Invalid['Invalid Votes Percent'] = (df_2021_raw['פסולים']/df_2021_raw['מצביעים'])*100\n",
        "plt.hist(df_2021_Invalid['Invalid Votes Percent'], bins = 50)\n",
        "plt.xlabel('Percent of Invalid Votes')\n",
        "plt.ylabel('Frequency')\n",
        "plt.title('Invalid Votes per City 2021')"
      ],
      "execution_count": 160,
      "outputs": [
        {
          "output_type": "execute_result",
          "data": {
            "text/plain": [
              "Text(0.5, 1.0, 'Invalid Votes per City 2021')"
            ]
          },
          "metadata": {},
          "execution_count": 160
        },
        {
          "output_type": "display_data",
          "data": {
            "image/png": "[encoded data removed]",
            "text/plain": [
              "<Figure size 432x288 with 1 Axes>"
            ]
          },
          "metadata": {
            "needs_background": "light"
          }
        }
      ]
    },
    {
      "cell_type": "markdown",
      "metadata": {
        "id": "GeURKMKdH7NO"
      },
      "source": [
        "ניתן לראות שאחוז הקולות הפסולים במרבית מהיישובים הוא אפסי"
      ]
    },
    {
      "cell_type": "markdown",
      "metadata": {
        "id": "yN6gtUJYtdRN"
      },
      "source": [
        "*:מציאת שלושת הערים בעלי אחוז הקולות הפסולים הגבוה ביותר*"
      ]
    },
    {
      "cell_type": "code",
      "metadata": {
        "id": "ycjv7jkW5pit",
        "colab": {
          "base_uri": "https://localhost:8080/",
          "height": 175
        },
        "outputId": "0716f2c1-db98-475d-9021-fca799b702a5"
      },
      "source": [
        "top_3 = df_2021_Invalid.nlargest(3, 'Invalid Votes Percent')\n",
        "round(top_3[['Invalid Votes Percent']],3)"
      ],
      "execution_count": 161,
      "outputs": [
        {
          "output_type": "execute_result",
          "data": {
            "text/html": [
              "<div>\n",
              "<style scoped>\n",
              "    .dataframe tbody tr th:only-of-type {\n",
              "        vertical-align: middle;\n",
              "    }\n",
              "\n",
              "    .dataframe tbody tr th {\n",
              "        vertical-align: top;\n",
              "    }\n",
              "\n",
              "    .dataframe thead th {\n",
              "        text-align: right;\n",
              "    }\n",
              "</style>\n",
              "<table border=\"1\" class=\"dataframe\">\n",
              "  <thead>\n",
              "    <tr style=\"text-align: right;\">\n",
              "      <th></th>\n",
              "      <th>Invalid Votes Percent</th>\n",
              "    </tr>\n",
              "    <tr>\n",
              "      <th>שם ישוב</th>\n",
              "      <th></th>\n",
              "    </tr>\n",
              "  </thead>\n",
              "  <tbody>\n",
              "    <tr>\n",
              "      <th>סואעד חמרייה</th>\n",
              "      <td>3.774</td>\n",
              "    </tr>\n",
              "    <tr>\n",
              "      <th>ניין</th>\n",
              "      <td>3.649</td>\n",
              "    </tr>\n",
              "    <tr>\n",
              "      <th>מאיר שפיה</th>\n",
              "      <td>3.448</td>\n",
              "    </tr>\n",
              "  </tbody>\n",
              "</table>\n",
              "</div>"
            ],
            "text/plain": [
              "              Invalid Votes Percent\n",
              "שם ישוב                            \n",
              "סואעד חמרייה                  3.774\n",
              "ניין                          3.649\n",
              "מאיר שפיה                     3.448"
            ]
          },
          "metadata": {},
          "execution_count": 161
        }
      ]
    },
    {
      "cell_type": "markdown",
      "metadata": {
        "id": "G5NAD0UK2Cbv"
      },
      "source": [
        "*Question 2.*"
      ]
    },
    {
      "cell_type": "code",
      "metadata": {
        "id": "c_Gvxv9p0dFA"
      },
      "source": [
        "# Bar plot for a party, only showing values above a certain threshold\n",
        "def party_bar_pass(df, thresh, city_1, city_2):\n",
        "    width = 0.3  # set column width \n",
        "    votes = parties_votes_percents(df, thresh)  # total votes for each party\n",
        "    n = len(votes)  # number of parties\n",
        "    names = votes.keys()\n",
        "\n",
        "    rev_names = [name[::-1] for name in list(names)]\n",
        "    fig, ax = plt.subplots()  # plt.subplots()\n",
        "\n",
        "    city_1_votes = df.loc[city_1,names]/df.loc[city_1,names].sum()\n",
        "    city_2_votes = df.loc[city_2,names]/df.loc[city_2,names].sum()\n",
        "    city_1_bar = ax.bar(np.arange(n), list(city_1_votes), width, color='g')\n",
        "    city_2_bar = ax.bar(np.arange(n)+width, list(city_2_votes), width, color='b')\n",
        "\n",
        "    ax.set_ylabel('Votes percent')\n",
        "    ax.set_xlabel('Parties Names')\n",
        "    ax.set_title('Comparing Votes percent per party 2021 between two cities')\n",
        "    ax.set_xticks(np.arange(n))\n",
        "    ax.set_xticklabels(rev_names)\n",
        "    ax.legend((city_1_bar[0] , city_2_bar[0]), (city_1[::-1], city_2[::-1]))\n",
        "    plt.show()\n",
        "\n",
        "    return fig, ax  "
      ],
      "execution_count": 162,
      "outputs": []
    },
    {
      "cell_type": "markdown",
      "metadata": {
        "id": "4nr_rTb9t8N2"
      },
      "source": [
        "*Finding the large cities that are ovre 50,000 voters.*"
      ]
    },
    {
      "cell_type": "code",
      "metadata": {
        "id": "RWKCBOtoqzIx"
      },
      "source": [
        "#large_cities = df_2021_raw.nlargest(6, ['מצביעים'])"
      ],
      "execution_count": 163,
      "outputs": []
    },
    {
      "cell_type": "markdown",
      "metadata": {
        "id": "Vx3uFyD5yufE"
      },
      "source": [
        "*השוואה בין שתי ערים בעלי מספר מצביעים גבוה מ-50,000*\n",
        "\n"
      ]
    },
    {
      "cell_type": "code",
      "metadata": {
        "id": "P4gO2us8xPkz",
        "colab": {
          "base_uri": "https://localhost:8080/",
          "height": 330
        },
        "outputId": "31dea002-e1d4-4376-b46a-b6997f537ed8"
      },
      "source": [
        "party_bar_pass(df_2021, 0.0325,'ראשון לציון','פתח תקווה')"
      ],
      "execution_count": 164,
      "outputs": [
        {
          "output_type": "display_data",
          "data": {
            "image/png": "[encoded data removed]",
            "text/plain": [
              "<Figure size 432x288 with 1 Axes>"
            ]
          },
          "metadata": {
            "needs_background": "light"
          }
        },
        {
          "output_type": "execute_result",
          "data": {
            "text/plain": [
              "(<Figure size 432x288 with 1 Axes>,\n",
              " <matplotlib.axes._subplots.AxesSubplot at 0x7f4bee593c90>)"
            ]
          },
          "metadata": {},
          "execution_count": 164
        }
      ]
    },
    {
      "cell_type": "markdown",
      "metadata": {
        "id": "Sqi3xxueuzhr"
      },
      "source": [
        "*השוואה בין שתי ערים בעלי מספר מצביעים בין 5000 ל- 50,000*\n",
        "\n"
      ]
    },
    {
      "cell_type": "code",
      "metadata": {
        "id": "X__wsaqUysWL"
      },
      "source": [
        "df_2021_Medium_cities = df_2021_raw[(df_2021_raw['מצביעים'] >= 5000) & (df_2021_raw['מצביעים'] < 50000)]\n",
        "# df_2021_Medium_cities.sort_values('מצביעים',ascending=False)\n"
      ],
      "execution_count": 165,
      "outputs": []
    },
    {
      "cell_type": "code",
      "metadata": {
        "id": "44i5ogQ3p4ij",
        "colab": {
          "base_uri": "https://localhost:8080/",
          "height": 330
        },
        "outputId": "aed949a5-c37f-45f9-bdc6-df4b02568356"
      },
      "source": [
        "party_bar_pass(df_2021, 0.0325,'רעננה','חדרה')"
      ],
      "execution_count": 166,
      "outputs": [
        {
          "output_type": "display_data",
          "data": {
            "image/png": "[encoded data removed]",
            "text/plain": [
              "<Figure size 432x288 with 1 Axes>"
            ]
          },
          "metadata": {
            "needs_background": "light"
          }
        },
        {
          "output_type": "execute_result",
          "data": {
            "text/plain": [
              "(<Figure size 432x288 with 1 Axes>,\n",
              " <matplotlib.axes._subplots.AxesSubplot at 0x7f4bee4e3c10>)"
            ]
          },
          "metadata": {},
          "execution_count": 166
        }
      ]
    },
    {
      "cell_type": "markdown",
      "metadata": {
        "id": "CJXAYzzMvkRc"
      },
      "source": [
        "*השוואה בין שתי ערים בעלי מספר מצביעים הקטן מ-5,000*"
      ]
    },
    {
      "cell_type": "code",
      "metadata": {
        "id": "lzV6XbPlGEV5"
      },
      "source": [
        "df_2021_Small_towns = df_2021_raw[(df_2021_raw['מצביעים'] < 5000)]\n",
        "# df_2021_Small_towns.sort_values('מצביעים', ascending=False)"
      ],
      "execution_count": 167,
      "outputs": []
    },
    {
      "cell_type": "code",
      "metadata": {
        "id": "Dw9wawP1r0Yc",
        "colab": {
          "base_uri": "https://localhost:8080/",
          "height": 330
        },
        "outputId": "7c5341f9-6d4d-4126-882b-2061f7d216ed"
      },
      "source": [
        "party_bar_pass(df_2021, 0.0325,'ירוחם','חצור הגלילית')"
      ],
      "execution_count": 168,
      "outputs": [
        {
          "output_type": "display_data",
          "data": {
            "image/png": "[encoded data removed]",
            "text/plain": [
              "<Figure size 432x288 with 1 Axes>"
            ]
          },
          "metadata": {
            "needs_background": "light"
          }
        },
        {
          "output_type": "execute_result",
          "data": {
            "text/plain": [
              "(<Figure size 432x288 with 1 Axes>,\n",
              " <matplotlib.axes._subplots.AxesSubplot at 0x7f4bee440190>)"
            ]
          },
          "metadata": {},
          "execution_count": 168
        }
      ]
    },
    {
      "cell_type": "markdown",
      "metadata": {
        "id": "-r1FPO-WPRAY"
      },
      "source": [
        "תחילה יצרנו פונקציה אשר מקבלת את הדטאה ואת שמות הערים אשר מציגה באופן גרפי את השוואה בין השתים, פונקציה זו נבנתה על בסיס הפונקציה אשר ראינו בכיתה.\n",
        "לאחר מכן, בעזרת חיתוך הדטאה על פי אותן אמות מידה שנתבקשנו בשאלה ומייונם קיבלנו את הערים הזהות לפי שיעור הצבעה, לא הראנו כאן את טבלאות הנתונים היות ואין רלוונטי פרט לכן לשמות הערים."
      ]
    },
    {
      "cell_type": "markdown",
      "metadata": {
        "id": "_KNh2P6MwLTN"
      },
      "source": [
        "ניתן לראות שבאופן כללי כאשר מתבוננים בהשוואה בין שתי ערים עם כמות מצביעים דומה- ההצבעה עבור רוב המפלגות היא מסדר גודל דומה.\n",
        "המפלגה שבולטת באופן חריג היא מפלגת יהדות התורה. ההבדל נובע מכך שזו מפלגה סקטוריאלית המזוהה עם פלג בציבור החרדי שמאופיין במגורים סמוכים של חברי הקהילה. לכן ייתכנו ערים בהם יהיה שיעור חרדים נמוך (ולפיכך שיעור הצבעה נמוך למפלגת יהדות התורה) וערים בהם שיעור החרדים הוא גבוה.\n",
        "\n",
        "בנוסף ניתן לראות שלמרות שמספר התושבים בערים חדרה ורעננה הוא דומה, ישנו פער מסוים בין מספר המצביעים למפלגת הליכוד בין הערים הללו.\n",
        "ייתכן שזה נובע מכך שרעננה מאופיינת באוכלוסיה בורגנית יותר המזוהה עם מפלגות השמאל-מרכז אשר מסביר את השיעור הצבעה הגדול יותר למפלגות אלו, לעומת חדרה שזו עיר פרפיפרילית אשר אנשיה מזוהים עם מפלגה ימנית סקטוריאליות כמו הליכוד ש\"ס וישראל ביתינו.\n"
      ]
    },
    {
      "cell_type": "markdown",
      "metadata": {
        "id": "zcNosvXaweyy"
      },
      "source": [
        "*Question 3*"
      ]
    },
    {
      "cell_type": "code",
      "metadata": {
        "id": "3wVXPZgk5PO1"
      },
      "source": [
        "# Calculation of the distribution of the national vote.\n",
        "Distribution_of_the_national_vote = df_2021.sum().div(df_2021_raw['כשרים'].sum())\n",
        "\n",
        "# Creating to dataframe.\n",
        "cities = pd.DataFrame()\n",
        "difference = pd.DataFrame()\n",
        "\n",
        "# Calculation of the distribution of vote each city. \n",
        "for i in list(df_2021.columns):\n",
        "  cities[i] = df_2021[i].div(df_2021_raw['כשרים'])\n",
        "  difference[i] = (cities.loc[:,i] - Distribution_of_the_national_vote[i])**2\n",
        "\n",
        "difference_sum = difference.sum(1) # sum for difference by cities (the rowname).\n",
        "\n",
        "# to clean non-cities votes.\n",
        "difference_sum = difference_sum.drop('מעטפות חיצוניות') "
      ],
      "execution_count": 169,
      "outputs": []
    },
    {
      "cell_type": "markdown",
      "metadata": {
        "id": "1tk6yflIRQ0H"
      },
      "source": [
        "תחילה נחשב את שיעור הצבעה בישראל לכל מפלגה, לאחר מכן מחשבים את שיעור לכל מפלגה לפי עיר ועיר.\n",
        "נבצע חישוב של המרחק הריבועים לכל עיר ועיר ביחס לשיעור הארצי כפי שנתבקשנו בהוראות השאלה. "
      ]
    },
    {
      "cell_type": "code",
      "metadata": {
        "id": "whVAdSPvlA6I"
      },
      "source": [
        "# Bar plot for a party, only showing values above a certain threshold\n",
        "def party_bar(df, thresh, city_1, city_2):\n",
        "    width = 0.3  # set column width \n",
        "    votes = parties_votes_percents(df, thresh)  # total votes for each party\n",
        "    n = len(votes)  # number of parties\n",
        "    names = votes.keys()\n",
        "    rev_names = [name[::-1] for name in list(names)]\n",
        "    fig, ax = plt.subplots()  # plt.subplots()\n",
        "    city_votes_1 = df.loc[city_1,names] / df.loc[city_1,names].sum()\n",
        "    city_votes_2 = df.loc[city_2,names] / df.loc[city_2,names].sum()\n",
        "\n",
        "    all_bar = ax.bar(np.arange(n), list(votes), 0.25, color='black')\n",
        "    city_bar_1 = ax.bar(np.arange(n)+0.25, list(city_votes_1), 0.25, color='g')\n",
        "    city_bar_2 = ax.bar(np.arange(n)+0.5, list(city_votes_2), 0.25, color='b')\n",
        "\n",
        "    ax.set_ylabel('Votes percent')\n",
        "    ax.set_xlabel('Parties Names')\n",
        "    ax.set_title('Comparing national Votes percent per party 2021 to two cities')\n",
        "    ax.set_xticks(np.arange(n))\n",
        "    ax.set_xticklabels(rev_names, rotation = 90)\n",
        "    ax.legend((all_bar[0], city_bar_1[0], city_bar_2[0]), ('Israel', city_1[::-1], city_2[::-1]))\n",
        "    plt.show()\n",
        "\n",
        "    return fig, ax"
      ],
      "execution_count": 170,
      "outputs": []
    },
    {
      "cell_type": "markdown",
      "metadata": {
        "id": "ONiWBWkc5q_y"
      },
      "source": [
        "*The two cities with the lowest gap between israel distribution*"
      ]
    },
    {
      "cell_type": "code",
      "metadata": {
        "id": "6k9pu9KS0H59",
        "colab": {
          "base_uri": "https://localhost:8080/"
        },
        "outputId": "d5731582-7409-4335-8559-ff446f1d553f"
      },
      "source": [
        "# to get the smallest cite in difference.\n",
        "difference_sum.nsmallest(2)"
      ],
      "execution_count": 171,
      "outputs": [
        {
          "output_type": "execute_result",
          "data": {
            "text/plain": [
              "שם ישוב\n",
              "רחובות       0.006598\n",
              "פתח תקווה    0.008164\n",
              "dtype: float64"
            ]
          },
          "metadata": {},
          "execution_count": 171
        }
      ]
    },
    {
      "cell_type": "code",
      "metadata": {
        "id": "xaJrY6Ul2Iz4",
        "colab": {
          "base_uri": "https://localhost:8080/",
          "height": 341
        },
        "outputId": "2f5364a1-09bb-40a1-c539-611aa4c99a4a"
      },
      "source": [
        "party_bar(df_2021, 0, 'רחובות', 'פתח תקווה')"
      ],
      "execution_count": 172,
      "outputs": [
        {
          "output_type": "display_data",
          "data": {
            "image/png": "[encoded data removed]",
            "text/plain": [
              "<Figure size 432x288 with 1 Axes>"
            ]
          },
          "metadata": {
            "needs_background": "light"
          }
        },
        {
          "output_type": "execute_result",
          "data": {
            "text/plain": [
              "(<Figure size 432x288 with 1 Axes>,\n",
              " <matplotlib.axes._subplots.AxesSubplot at 0x7f4bee381f10>)"
            ]
          },
          "metadata": {},
          "execution_count": 172
        }
      ]
    },
    {
      "cell_type": "markdown",
      "metadata": {
        "id": "gyGcU_cPRJR-"
      },
      "source": [
        "ניתן לראות כי הערים פתח תקווה ורחובות הם בעלי המרחק הריבועי הקטן ביותר, על כן מיצגים במידת רבה את השיעור הארצי לכל מפלגה ומפלגה.\n",
        "\n",
        "ניתן להניח כי היות וערים אלו הטרוגניות באופן יחסי על כן ייצגו את התפלגות הארצי, אם כי אינן משקפות את שיעור הצבעה לפלגות הערביות. היות ואינן מאוכלסות עם מגזר זה ברובו, אשר מסביר במידת מה את ההפרש בין תוצאות הארצי.\n"
      ]
    },
    {
      "cell_type": "markdown",
      "metadata": {
        "id": "5iErzHIQ6EN0"
      },
      "source": [
        "*The two cities with the highest gap between israel distribution*"
      ]
    },
    {
      "cell_type": "code",
      "metadata": {
        "id": "ha9eSnN94Zya",
        "colab": {
          "base_uri": "https://localhost:8080/"
        },
        "outputId": "cbe7700b-c413-4cb1-c42f-64755a0bfa62"
      },
      "source": [
        "# to get the latgest cite in difference.\n",
        "difference_sum.nlargest(2)"
      ],
      "execution_count": 173,
      "outputs": [
        {
          "output_type": "execute_result",
          "data": {
            "text/plain": [
              "שם ישוב\n",
              "ביר הדאג    0.961703\n",
              "נווה        0.959133\n",
              "dtype: float64"
            ]
          },
          "metadata": {},
          "execution_count": 173
        }
      ]
    },
    {
      "cell_type": "code",
      "metadata": {
        "id": "2b2LGe6c4jgS",
        "colab": {
          "base_uri": "https://localhost:8080/",
          "height": 341
        },
        "outputId": "a6ddaa79-0b8d-4cbb-9166-4520bf653c94"
      },
      "source": [
        "party_bar(df_2021, 0, 'ביר הדאג', 'נווה')"
      ],
      "execution_count": 174,
      "outputs": [
        {
          "output_type": "display_data",
          "data": {
            "image/png": "[encoded data removed]",
            "text/plain": [
              "<Figure size 432x288 with 1 Axes>"
            ]
          },
          "metadata": {
            "needs_background": "light"
          }
        },
        {
          "output_type": "execute_result",
          "data": {
            "text/plain": [
              "(<Figure size 432x288 with 1 Axes>,\n",
              " <matplotlib.axes._subplots.AxesSubplot at 0x7f4bee115ed0>)"
            ]
          },
          "metadata": {},
          "execution_count": 174
        }
      ]
    },
    {
      "cell_type": "markdown",
      "metadata": {
        "id": "CnsMHsVY5gIV"
      },
      "source": [
        "ניתן לראות שהערים בהם המרחק הריבועי הוא הגבוה ביותר מאופיינות בכך שהאוכלוסיה בהן אינה מגוונת. היישוב נווה הוא יישוב שמאוכלס באופן מובהק ע\"י אוכלוסיה ציונית דתית (זהו יישוב שהוקם ע\"י מפוני גוש קטיף) ולכן ההצבעה למפלגה המייצגת את האוכלוסיה הזו זכתה לרוב מוחלט של הקולות ביישוב.\n",
        "באופן זהה , ניתן לראות כי כפר בית הדאג יצביעו למפלגת רעם היות והתושבים הינם בדואים ויש להם יצוג רב במפלגה זו. "
      ]
    }
  ]
}